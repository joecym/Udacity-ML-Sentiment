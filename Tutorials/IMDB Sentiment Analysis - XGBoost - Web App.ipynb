{
 "cells": [
  {
   "cell_type": "markdown",
   "metadata": {},
   "source": [
    "# Sentiment Analysis Web App\n",
    "\n",
    "_Deep Learning Nanodegree Program | Deployment_\n",
    "\n",
    "---\n",
    "\n",
    "In this notebook we will use Amazon's SageMaker service to construct a random tree model to predict the sentiment of a movie review. In addition, we will deploy this model to an endpoint and construct a very simple web app which will interact with our model's deployed endpoint.\n",
    "\n",
    "## General Outline\n",
    "\n",
    "Typically, when using a notebook instance with SageMaker, you will proceed through the following steps. Of course, not every step will need to be done with each project. Also, there is quite a lot of room for variation in many of the steps, as you will see throughout these lessons.\n",
    "\n",
    "1. Download or otherwise retrieve the data.\n",
    "2. Process / Prepare the data.\n",
    "3. Upload the processed data to S3.\n",
    "4. Train a chosen model.\n",
    "5. Test the trained model (typically using a batch transform job).\n",
    "6. Deploy the trained model.\n",
    "7. Use the deployed model.\n",
    "\n",
    "In this notebook we will progress through each of the steps above. We will also see that the final step, using the deployed model, can be quite challenging."
   ]
  },
  {
   "cell_type": "markdown",
   "metadata": {},
   "source": [
    "## Step 1: Downloading the data\n",
    "\n",
    "The dataset we are going to use is very popular among researchers in Natural Language Processing, usually referred to as the [IMDb dataset](http://ai.stanford.edu/~amaas/data/sentiment/). It consists of movie reviews from the website [imdb.com](http://www.imdb.com/), each labeled as either '**pos**itive', if the reviewer enjoyed the film, or '**neg**ative' otherwise.\n",
    "\n",
    "> Maas, Andrew L., et al. [Learning Word Vectors for Sentiment Analysis](http://ai.stanford.edu/~amaas/data/sentiment/). In _Proceedings of the 49th Annual Meeting of the Association for Computational Linguistics: Human Language Technologies_. Association for Computational Linguistics, 2011.\n",
    "\n",
    "We begin by using some Jupyter Notebook magic to download and extract the dataset."
   ]
  },
  {
   "cell_type": "code",
   "execution_count": 4,
   "metadata": {},
   "outputs": [
    {
     "name": "stdout",
     "output_type": "stream",
     "text": [
      "mkdir: cannot create directory ‘../data’: File exists\n",
      "--2020-07-20 15:51:43--  http://ai.stanford.edu/~amaas/data/sentiment/aclImdb_v1.tar.gz\n",
      "Resolving ai.stanford.edu (ai.stanford.edu)... 171.64.68.10\n",
      "Connecting to ai.stanford.edu (ai.stanford.edu)|171.64.68.10|:80... connected.\n",
      "HTTP request sent, awaiting response... 200 OK\n",
      "Length: 84125825 (80M) [application/x-gzip]\n",
      "Saving to: ‘../data/aclImdb_v1.tar.gz’\n",
      "\n",
      "../data/aclImdb_v1. 100%[===================>]  80.23M  52.0MB/s    in 1.5s    \n",
      "\n",
      "2020-07-20 15:51:44 (52.0 MB/s) - ‘../data/aclImdb_v1.tar.gz’ saved [84125825/84125825]\n",
      "\n"
     ]
    }
   ],
   "source": [
    "%mkdir ../data\n",
    "!wget -O ../data/aclImdb_v1.tar.gz http://ai.stanford.edu/~amaas/data/sentiment/aclImdb_v1.tar.gz\n",
    "!tar -zxf ../data/aclImdb_v1.tar.gz -C ../data"
   ]
  },
  {
   "cell_type": "markdown",
   "metadata": {},
   "source": [
    "## Step 2: Preparing and Processing the data\n",
    "\n",
    "The data we have downloaded is split into various files, each of which contains a single review. It will be much easier going forward if we combine these individual files into two large files, one for training and one for testing."
   ]
  },
  {
   "cell_type": "code",
   "execution_count": 5,
   "metadata": {},
   "outputs": [],
   "source": [
    "import os\n",
    "import glob\n",
    "\n",
    "def read_imdb_data(data_dir='../data/aclImdb'):\n",
    "    data = {}\n",
    "    labels = {}\n",
    "    \n",
    "    for data_type in ['train', 'test']:\n",
    "        data[data_type] = {}\n",
    "        labels[data_type] = {}\n",
    "        \n",
    "        for sentiment in ['pos', 'neg']:\n",
    "            data[data_type][sentiment] = []\n",
    "            labels[data_type][sentiment] = []\n",
    "            \n",
    "            path = os.path.join(data_dir, data_type, sentiment, '*.txt')\n",
    "            files = glob.glob(path)\n",
    "            \n",
    "            for f in files:\n",
    "                with open(f) as review:\n",
    "                    data[data_type][sentiment].append(review.read())\n",
    "                    # Here we represent a positive review by '1' and a negative review by '0'\n",
    "                    labels[data_type][sentiment].append(1 if sentiment == 'pos' else 0)\n",
    "                    \n",
    "            assert len(data[data_type][sentiment]) == len(labels[data_type][sentiment]), \\\n",
    "                    \"{}/{} data size does not match labels size\".format(data_type, sentiment)\n",
    "                \n",
    "    return data, labels"
   ]
  },
  {
   "cell_type": "code",
   "execution_count": 6,
   "metadata": {},
   "outputs": [
    {
     "name": "stdout",
     "output_type": "stream",
     "text": [
      "IMDB reviews: train = 12500 pos / 12500 neg, test = 12500 pos / 12500 neg\n"
     ]
    }
   ],
   "source": [
    "data, labels = read_imdb_data()\n",
    "print(\"IMDB reviews: train = {} pos / {} neg, test = {} pos / {} neg\".format(\n",
    "            len(data['train']['pos']), len(data['train']['neg']),\n",
    "            len(data['test']['pos']), len(data['test']['neg'])))"
   ]
  },
  {
   "cell_type": "code",
   "execution_count": 7,
   "metadata": {},
   "outputs": [],
   "source": [
    "from sklearn.utils import shuffle\n",
    "\n",
    "def prepare_imdb_data(data, labels):\n",
    "    \"\"\"Prepare training and test sets from IMDb movie reviews.\"\"\"\n",
    "    \n",
    "    #Combine positive and negative reviews and labels\n",
    "    data_train = data['train']['pos'] + data['train']['neg']\n",
    "    data_test = data['test']['pos'] + data['test']['neg']\n",
    "    labels_train = labels['train']['pos'] + labels['train']['neg']\n",
    "    labels_test = labels['test']['pos'] + labels['test']['neg']\n",
    "    \n",
    "    #Shuffle reviews and corresponding labels within training and test sets\n",
    "    data_train, labels_train = shuffle(data_train, labels_train)\n",
    "    data_test, labels_test = shuffle(data_test, labels_test)\n",
    "    \n",
    "    # Return a unified training data, test data, training labels, test labets\n",
    "    return data_train, data_test, labels_train, labels_test"
   ]
  },
  {
   "cell_type": "code",
   "execution_count": 8,
   "metadata": {},
   "outputs": [
    {
     "name": "stdout",
     "output_type": "stream",
     "text": [
      "IMDb reviews (combined): train = 25000, test = 25000\n"
     ]
    }
   ],
   "source": [
    "train_X, test_X, train_y, test_y = prepare_imdb_data(data, labels)\n",
    "print(\"IMDb reviews (combined): train = {}, test = {}\".format(len(train_X), len(test_X)))"
   ]
  },
  {
   "cell_type": "code",
   "execution_count": 9,
   "metadata": {},
   "outputs": [
    {
     "data": {
      "text/plain": [
       "'Fabulous, fantastic, probably Disney\\'s best musical adventure. I have loved this film for over 35 years because it is so imaginative, clever and fun. Even despite the silly \"flying bed\" scenes, the other scenes and dialog are magical and funny. Could they have picked anyone better than Angela Lansbury to play Eglantine? I cannot think of anyone more suited to the role. Remaking this classic would be as stupid as remaking Mary Poppins.<br /><br />David Tomlinson, though he had few quality movie roles, absolutely shines in this adventure. He was a comic genius who is often forgotten nowadays. Blustering, prim and proper Englishman -- nobody could really do slapstick and pull it off as gracefully as he does. It would be tragic to remake this film because Tomlinson has been deceased for a few years and nobody could step into his shoes and do his character justice.<br /><br />The dancing nightgowns and armor have a magical aura about them that other movies with witches just don\\'t capture. I particularly enjoy the parts where the Germans invade Eglantine\\'s house and she must defend it in any way she can.<br /><br />Bobbing along, bobbing along on the bottom of the beautiful briny, sea. Richard and Robert Sherman outdid themselves on the musical numbers. All of them are fantastic and worth remembering, Portobello Road being one of my favorites.<br /><br />A great film that still holds up today!!'"
      ]
     },
     "execution_count": 9,
     "metadata": {},
     "output_type": "execute_result"
    }
   ],
   "source": [
    "train_X[100]"
   ]
  },
  {
   "cell_type": "markdown",
   "metadata": {},
   "source": [
    "## Processing the data\n",
    "\n",
    "Now that we have our training and testing datasets merged and ready to use, we need to start processing the raw data into something that will be useable by our machine learning algorithm. To begin with, we remove any html formatting and any non-alpha numeric characters that may appear in the reviews. We will do this in a very simplistic way using Python's regular expression module. We will discuss the reason for this rather simplistic pre-processing later on."
   ]
  },
  {
   "cell_type": "code",
   "execution_count": 10,
   "metadata": {},
   "outputs": [],
   "source": [
    "import re\n",
    "\n",
    "REPLACE_NO_SPACE = re.compile(\"(\\.)|(\\;)|(\\:)|(\\!)|(\\')|(\\?)|(\\,)|(\\\")|(\\()|(\\))|(\\[)|(\\])\")\n",
    "REPLACE_WITH_SPACE = re.compile(\"(<br\\s*/><br\\s*/>)|(\\-)|(\\/)\")\n",
    "\n",
    "def review_to_words(review):\n",
    "    words = REPLACE_NO_SPACE.sub(\"\", review.lower())\n",
    "    words = REPLACE_WITH_SPACE.sub(\" \", words)\n",
    "    return words"
   ]
  },
  {
   "cell_type": "code",
   "execution_count": 11,
   "metadata": {},
   "outputs": [
    {
     "data": {
      "text/plain": [
       "'fabulous fantastic probably disneys best musical adventure i have loved this film for over 35 years because it is so imaginative clever and fun even despite the silly flying bed scenes the other scenes and dialog are magical and funny could they have picked anyone better than angela lansbury to play eglantine i cannot think of anyone more suited to the role remaking this classic would be as stupid as remaking mary poppins david tomlinson though he had few quality movie roles absolutely shines in this adventure he was a comic genius who is often forgotten nowadays blustering prim and proper englishman    nobody could really do slapstick and pull it off as gracefully as he does it would be tragic to remake this film because tomlinson has been deceased for a few years and nobody could step into his shoes and do his character justice the dancing nightgowns and armor have a magical aura about them that other movies with witches just dont capture i particularly enjoy the parts where the germans invade eglantines house and she must defend it in any way she can bobbing along bobbing along on the bottom of the beautiful briny sea richard and robert sherman outdid themselves on the musical numbers all of them are fantastic and worth remembering portobello road being one of my favorites a great film that still holds up today'"
      ]
     },
     "execution_count": 11,
     "metadata": {},
     "output_type": "execute_result"
    }
   ],
   "source": [
    "review_to_words(train_X[100])"
   ]
  },
  {
   "cell_type": "code",
   "execution_count": 12,
   "metadata": {},
   "outputs": [],
   "source": [
    "import pickle\n",
    "\n",
    "cache_dir = os.path.join(\"../cache\", \"sentiment_web_app\")  # where to store cache files\n",
    "os.makedirs(cache_dir, exist_ok=True)  # ensure cache directory exists\n",
    "\n",
    "def preprocess_data(data_train, data_test, labels_train, labels_test,\n",
    "                    cache_dir=cache_dir, cache_file=\"preprocessed_data.pkl\"):\n",
    "    \"\"\"Convert each review to words; read from cache if available.\"\"\"\n",
    "\n",
    "    # If cache_file is not None, try to read from it first\n",
    "    cache_data = None\n",
    "    if cache_file is not None:\n",
    "        try:\n",
    "            with open(os.path.join(cache_dir, cache_file), \"rb\") as f:\n",
    "                cache_data = pickle.load(f)\n",
    "            print(\"Read preprocessed data from cache file:\", cache_file)\n",
    "        except:\n",
    "            pass  # unable to read from cache, but that's okay\n",
    "    \n",
    "    # If cache is missing, then do the heavy lifting\n",
    "    if cache_data is None:\n",
    "        # Preprocess training and test data to obtain words for each review\n",
    "        #words_train = list(map(review_to_words, data_train))\n",
    "        #words_test = list(map(review_to_words, data_test))\n",
    "        words_train = [review_to_words(review) for review in data_train]\n",
    "        words_test = [review_to_words(review) for review in data_test]\n",
    "        \n",
    "        # Write to cache file for future runs\n",
    "        if cache_file is not None:\n",
    "            cache_data = dict(words_train=words_train, words_test=words_test,\n",
    "                              labels_train=labels_train, labels_test=labels_test)\n",
    "            with open(os.path.join(cache_dir, cache_file), \"wb\") as f:\n",
    "                pickle.dump(cache_data, f)\n",
    "            print(\"Wrote preprocessed data to cache file:\", cache_file)\n",
    "    else:\n",
    "        # Unpack data loaded from cache file\n",
    "        words_train, words_test, labels_train, labels_test = (cache_data['words_train'],\n",
    "                cache_data['words_test'], cache_data['labels_train'], cache_data['labels_test'])\n",
    "    \n",
    "    return words_train, words_test, labels_train, labels_test"
   ]
  },
  {
   "cell_type": "code",
   "execution_count": 13,
   "metadata": {},
   "outputs": [
    {
     "name": "stdout",
     "output_type": "stream",
     "text": [
      "Wrote preprocessed data to cache file: preprocessed_data.pkl\n"
     ]
    }
   ],
   "source": [
    "# Preprocess data\n",
    "train_X, test_X, train_y, test_y = preprocess_data(train_X, test_X, train_y, test_y)"
   ]
  },
  {
   "cell_type": "markdown",
   "metadata": {},
   "source": [
    "### Extract Bag-of-Words features\n",
    "\n",
    "For the model we will be implementing, rather than using the reviews directly, we are going to transform each review into a Bag-of-Words feature representation. Keep in mind that 'in the wild' we will only have access to the training set so our transformer can only use the training set to construct a representation."
   ]
  },
  {
   "cell_type": "code",
   "execution_count": 14,
   "metadata": {},
   "outputs": [
    {
     "name": "stderr",
     "output_type": "stream",
     "text": [
      "/home/ec2-user/anaconda3/envs/python3/lib/python3.6/site-packages/sklearn/externals/joblib/__init__.py:15: FutureWarning: sklearn.externals.joblib is deprecated in 0.21 and will be removed in 0.23. Please import this functionality directly from joblib, which can be installed with: pip install joblib. If this warning is raised when loading pickled models, you may need to re-serialize those models with scikit-learn 0.21+.\n",
      "  warnings.warn(msg, category=FutureWarning)\n"
     ]
    }
   ],
   "source": [
    "import numpy as np\n",
    "from sklearn.feature_extraction.text import CountVectorizer\n",
    "from sklearn.externals import joblib\n",
    "# joblib is an enhanced version of pickle that is more efficient for storing NumPy arrays\n",
    "\n",
    "def extract_BoW_features(words_train, words_test, vocabulary_size=5000,\n",
    "                         cache_dir=cache_dir, cache_file=\"bow_features.pkl\"):\n",
    "    \"\"\"Extract Bag-of-Words for a given set of documents, already preprocessed into words.\"\"\"\n",
    "    \n",
    "    # If cache_file is not None, try to read from it first\n",
    "    cache_data = None\n",
    "    if cache_file is not None:\n",
    "        try:\n",
    "            with open(os.path.join(cache_dir, cache_file), \"rb\") as f:\n",
    "                cache_data = joblib.load(f)\n",
    "            print(\"Read features from cache file:\", cache_file)\n",
    "        except:\n",
    "            pass  # unable to read from cache, but that's okay\n",
    "    \n",
    "    # If cache is missing, then do the heavy lifting\n",
    "    if cache_data is None:\n",
    "        # Fit a vectorizer to training documents and use it to transform them\n",
    "        # NOTE: Training documents have already been preprocessed and tokenized into words;\n",
    "        #       pass in dummy functions to skip those steps, e.g. preprocessor=lambda x: x\n",
    "        vectorizer = CountVectorizer(max_features=vocabulary_size)\n",
    "        features_train = vectorizer.fit_transform(words_train).toarray()\n",
    "\n",
    "        # Apply the same vectorizer to transform the test documents (ignore unknown words)\n",
    "        features_test = vectorizer.transform(words_test).toarray()\n",
    "        \n",
    "        # NOTE: Remember to convert the features using .toarray() for a compact representation\n",
    "        \n",
    "        # Write to cache file for future runs (store vocabulary as well)\n",
    "        if cache_file is not None:\n",
    "            vocabulary = vectorizer.vocabulary_\n",
    "            cache_data = dict(features_train=features_train, features_test=features_test,\n",
    "                             vocabulary=vocabulary)\n",
    "            with open(os.path.join(cache_dir, cache_file), \"wb\") as f:\n",
    "                joblib.dump(cache_data, f)\n",
    "            print(\"Wrote features to cache file:\", cache_file)\n",
    "    else:\n",
    "        # Unpack data loaded from cache file\n",
    "        features_train, features_test, vocabulary = (cache_data['features_train'],\n",
    "                cache_data['features_test'], cache_data['vocabulary'])\n",
    "    \n",
    "    # Return both the extracted features as well as the vocabulary\n",
    "    return features_train, features_test, vocabulary"
   ]
  },
  {
   "cell_type": "code",
   "execution_count": 15,
   "metadata": {},
   "outputs": [
    {
     "name": "stdout",
     "output_type": "stream",
     "text": [
      "Wrote features to cache file: bow_features.pkl\n"
     ]
    }
   ],
   "source": [
    "# Extract Bag of Words features for both training and test datasets\n",
    "train_X, test_X, vocabulary = extract_BoW_features(train_X, test_X)"
   ]
  },
  {
   "cell_type": "code",
   "execution_count": 16,
   "metadata": {},
   "outputs": [
    {
     "data": {
      "text/plain": [
       "5000"
      ]
     },
     "execution_count": 16,
     "metadata": {},
     "output_type": "execute_result"
    }
   ],
   "source": [
    "len(train_X[100])"
   ]
  },
  {
   "cell_type": "markdown",
   "metadata": {},
   "source": [
    "## Step 3: Upload data to S3\n",
    "\n",
    "Now that we have created the feature representation of our training (and testing) data, it is time to start setting up and using the XGBoost classifier provided by SageMaker.\n",
    "\n",
    "### Writing the datasets\n",
    "\n",
    "The XGBoost classifier that we will be using requires the dataset to be written to a file and stored using Amazon S3. To do this, we will start by splitting the training dataset into two parts, the data we will train the model with and a validation set. Then, we will write those datasets to a file locally and then upload the files to S3. In addition, we will write the test set to a file and upload that file to S3. This is so that we can use SageMakers Batch Transform functionality to test our model once we've fit it."
   ]
  },
  {
   "cell_type": "code",
   "execution_count": 17,
   "metadata": {},
   "outputs": [],
   "source": [
    "import pandas as pd\n",
    "\n",
    "# Earlier we shuffled the training dataset so to make things simple we can just assign\n",
    "# the first 10 000 reviews to the validation set and use the remaining reviews for training.\n",
    "val_X = pd.DataFrame(train_X[:10000])\n",
    "train_X = pd.DataFrame(train_X[10000:])\n",
    "\n",
    "val_y = pd.DataFrame(train_y[:10000])\n",
    "train_y = pd.DataFrame(train_y[10000:])"
   ]
  },
  {
   "cell_type": "markdown",
   "metadata": {},
   "source": [
    "The documentation for the XGBoost algorithm in SageMaker requires that the training and validation datasets should contain no headers or index and that the label should occur first for each sample.\n",
    "\n",
    "For more information about this and other algorithms, the SageMaker developer documentation can be found on __[Amazon's website.](https://docs.aws.amazon.com/sagemaker/latest/dg/)__"
   ]
  },
  {
   "cell_type": "code",
   "execution_count": 18,
   "metadata": {},
   "outputs": [],
   "source": [
    "# First we make sure that the local directory in which we'd like to store the training and validation csv files exists.\n",
    "data_dir = '../data/sentiment_web_app'\n",
    "if not os.path.exists(data_dir):\n",
    "    os.makedirs(data_dir)"
   ]
  },
  {
   "cell_type": "code",
   "execution_count": 19,
   "metadata": {},
   "outputs": [],
   "source": [
    "pd.DataFrame(test_X).to_csv(os.path.join(data_dir, 'test.csv'), header=False, index=False)\n",
    "\n",
    "pd.concat([val_y, val_X], axis=1).to_csv(os.path.join(data_dir, 'validation.csv'), header=False, index=False)\n",
    "pd.concat([train_y, train_X], axis=1).to_csv(os.path.join(data_dir, 'train.csv'), header=False, index=False)"
   ]
  },
  {
   "cell_type": "code",
   "execution_count": 20,
   "metadata": {},
   "outputs": [],
   "source": [
    "# To save a bit of memory we can set text_X, train_X, val_X, train_y and val_y to None.\n",
    "\n",
    "test_X = train_X = val_X = train_y = val_y = None"
   ]
  },
  {
   "cell_type": "markdown",
   "metadata": {},
   "source": [
    "### Uploading Training / Validation files to S3\n",
    "\n",
    "Amazon's S3 service allows us to store files that can be accessed by both the built-in training models such as the XGBoost model we will be using as well as custom models such as the one we will see a little later.\n",
    "\n",
    "For this and most other tasks we will be doing using SageMaker, there are two methods we could use. The first is to use the low level functionality of SageMaker which requires knowing each of the objects involved in the SageMaker environment. The second is to use the high level functionality in which certain choices have been made on the user's behalf. The low level approach benefits from allowing the user a great deal of flexibility while the high level approach makes development much quicker. For our purposes we will opt to use the high level approach although using the low-level approach is certainly an option.\n",
    "\n",
    "Recall the method `upload_data()` which is a member of the object representing our current SageMaker session. What this method does is upload the data to the default bucket (which is created if it does not exist) into the path described by the key_prefix variable. To see this for yourself, once you have uploaded the data files, go to the S3 console and look to see where the files have been uploaded.\n",
    "\n",
    "For additional resources, see the __[SageMaker API documentation](http://sagemaker.readthedocs.io/en/latest/)__ and in addition the __[SageMaker Developer Guide.](https://docs.aws.amazon.com/sagemaker/latest/dg/)__"
   ]
  },
  {
   "cell_type": "code",
   "execution_count": 21,
   "metadata": {},
   "outputs": [],
   "source": [
    "import sagemaker\n",
    "\n",
    "session = sagemaker.Session() # Store the current SageMaker session\n",
    "\n",
    "# S3 prefix (which folder will we use)\n",
    "prefix = 'sentiment-web-app'\n",
    "\n",
    "test_location = session.upload_data(os.path.join(data_dir, 'test.csv'), key_prefix=prefix)\n",
    "val_location = session.upload_data(os.path.join(data_dir, 'validation.csv'), key_prefix=prefix)\n",
    "train_location = session.upload_data(os.path.join(data_dir, 'train.csv'), key_prefix=prefix)"
   ]
  },
  {
   "cell_type": "markdown",
   "metadata": {},
   "source": [
    "## Step 4: Creating the XGBoost model\n",
    "\n",
    "Now that the data has been uploaded it is time to create the XGBoost model. To begin with, we need to do some setup. At this point it is worth discussing what a model is in SageMaker. It is easiest to think of a model of comprising three different objects in the SageMaker ecosystem, which interact with one another.\n",
    "\n",
    "- Model Artifacts\n",
    "- Training Code (Container)\n",
    "- Inference Code (Container)\n",
    "\n",
    "The Model Artifacts are what you might think of as the actual model itself. For example, if you were building a neural network, the model artifacts would be the weights of the various layers. In our case, for an XGBoost model, the artifacts are the actual trees that are created during training.\n",
    "\n",
    "The other two objects, the training code and the inference code are then used to manipulate the training artifacts. More precisely, the training code uses the training data that is provided and creates the model artifacts, while the inference code uses the model artifacts to make predictions on new data.\n",
    "\n",
    "The way that SageMaker runs the training and inference code is by making use of Docker containers. For now, think of a container as being a way of packaging code up so that dependencies aren't an issue."
   ]
  },
  {
   "cell_type": "code",
   "execution_count": 22,
   "metadata": {},
   "outputs": [],
   "source": [
    "from sagemaker import get_execution_role\n",
    "\n",
    "# Our current execution role is required when creating the model as the training\n",
    "# and inference code will need to access the model artifacts.\n",
    "role = get_execution_role()"
   ]
  },
  {
   "cell_type": "code",
   "execution_count": 23,
   "metadata": {},
   "outputs": [
    {
     "name": "stderr",
     "output_type": "stream",
     "text": [
      "'get_image_uri' method will be deprecated in favor of 'ImageURIProvider' class in SageMaker Python SDK v2.\n",
      "WARNING:root:There is a more up to date SageMaker XGBoost image. To use the newer image, please set 'repo_version'='1.0-1'. For example:\n",
      "\tget_image_uri(region, 'xgboost', '1.0-1').\n"
     ]
    }
   ],
   "source": [
    "# We need to retrieve the location of the container which is provided by Amazon for using XGBoost.\n",
    "# As a matter of convenience, the training and inference code both use the same container.\n",
    "from sagemaker.amazon.amazon_estimator import get_image_uri\n",
    "\n",
    "container = get_image_uri(session.boto_region_name, 'xgboost')"
   ]
  },
  {
   "cell_type": "code",
   "execution_count": 24,
   "metadata": {},
   "outputs": [
    {
     "name": "stderr",
     "output_type": "stream",
     "text": [
      "WARNING:root:Parameter image_name will be renamed to image_uri in SageMaker Python SDK v2.\n"
     ]
    }
   ],
   "source": [
    "# First we create a SageMaker estimator object for our model.\n",
    "xgb = sagemaker.estimator.Estimator(container, # The location of the container we wish to use\n",
    "                                    role,                                    # What is our current IAM Role\n",
    "                                    train_instance_count=1,                  # How many compute instances\n",
    "                                    train_instance_type='ml.m4.xlarge',      # What kind of compute instances\n",
    "                                    output_path='s3://{}/{}/output'.format(session.default_bucket(), prefix),\n",
    "                                    sagemaker_session=session)\n",
    "\n",
    "# And then set the algorithm specific parameters.\n",
    "xgb.set_hyperparameters(max_depth=5,\n",
    "                        eta=0.2,\n",
    "                        gamma=4,\n",
    "                        min_child_weight=6,\n",
    "                        subsample=0.8,\n",
    "                        silent=0,\n",
    "                        objective='binary:logistic',\n",
    "                        early_stopping_rounds=10,\n",
    "                        num_round=500)"
   ]
  },
  {
   "cell_type": "markdown",
   "metadata": {},
   "source": [
    "### Fit the XGBoost model\n",
    "\n",
    "Now that our model has been set up we simply need to attach the training and validation datasets and then ask SageMaker to set up the computation."
   ]
  },
  {
   "cell_type": "code",
   "execution_count": 25,
   "metadata": {},
   "outputs": [
    {
     "name": "stderr",
     "output_type": "stream",
     "text": [
      "WARNING:sagemaker:'s3_input' class will be renamed to 'TrainingInput' in SageMaker Python SDK v2.\n",
      "WARNING:sagemaker:'s3_input' class will be renamed to 'TrainingInput' in SageMaker Python SDK v2.\n"
     ]
    }
   ],
   "source": [
    "s3_input_train = sagemaker.s3_input(s3_data=train_location, content_type='csv')\n",
    "s3_input_validation = sagemaker.s3_input(s3_data=val_location, content_type='csv')"
   ]
  },
  {
   "cell_type": "code",
   "execution_count": 26,
   "metadata": {},
   "outputs": [
    {
     "name": "stdout",
     "output_type": "stream",
     "text": [
      "2020-07-20 15:53:53 Starting - Starting the training job...\n",
      "2020-07-20 15:53:55 Starting - Launching requested ML instances......\n",
      "2020-07-20 15:55:06 Starting - Preparing the instances for training......\n",
      "2020-07-20 15:56:09 Downloading - Downloading input data\n",
      "2020-07-20 15:56:09 Training - Downloading the training image..\u001b[34mArguments: train\u001b[0m\n",
      "\u001b[34m[2020-07-20:15:56:29:INFO] Running standalone xgboost training.\u001b[0m\n",
      "\u001b[34m[2020-07-20:15:56:29:INFO] File size need to be processed in the node: 238.5mb. Available memory size in the node: 8490.63mb\u001b[0m\n",
      "\u001b[34m[2020-07-20:15:56:29:INFO] Determined delimiter of CSV input is ','\u001b[0m\n",
      "\u001b[34m[15:56:29] S3DistributionType set as FullyReplicated\u001b[0m\n",
      "\u001b[34m[15:56:31] 15000x5000 matrix with 75000000 entries loaded from /opt/ml/input/data/train?format=csv&label_column=0&delimiter=,\u001b[0m\n",
      "\u001b[34m[2020-07-20:15:56:31:INFO] Determined delimiter of CSV input is ','\u001b[0m\n",
      "\u001b[34m[15:56:31] S3DistributionType set as FullyReplicated\u001b[0m\n",
      "\u001b[34m[15:56:32] 10000x5000 matrix with 50000000 entries loaded from /opt/ml/input/data/validation?format=csv&label_column=0&delimiter=,\u001b[0m\n",
      "\u001b[34m[15:56:36] src/tree/updater_prune.cc:74: tree pruning end, 1 roots, 46 extra nodes, 6 pruned nodes, max_depth=5\u001b[0m\n",
      "\u001b[34m[0]#011train-error:0.306333#011validation-error:0.3085\u001b[0m\n",
      "\u001b[34mMultiple eval metrics have been passed: 'validation-error' will be used for early stopping.\n",
      "\u001b[0m\n",
      "\u001b[34mWill train until validation-error hasn't improved in 10 rounds.\u001b[0m\n",
      "\u001b[34m[15:56:37] src/tree/updater_prune.cc:74: tree pruning end, 1 roots, 42 extra nodes, 6 pruned nodes, max_depth=5\u001b[0m\n",
      "\u001b[34m[1]#011train-error:0.291867#011validation-error:0.2961\u001b[0m\n",
      "\u001b[34m[15:56:38] src/tree/updater_prune.cc:74: tree pruning end, 1 roots, 42 extra nodes, 6 pruned nodes, max_depth=5\u001b[0m\n",
      "\u001b[34m[2]#011train-error:0.2818#011validation-error:0.2872\u001b[0m\n",
      "\u001b[34m[15:56:40] src/tree/updater_prune.cc:74: tree pruning end, 1 roots, 28 extra nodes, 8 pruned nodes, max_depth=5\u001b[0m\n",
      "\u001b[34m[3]#011train-error:0.2726#011validation-error:0.2788\u001b[0m\n",
      "\n",
      "2020-07-20 15:56:29 Training - Training image download completed. Training in progress.\u001b[34m[15:56:41] src/tree/updater_prune.cc:74: tree pruning end, 1 roots, 44 extra nodes, 4 pruned nodes, max_depth=5\u001b[0m\n",
      "\u001b[34m[4]#011train-error:0.258133#011validation-error:0.2667\u001b[0m\n",
      "\u001b[34m[15:56:43] src/tree/updater_prune.cc:74: tree pruning end, 1 roots, 32 extra nodes, 0 pruned nodes, max_depth=5\u001b[0m\n",
      "\u001b[34m[5]#011train-error:0.25#011validation-error:0.2594\u001b[0m\n",
      "\u001b[34m[15:56:44] src/tree/updater_prune.cc:74: tree pruning end, 1 roots, 26 extra nodes, 12 pruned nodes, max_depth=5\u001b[0m\n",
      "\u001b[34m[6]#011train-error:0.252733#011validation-error:0.2591\u001b[0m\n",
      "\u001b[34m[15:56:45] src/tree/updater_prune.cc:74: tree pruning end, 1 roots, 32 extra nodes, 18 pruned nodes, max_depth=5\u001b[0m\n",
      "\u001b[34m[7]#011train-error:0.239#011validation-error:0.2492\u001b[0m\n",
      "\u001b[34m[15:56:47] src/tree/updater_prune.cc:74: tree pruning end, 1 roots, 38 extra nodes, 2 pruned nodes, max_depth=5\u001b[0m\n",
      "\u001b[34m[8]#011train-error:0.2332#011validation-error:0.2457\u001b[0m\n",
      "\u001b[34m[15:56:48] src/tree/updater_prune.cc:74: tree pruning end, 1 roots, 30 extra nodes, 4 pruned nodes, max_depth=5\u001b[0m\n",
      "\u001b[34m[9]#011train-error:0.228467#011validation-error:0.2404\u001b[0m\n",
      "\u001b[34m[15:56:49] src/tree/updater_prune.cc:74: tree pruning end, 1 roots, 28 extra nodes, 10 pruned nodes, max_depth=5\u001b[0m\n",
      "\u001b[34m[10]#011train-error:0.2244#011validation-error:0.2382\u001b[0m\n",
      "\u001b[34m[15:56:50] src/tree/updater_prune.cc:74: tree pruning end, 1 roots, 38 extra nodes, 8 pruned nodes, max_depth=5\u001b[0m\n",
      "\u001b[34m[11]#011train-error:0.2192#011validation-error:0.2345\u001b[0m\n",
      "\u001b[34m[15:56:52] src/tree/updater_prune.cc:74: tree pruning end, 1 roots, 30 extra nodes, 6 pruned nodes, max_depth=5\u001b[0m\n",
      "\u001b[34m[12]#011train-error:0.2144#011validation-error:0.23\u001b[0m\n",
      "\u001b[34m[15:56:53] src/tree/updater_prune.cc:74: tree pruning end, 1 roots, 26 extra nodes, 10 pruned nodes, max_depth=5\u001b[0m\n",
      "\u001b[34m[13]#011train-error:0.2098#011validation-error:0.2291\u001b[0m\n",
      "\u001b[34m[15:56:54] src/tree/updater_prune.cc:74: tree pruning end, 1 roots, 32 extra nodes, 4 pruned nodes, max_depth=5\u001b[0m\n",
      "\u001b[34m[14]#011train-error:0.206#011validation-error:0.2258\u001b[0m\n",
      "\u001b[34m[15:56:55] src/tree/updater_prune.cc:74: tree pruning end, 1 roots, 26 extra nodes, 4 pruned nodes, max_depth=5\u001b[0m\n",
      "\u001b[34m[15]#011train-error:0.203067#011validation-error:0.2247\u001b[0m\n",
      "\u001b[34m[15:56:57] src/tree/updater_prune.cc:74: tree pruning end, 1 roots, 36 extra nodes, 2 pruned nodes, max_depth=5\u001b[0m\n",
      "\u001b[34m[16]#011train-error:0.199333#011validation-error:0.2231\u001b[0m\n",
      "\u001b[34m[15:56:58] src/tree/updater_prune.cc:74: tree pruning end, 1 roots, 22 extra nodes, 10 pruned nodes, max_depth=5\u001b[0m\n",
      "\u001b[34m[17]#011train-error:0.1972#011validation-error:0.2219\u001b[0m\n",
      "\u001b[34m[15:56:59] src/tree/updater_prune.cc:74: tree pruning end, 1 roots, 24 extra nodes, 12 pruned nodes, max_depth=5\u001b[0m\n",
      "\u001b[34m[18]#011train-error:0.194#011validation-error:0.2183\u001b[0m\n",
      "\u001b[34m[15:57:00] src/tree/updater_prune.cc:74: tree pruning end, 1 roots, 28 extra nodes, 6 pruned nodes, max_depth=5\u001b[0m\n",
      "\u001b[34m[19]#011train-error:0.191333#011validation-error:0.2161\u001b[0m\n",
      "\u001b[34m[15:57:02] src/tree/updater_prune.cc:74: tree pruning end, 1 roots, 28 extra nodes, 6 pruned nodes, max_depth=5\u001b[0m\n",
      "\u001b[34m[20]#011train-error:0.189467#011validation-error:0.2147\u001b[0m\n",
      "\u001b[34m[15:57:03] src/tree/updater_prune.cc:74: tree pruning end, 1 roots, 48 extra nodes, 0 pruned nodes, max_depth=5\u001b[0m\n",
      "\u001b[34m[21]#011train-error:0.185467#011validation-error:0.2112\u001b[0m\n",
      "\u001b[34m[15:57:04] src/tree/updater_prune.cc:74: tree pruning end, 1 roots, 30 extra nodes, 10 pruned nodes, max_depth=5\u001b[0m\n",
      "\u001b[34m[22]#011train-error:0.181467#011validation-error:0.2097\u001b[0m\n",
      "\u001b[34m[15:57:06] src/tree/updater_prune.cc:74: tree pruning end, 1 roots, 32 extra nodes, 4 pruned nodes, max_depth=5\u001b[0m\n",
      "\u001b[34m[23]#011train-error:0.180733#011validation-error:0.2067\u001b[0m\n",
      "\u001b[34m[15:57:07] src/tree/updater_prune.cc:74: tree pruning end, 1 roots, 34 extra nodes, 2 pruned nodes, max_depth=5\u001b[0m\n",
      "\u001b[34m[24]#011train-error:0.177333#011validation-error:0.204\u001b[0m\n",
      "\u001b[34m[15:57:08] src/tree/updater_prune.cc:74: tree pruning end, 1 roots, 18 extra nodes, 20 pruned nodes, max_depth=5\u001b[0m\n",
      "\u001b[34m[25]#011train-error:0.175733#011validation-error:0.2018\u001b[0m\n",
      "\u001b[34m[15:57:09] src/tree/updater_prune.cc:74: tree pruning end, 1 roots, 36 extra nodes, 10 pruned nodes, max_depth=5\u001b[0m\n",
      "\u001b[34m[26]#011train-error:0.173733#011validation-error:0.2006\u001b[0m\n",
      "\u001b[34m[15:57:11] src/tree/updater_prune.cc:74: tree pruning end, 1 roots, 16 extra nodes, 14 pruned nodes, max_depth=5\u001b[0m\n",
      "\u001b[34m[27]#011train-error:0.172467#011validation-error:0.1992\u001b[0m\n",
      "\u001b[34m[15:57:12] src/tree/updater_prune.cc:74: tree pruning end, 1 roots, 28 extra nodes, 8 pruned nodes, max_depth=5\u001b[0m\n",
      "\u001b[34m[28]#011train-error:0.171533#011validation-error:0.1997\u001b[0m\n",
      "\u001b[34m[15:57:13] src/tree/updater_prune.cc:74: tree pruning end, 1 roots, 20 extra nodes, 14 pruned nodes, max_depth=5\u001b[0m\n",
      "\u001b[34m[29]#011train-error:0.1694#011validation-error:0.1987\u001b[0m\n",
      "\u001b[34m[15:57:14] src/tree/updater_prune.cc:74: tree pruning end, 1 roots, 26 extra nodes, 6 pruned nodes, max_depth=5\u001b[0m\n",
      "\u001b[34m[30]#011train-error:0.1676#011validation-error:0.1948\u001b[0m\n",
      "\u001b[34m[15:57:16] src/tree/updater_prune.cc:74: tree pruning end, 1 roots, 26 extra nodes, 6 pruned nodes, max_depth=5\u001b[0m\n",
      "\u001b[34m[31]#011train-error:0.1668#011validation-error:0.194\u001b[0m\n",
      "\u001b[34m[15:57:17] src/tree/updater_prune.cc:74: tree pruning end, 1 roots, 36 extra nodes, 8 pruned nodes, max_depth=5\u001b[0m\n",
      "\u001b[34m[32]#011train-error:0.164933#011validation-error:0.192\u001b[0m\n",
      "\u001b[34m[15:57:18] src/tree/updater_prune.cc:74: tree pruning end, 1 roots, 28 extra nodes, 10 pruned nodes, max_depth=5\u001b[0m\n",
      "\u001b[34m[33]#011train-error:0.163267#011validation-error:0.1927\u001b[0m\n",
      "\u001b[34m[15:57:19] src/tree/updater_prune.cc:74: tree pruning end, 1 roots, 26 extra nodes, 12 pruned nodes, max_depth=5\u001b[0m\n",
      "\u001b[34m[34]#011train-error:0.1608#011validation-error:0.1899\u001b[0m\n",
      "\u001b[34m[15:57:21] src/tree/updater_prune.cc:74: tree pruning end, 1 roots, 24 extra nodes, 0 pruned nodes, max_depth=5\u001b[0m\n",
      "\u001b[34m[35]#011train-error:0.1594#011validation-error:0.1899\u001b[0m\n",
      "\u001b[34m[15:57:22] src/tree/updater_prune.cc:74: tree pruning end, 1 roots, 18 extra nodes, 4 pruned nodes, max_depth=5\u001b[0m\n",
      "\u001b[34m[36]#011train-error:0.159333#011validation-error:0.1902\u001b[0m\n",
      "\u001b[34m[15:57:23] src/tree/updater_prune.cc:74: tree pruning end, 1 roots, 12 extra nodes, 6 pruned nodes, max_depth=5\u001b[0m\n",
      "\u001b[34m[37]#011train-error:0.1584#011validation-error:0.189\u001b[0m\n",
      "\u001b[34m[15:57:25] src/tree/updater_prune.cc:74: tree pruning end, 1 roots, 30 extra nodes, 4 pruned nodes, max_depth=5\u001b[0m\n",
      "\u001b[34m[38]#011train-error:0.157#011validation-error:0.1859\u001b[0m\n",
      "\u001b[34m[15:57:26] src/tree/updater_prune.cc:74: tree pruning end, 1 roots, 22 extra nodes, 12 pruned nodes, max_depth=5\u001b[0m\n",
      "\u001b[34m[39]#011train-error:0.1564#011validation-error:0.1857\u001b[0m\n",
      "\u001b[34m[15:57:27] src/tree/updater_prune.cc:74: tree pruning end, 1 roots, 36 extra nodes, 4 pruned nodes, max_depth=5\u001b[0m\n",
      "\u001b[34m[40]#011train-error:0.153867#011validation-error:0.1846\u001b[0m\n",
      "\u001b[34m[15:57:28] src/tree/updater_prune.cc:74: tree pruning end, 1 roots, 26 extra nodes, 14 pruned nodes, max_depth=5\u001b[0m\n",
      "\u001b[34m[41]#011train-error:0.151867#011validation-error:0.1836\u001b[0m\n",
      "\u001b[34m[15:57:30] src/tree/updater_prune.cc:74: tree pruning end, 1 roots, 24 extra nodes, 8 pruned nodes, max_depth=5\u001b[0m\n",
      "\u001b[34m[42]#011train-error:0.1494#011validation-error:0.184\u001b[0m\n",
      "\u001b[34m[15:57:31] src/tree/updater_prune.cc:74: tree pruning end, 1 roots, 22 extra nodes, 10 pruned nodes, max_depth=5\u001b[0m\n",
      "\u001b[34m[43]#011train-error:0.148733#011validation-error:0.1837\u001b[0m\n"
     ]
    },
    {
     "name": "stdout",
     "output_type": "stream",
     "text": [
      "\u001b[34m[15:57:32] src/tree/updater_prune.cc:74: tree pruning end, 1 roots, 38 extra nodes, 2 pruned nodes, max_depth=5\u001b[0m\n",
      "\u001b[34m[44]#011train-error:0.147667#011validation-error:0.184\u001b[0m\n",
      "\u001b[34m[15:57:33] src/tree/updater_prune.cc:74: tree pruning end, 1 roots, 16 extra nodes, 10 pruned nodes, max_depth=5\u001b[0m\n",
      "\u001b[34m[45]#011train-error:0.146133#011validation-error:0.1824\u001b[0m\n",
      "\u001b[34m[15:57:35] src/tree/updater_prune.cc:74: tree pruning end, 1 roots, 36 extra nodes, 12 pruned nodes, max_depth=5\u001b[0m\n",
      "\u001b[34m[46]#011train-error:0.144#011validation-error:0.1819\u001b[0m\n",
      "\u001b[34m[15:57:36] src/tree/updater_prune.cc:74: tree pruning end, 1 roots, 16 extra nodes, 12 pruned nodes, max_depth=5\u001b[0m\n",
      "\u001b[34m[47]#011train-error:0.143467#011validation-error:0.1807\u001b[0m\n",
      "\u001b[34m[15:57:37] src/tree/updater_prune.cc:74: tree pruning end, 1 roots, 22 extra nodes, 12 pruned nodes, max_depth=5\u001b[0m\n",
      "\u001b[34m[48]#011train-error:0.141667#011validation-error:0.1808\u001b[0m\n",
      "\u001b[34m[15:57:39] src/tree/updater_prune.cc:74: tree pruning end, 1 roots, 14 extra nodes, 12 pruned nodes, max_depth=5\u001b[0m\n",
      "\u001b[34m[49]#011train-error:0.140333#011validation-error:0.18\u001b[0m\n",
      "\u001b[34m[15:57:40] src/tree/updater_prune.cc:74: tree pruning end, 1 roots, 20 extra nodes, 6 pruned nodes, max_depth=5\u001b[0m\n",
      "\u001b[34m[50]#011train-error:0.1396#011validation-error:0.179\u001b[0m\n",
      "\u001b[34m[15:57:41] src/tree/updater_prune.cc:74: tree pruning end, 1 roots, 32 extra nodes, 8 pruned nodes, max_depth=5\u001b[0m\n",
      "\u001b[34m[51]#011train-error:0.138133#011validation-error:0.1778\u001b[0m\n",
      "\u001b[34m[15:57:42] src/tree/updater_prune.cc:74: tree pruning end, 1 roots, 20 extra nodes, 6 pruned nodes, max_depth=5\u001b[0m\n",
      "\u001b[34m[52]#011train-error:0.137467#011validation-error:0.1769\u001b[0m\n",
      "\u001b[34m[15:57:44] src/tree/updater_prune.cc:74: tree pruning end, 1 roots, 26 extra nodes, 10 pruned nodes, max_depth=5\u001b[0m\n",
      "\u001b[34m[53]#011train-error:0.1368#011validation-error:0.1763\u001b[0m\n",
      "\u001b[34m[15:57:45] src/tree/updater_prune.cc:74: tree pruning end, 1 roots, 34 extra nodes, 8 pruned nodes, max_depth=5\u001b[0m\n",
      "\u001b[34m[54]#011train-error:0.1344#011validation-error:0.1755\u001b[0m\n",
      "\u001b[34m[15:57:46] src/tree/updater_prune.cc:74: tree pruning end, 1 roots, 26 extra nodes, 4 pruned nodes, max_depth=5\u001b[0m\n",
      "\u001b[34m[55]#011train-error:0.1334#011validation-error:0.1752\u001b[0m\n",
      "\u001b[34m[15:57:47] src/tree/updater_prune.cc:74: tree pruning end, 1 roots, 20 extra nodes, 8 pruned nodes, max_depth=5\u001b[0m\n",
      "\u001b[34m[56]#011train-error:0.133#011validation-error:0.1756\u001b[0m\n",
      "\u001b[34m[15:57:49] src/tree/updater_prune.cc:74: tree pruning end, 1 roots, 24 extra nodes, 8 pruned nodes, max_depth=5\u001b[0m\n",
      "\u001b[34m[57]#011train-error:0.1316#011validation-error:0.1741\u001b[0m\n",
      "\u001b[34m[15:57:50] src/tree/updater_prune.cc:74: tree pruning end, 1 roots, 14 extra nodes, 8 pruned nodes, max_depth=5\u001b[0m\n",
      "\u001b[34m[58]#011train-error:0.1308#011validation-error:0.1735\u001b[0m\n",
      "\u001b[34m[15:57:51] src/tree/updater_prune.cc:74: tree pruning end, 1 roots, 16 extra nodes, 8 pruned nodes, max_depth=5\u001b[0m\n",
      "\u001b[34m[59]#011train-error:0.130533#011validation-error:0.1725\u001b[0m\n",
      "\u001b[34m[15:57:53] src/tree/updater_prune.cc:74: tree pruning end, 1 roots, 24 extra nodes, 12 pruned nodes, max_depth=5\u001b[0m\n",
      "\u001b[34m[60]#011train-error:0.1302#011validation-error:0.1721\u001b[0m\n",
      "\u001b[34m[15:57:54] src/tree/updater_prune.cc:74: tree pruning end, 1 roots, 14 extra nodes, 12 pruned nodes, max_depth=5\u001b[0m\n",
      "\u001b[34m[61]#011train-error:0.130067#011validation-error:0.1721\u001b[0m\n",
      "\u001b[34m[15:57:55] src/tree/updater_prune.cc:74: tree pruning end, 1 roots, 18 extra nodes, 10 pruned nodes, max_depth=5\u001b[0m\n",
      "\u001b[34m[62]#011train-error:0.129533#011validation-error:0.1715\u001b[0m\n",
      "\u001b[34m[15:57:56] src/tree/updater_prune.cc:74: tree pruning end, 1 roots, 20 extra nodes, 10 pruned nodes, max_depth=5\u001b[0m\n",
      "\u001b[34m[63]#011train-error:0.1274#011validation-error:0.1719\u001b[0m\n",
      "\u001b[34m[15:57:58] src/tree/updater_prune.cc:74: tree pruning end, 1 roots, 24 extra nodes, 6 pruned nodes, max_depth=5\u001b[0m\n",
      "\u001b[34m[64]#011train-error:0.128#011validation-error:0.1711\u001b[0m\n",
      "\u001b[34m[15:57:59] src/tree/updater_prune.cc:74: tree pruning end, 1 roots, 16 extra nodes, 16 pruned nodes, max_depth=5\u001b[0m\n",
      "\u001b[34m[65]#011train-error:0.1268#011validation-error:0.1701\u001b[0m\n",
      "\u001b[34m[15:58:00] src/tree/updater_prune.cc:74: tree pruning end, 1 roots, 26 extra nodes, 2 pruned nodes, max_depth=5\u001b[0m\n",
      "\u001b[34m[66]#011train-error:0.1258#011validation-error:0.171\u001b[0m\n",
      "\u001b[34m[15:58:01] src/tree/updater_prune.cc:74: tree pruning end, 1 roots, 22 extra nodes, 6 pruned nodes, max_depth=5\u001b[0m\n",
      "\u001b[34m[67]#011train-error:0.124333#011validation-error:0.1688\u001b[0m\n",
      "\u001b[34m[15:58:03] src/tree/updater_prune.cc:74: tree pruning end, 1 roots, 12 extra nodes, 8 pruned nodes, max_depth=5\u001b[0m\n",
      "\u001b[34m[68]#011train-error:0.1246#011validation-error:0.1688\u001b[0m\n",
      "\u001b[34m[15:58:04] src/tree/updater_prune.cc:74: tree pruning end, 1 roots, 24 extra nodes, 14 pruned nodes, max_depth=5\u001b[0m\n",
      "\u001b[34m[69]#011train-error:0.123933#011validation-error:0.168\u001b[0m\n",
      "\u001b[34m[15:58:05] src/tree/updater_prune.cc:74: tree pruning end, 1 roots, 24 extra nodes, 4 pruned nodes, max_depth=5\u001b[0m\n",
      "\u001b[34m[70]#011train-error:0.123067#011validation-error:0.1678\u001b[0m\n",
      "\u001b[34m[15:58:07] src/tree/updater_prune.cc:74: tree pruning end, 1 roots, 14 extra nodes, 8 pruned nodes, max_depth=5\u001b[0m\n",
      "\u001b[34m[71]#011train-error:0.1226#011validation-error:0.1669\u001b[0m\n",
      "\u001b[34m[15:58:08] src/tree/updater_prune.cc:74: tree pruning end, 1 roots, 36 extra nodes, 4 pruned nodes, max_depth=5\u001b[0m\n",
      "\u001b[34m[72]#011train-error:0.121267#011validation-error:0.1673\u001b[0m\n",
      "\u001b[34m[15:58:09] src/tree/updater_prune.cc:74: tree pruning end, 1 roots, 14 extra nodes, 12 pruned nodes, max_depth=5\u001b[0m\n",
      "\u001b[34m[73]#011train-error:0.1216#011validation-error:0.167\u001b[0m\n",
      "\u001b[34m[15:58:10] src/tree/updater_prune.cc:74: tree pruning end, 1 roots, 12 extra nodes, 6 pruned nodes, max_depth=5\u001b[0m\n",
      "\u001b[34m[74]#011train-error:0.120467#011validation-error:0.1664\u001b[0m\n",
      "\u001b[34m[15:58:12] src/tree/updater_prune.cc:74: tree pruning end, 1 roots, 22 extra nodes, 12 pruned nodes, max_depth=5\u001b[0m\n",
      "\u001b[34m[75]#011train-error:0.120067#011validation-error:0.1665\u001b[0m\n",
      "\u001b[34m[15:58:13] src/tree/updater_prune.cc:74: tree pruning end, 1 roots, 24 extra nodes, 10 pruned nodes, max_depth=5\u001b[0m\n",
      "\u001b[34m[76]#011train-error:0.118933#011validation-error:0.1654\u001b[0m\n",
      "\u001b[34m[15:58:14] src/tree/updater_prune.cc:74: tree pruning end, 1 roots, 22 extra nodes, 12 pruned nodes, max_depth=5\u001b[0m\n",
      "\u001b[34m[77]#011train-error:0.118733#011validation-error:0.1653\u001b[0m\n",
      "\u001b[34m[15:58:15] src/tree/updater_prune.cc:74: tree pruning end, 1 roots, 16 extra nodes, 4 pruned nodes, max_depth=5\u001b[0m\n",
      "\u001b[34m[78]#011train-error:0.1174#011validation-error:0.164\u001b[0m\n",
      "\u001b[34m[15:58:17] src/tree/updater_prune.cc:74: tree pruning end, 1 roots, 20 extra nodes, 12 pruned nodes, max_depth=5\u001b[0m\n",
      "\u001b[34m[79]#011train-error:0.117933#011validation-error:0.1644\u001b[0m\n",
      "\u001b[34m[15:58:18] src/tree/updater_prune.cc:74: tree pruning end, 1 roots, 12 extra nodes, 8 pruned nodes, max_depth=5\u001b[0m\n",
      "\u001b[34m[80]#011train-error:0.116867#011validation-error:0.1646\u001b[0m\n",
      "\u001b[34m[15:58:19] src/tree/updater_prune.cc:74: tree pruning end, 1 roots, 12 extra nodes, 6 pruned nodes, max_depth=5\u001b[0m\n",
      "\u001b[34m[81]#011train-error:0.116467#011validation-error:0.1638\u001b[0m\n",
      "\u001b[34m[15:58:20] src/tree/updater_prune.cc:74: tree pruning end, 1 roots, 28 extra nodes, 0 pruned nodes, max_depth=5\u001b[0m\n",
      "\u001b[34m[82]#011train-error:0.114933#011validation-error:0.1617\u001b[0m\n",
      "\u001b[34m[15:58:22] src/tree/updater_prune.cc:74: tree pruning end, 1 roots, 18 extra nodes, 8 pruned nodes, max_depth=5\u001b[0m\n",
      "\u001b[34m[83]#011train-error:0.1148#011validation-error:0.1622\u001b[0m\n",
      "\u001b[34m[15:58:23] src/tree/updater_prune.cc:74: tree pruning end, 1 roots, 12 extra nodes, 6 pruned nodes, max_depth=5\u001b[0m\n",
      "\u001b[34m[84]#011train-error:0.1132#011validation-error:0.1626\u001b[0m\n",
      "\u001b[34m[15:58:24] src/tree/updater_prune.cc:74: tree pruning end, 1 roots, 24 extra nodes, 12 pruned nodes, max_depth=5\u001b[0m\n",
      "\u001b[34m[85]#011train-error:0.112667#011validation-error:0.1615\u001b[0m\n",
      "\u001b[34m[15:58:26] src/tree/updater_prune.cc:74: tree pruning end, 1 roots, 14 extra nodes, 10 pruned nodes, max_depth=5\u001b[0m\n",
      "\u001b[34m[86]#011train-error:0.111933#011validation-error:0.1607\u001b[0m\n",
      "\u001b[34m[15:58:27] src/tree/updater_prune.cc:74: tree pruning end, 1 roots, 16 extra nodes, 14 pruned nodes, max_depth=5\u001b[0m\n",
      "\u001b[34m[87]#011train-error:0.111533#011validation-error:0.1609\u001b[0m\n",
      "\u001b[34m[15:58:28] src/tree/updater_prune.cc:74: tree pruning end, 1 roots, 24 extra nodes, 14 pruned nodes, max_depth=5\u001b[0m\n",
      "\u001b[34m[88]#011train-error:0.109667#011validation-error:0.1611\u001b[0m\n",
      "\u001b[34m[15:58:29] src/tree/updater_prune.cc:74: tree pruning end, 1 roots, 14 extra nodes, 8 pruned nodes, max_depth=5\u001b[0m\n",
      "\u001b[34m[89]#011train-error:0.1098#011validation-error:0.1613\u001b[0m\n",
      "\u001b[34m[15:58:31] src/tree/updater_prune.cc:74: tree pruning end, 1 roots, 34 extra nodes, 6 pruned nodes, max_depth=5\u001b[0m\n",
      "\u001b[34m[90]#011train-error:0.108733#011validation-error:0.1602\u001b[0m\n",
      "\u001b[34m[15:58:32] src/tree/updater_prune.cc:74: tree pruning end, 1 roots, 22 extra nodes, 12 pruned nodes, max_depth=5\u001b[0m\n",
      "\u001b[34m[91]#011train-error:0.108467#011validation-error:0.1601\u001b[0m\n"
     ]
    },
    {
     "name": "stdout",
     "output_type": "stream",
     "text": [
      "\u001b[34m[15:58:33] src/tree/updater_prune.cc:74: tree pruning end, 1 roots, 18 extra nodes, 2 pruned nodes, max_depth=5\u001b[0m\n",
      "\u001b[34m[92]#011train-error:0.108467#011validation-error:0.1592\u001b[0m\n",
      "\u001b[34m[15:58:34] src/tree/updater_prune.cc:74: tree pruning end, 1 roots, 14 extra nodes, 8 pruned nodes, max_depth=5\u001b[0m\n",
      "\u001b[34m[93]#011train-error:0.107867#011validation-error:0.1581\u001b[0m\n",
      "\u001b[34m[15:58:36] src/tree/updater_prune.cc:74: tree pruning end, 1 roots, 24 extra nodes, 6 pruned nodes, max_depth=5\u001b[0m\n",
      "\u001b[34m[94]#011train-error:0.106733#011validation-error:0.158\u001b[0m\n",
      "\u001b[34m[15:58:37] src/tree/updater_prune.cc:74: tree pruning end, 1 roots, 32 extra nodes, 12 pruned nodes, max_depth=5\u001b[0m\n",
      "\u001b[34m[95]#011train-error:0.105#011validation-error:0.1577\u001b[0m\n",
      "\u001b[34m[15:58:38] src/tree/updater_prune.cc:74: tree pruning end, 1 roots, 14 extra nodes, 6 pruned nodes, max_depth=5\u001b[0m\n",
      "\u001b[34m[96]#011train-error:0.1048#011validation-error:0.1576\u001b[0m\n",
      "\u001b[34m[15:58:39] src/tree/updater_prune.cc:74: tree pruning end, 1 roots, 18 extra nodes, 6 pruned nodes, max_depth=5\u001b[0m\n",
      "\u001b[34m[97]#011train-error:0.103733#011validation-error:0.1572\u001b[0m\n",
      "\u001b[34m[15:58:41] src/tree/updater_prune.cc:74: tree pruning end, 1 roots, 20 extra nodes, 8 pruned nodes, max_depth=5\u001b[0m\n",
      "\u001b[34m[98]#011train-error:0.103133#011validation-error:0.1566\u001b[0m\n",
      "\u001b[34m[15:58:42] src/tree/updater_prune.cc:74: tree pruning end, 1 roots, 12 extra nodes, 4 pruned nodes, max_depth=5\u001b[0m\n",
      "\u001b[34m[99]#011train-error:0.102867#011validation-error:0.1564\u001b[0m\n",
      "\u001b[34m[15:58:43] src/tree/updater_prune.cc:74: tree pruning end, 1 roots, 26 extra nodes, 2 pruned nodes, max_depth=5\u001b[0m\n",
      "\u001b[34m[100]#011train-error:0.101333#011validation-error:0.1553\u001b[0m\n",
      "\u001b[34m[15:58:45] src/tree/updater_prune.cc:74: tree pruning end, 1 roots, 14 extra nodes, 4 pruned nodes, max_depth=5\u001b[0m\n",
      "\u001b[34m[101]#011train-error:0.100867#011validation-error:0.1546\u001b[0m\n",
      "\u001b[34m[15:58:46] src/tree/updater_prune.cc:74: tree pruning end, 1 roots, 18 extra nodes, 8 pruned nodes, max_depth=5\u001b[0m\n",
      "\u001b[34m[102]#011train-error:0.1004#011validation-error:0.1548\u001b[0m\n",
      "\u001b[34m[15:58:47] src/tree/updater_prune.cc:74: tree pruning end, 1 roots, 12 extra nodes, 6 pruned nodes, max_depth=5\u001b[0m\n",
      "\u001b[34m[103]#011train-error:0.100133#011validation-error:0.1542\u001b[0m\n",
      "\u001b[34m[15:58:48] src/tree/updater_prune.cc:74: tree pruning end, 1 roots, 18 extra nodes, 6 pruned nodes, max_depth=5\u001b[0m\n",
      "\u001b[34m[104]#011train-error:0.099867#011validation-error:0.1538\u001b[0m\n",
      "\u001b[34m[15:58:50] src/tree/updater_prune.cc:74: tree pruning end, 1 roots, 20 extra nodes, 14 pruned nodes, max_depth=5\u001b[0m\n",
      "\u001b[34m[105]#011train-error:0.1002#011validation-error:0.1537\u001b[0m\n",
      "\u001b[34m[15:58:51] src/tree/updater_prune.cc:74: tree pruning end, 1 roots, 14 extra nodes, 8 pruned nodes, max_depth=5\u001b[0m\n",
      "\u001b[34m[106]#011train-error:0.100133#011validation-error:0.1535\u001b[0m\n",
      "\u001b[34m[15:58:52] src/tree/updater_prune.cc:74: tree pruning end, 1 roots, 16 extra nodes, 4 pruned nodes, max_depth=5\u001b[0m\n",
      "\u001b[34m[107]#011train-error:0.0998#011validation-error:0.1531\u001b[0m\n",
      "\u001b[34m[15:58:53] src/tree/updater_prune.cc:74: tree pruning end, 1 roots, 18 extra nodes, 10 pruned nodes, max_depth=5\u001b[0m\n",
      "\u001b[34m[108]#011train-error:0.099467#011validation-error:0.1524\u001b[0m\n",
      "\u001b[34m[15:58:55] src/tree/updater_prune.cc:74: tree pruning end, 1 roots, 10 extra nodes, 8 pruned nodes, max_depth=5\u001b[0m\n",
      "\u001b[34m[109]#011train-error:0.098867#011validation-error:0.1523\u001b[0m\n",
      "\u001b[34m[15:58:56] src/tree/updater_prune.cc:74: tree pruning end, 1 roots, 24 extra nodes, 12 pruned nodes, max_depth=5\u001b[0m\n",
      "\u001b[34m[110]#011train-error:0.097933#011validation-error:0.152\u001b[0m\n",
      "\u001b[34m[15:58:57] src/tree/updater_prune.cc:74: tree pruning end, 1 roots, 24 extra nodes, 12 pruned nodes, max_depth=5\u001b[0m\n",
      "\u001b[34m[111]#011train-error:0.096733#011validation-error:0.1526\u001b[0m\n",
      "\u001b[34m[15:58:59] src/tree/updater_prune.cc:74: tree pruning end, 1 roots, 18 extra nodes, 14 pruned nodes, max_depth=5\u001b[0m\n",
      "\u001b[34m[112]#011train-error:0.096267#011validation-error:0.1527\u001b[0m\n",
      "\u001b[34m[15:59:00] src/tree/updater_prune.cc:74: tree pruning end, 1 roots, 18 extra nodes, 8 pruned nodes, max_depth=5\u001b[0m\n",
      "\u001b[34m[113]#011train-error:0.0962#011validation-error:0.1529\u001b[0m\n",
      "\u001b[34m[15:59:01] src/tree/updater_prune.cc:74: tree pruning end, 1 roots, 18 extra nodes, 18 pruned nodes, max_depth=5\u001b[0m\n",
      "\u001b[34m[114]#011train-error:0.096067#011validation-error:0.1521\u001b[0m\n",
      "\u001b[34m[15:59:02] src/tree/updater_prune.cc:74: tree pruning end, 1 roots, 20 extra nodes, 8 pruned nodes, max_depth=5\u001b[0m\n",
      "\u001b[34m[115]#011train-error:0.0958#011validation-error:0.1525\u001b[0m\n",
      "\u001b[34m[15:59:04] src/tree/updater_prune.cc:74: tree pruning end, 1 roots, 24 extra nodes, 12 pruned nodes, max_depth=5\u001b[0m\n",
      "\u001b[34m[116]#011train-error:0.095267#011validation-error:0.1513\u001b[0m\n",
      "\u001b[34m[15:59:05] src/tree/updater_prune.cc:74: tree pruning end, 1 roots, 22 extra nodes, 4 pruned nodes, max_depth=5\u001b[0m\n",
      "\u001b[34m[117]#011train-error:0.095667#011validation-error:0.1515\u001b[0m\n",
      "\u001b[34m[15:59:06] src/tree/updater_prune.cc:74: tree pruning end, 1 roots, 22 extra nodes, 8 pruned nodes, max_depth=5\u001b[0m\n",
      "\u001b[34m[118]#011train-error:0.094667#011validation-error:0.1514\u001b[0m\n",
      "\u001b[34m[15:59:07] src/tree/updater_prune.cc:74: tree pruning end, 1 roots, 12 extra nodes, 2 pruned nodes, max_depth=5\u001b[0m\n",
      "\u001b[34m[119]#011train-error:0.094067#011validation-error:0.1511\u001b[0m\n",
      "\u001b[34m[15:59:09] src/tree/updater_prune.cc:74: tree pruning end, 1 roots, 18 extra nodes, 14 pruned nodes, max_depth=5\u001b[0m\n",
      "\u001b[34m[120]#011train-error:0.0938#011validation-error:0.1516\u001b[0m\n",
      "\u001b[34m[15:59:10] src/tree/updater_prune.cc:74: tree pruning end, 1 roots, 18 extra nodes, 10 pruned nodes, max_depth=5\u001b[0m\n",
      "\u001b[34m[121]#011train-error:0.0934#011validation-error:0.1512\u001b[0m\n",
      "\u001b[34m[15:59:11] src/tree/updater_prune.cc:74: tree pruning end, 1 roots, 22 extra nodes, 2 pruned nodes, max_depth=5\u001b[0m\n",
      "\u001b[34m[122]#011train-error:0.093267#011validation-error:0.1514\u001b[0m\n",
      "\u001b[34m[15:59:13] src/tree/updater_prune.cc:74: tree pruning end, 1 roots, 14 extra nodes, 2 pruned nodes, max_depth=5\u001b[0m\n",
      "\u001b[34m[123]#011train-error:0.0932#011validation-error:0.1513\u001b[0m\n",
      "\u001b[34m[15:59:14] src/tree/updater_prune.cc:74: tree pruning end, 1 roots, 10 extra nodes, 2 pruned nodes, max_depth=5\u001b[0m\n",
      "\u001b[34m[124]#011train-error:0.093533#011validation-error:0.1507\u001b[0m\n",
      "\u001b[34m[15:59:15] src/tree/updater_prune.cc:74: tree pruning end, 1 roots, 10 extra nodes, 6 pruned nodes, max_depth=5\u001b[0m\n",
      "\u001b[34m[125]#011train-error:0.0928#011validation-error:0.1505\u001b[0m\n",
      "\u001b[34m[15:59:16] src/tree/updater_prune.cc:74: tree pruning end, 1 roots, 24 extra nodes, 12 pruned nodes, max_depth=5\u001b[0m\n",
      "\u001b[34m[126]#011train-error:0.0922#011validation-error:0.1494\u001b[0m\n",
      "\u001b[34m[15:59:18] src/tree/updater_prune.cc:74: tree pruning end, 1 roots, 32 extra nodes, 4 pruned nodes, max_depth=5\u001b[0m\n",
      "\u001b[34m[127]#011train-error:0.0906#011validation-error:0.1483\u001b[0m\n",
      "\u001b[34m[15:59:19] src/tree/updater_prune.cc:74: tree pruning end, 1 roots, 16 extra nodes, 6 pruned nodes, max_depth=5\u001b[0m\n",
      "\u001b[34m[128]#011train-error:0.090467#011validation-error:0.148\u001b[0m\n",
      "\u001b[34m[15:59:20] src/tree/updater_prune.cc:74: tree pruning end, 1 roots, 12 extra nodes, 2 pruned nodes, max_depth=5\u001b[0m\n",
      "\u001b[34m[129]#011train-error:0.089867#011validation-error:0.148\u001b[0m\n",
      "\u001b[34m[15:59:21] src/tree/updater_prune.cc:74: tree pruning end, 1 roots, 16 extra nodes, 6 pruned nodes, max_depth=5\u001b[0m\n",
      "\u001b[34m[130]#011train-error:0.09#011validation-error:0.1473\u001b[0m\n",
      "\u001b[34m[15:59:23] src/tree/updater_prune.cc:74: tree pruning end, 1 roots, 16 extra nodes, 8 pruned nodes, max_depth=5\u001b[0m\n",
      "\u001b[34m[131]#011train-error:0.090067#011validation-error:0.1472\u001b[0m\n",
      "\u001b[34m[15:59:24] src/tree/updater_prune.cc:74: tree pruning end, 1 roots, 20 extra nodes, 6 pruned nodes, max_depth=5\u001b[0m\n",
      "\u001b[34m[132]#011train-error:0.089333#011validation-error:0.1463\u001b[0m\n",
      "\u001b[34m[15:59:25] src/tree/updater_prune.cc:74: tree pruning end, 1 roots, 18 extra nodes, 12 pruned nodes, max_depth=5\u001b[0m\n",
      "\u001b[34m[133]#011train-error:0.0884#011validation-error:0.1459\u001b[0m\n",
      "\u001b[34m[15:59:26] src/tree/updater_prune.cc:74: tree pruning end, 1 roots, 24 extra nodes, 14 pruned nodes, max_depth=5\u001b[0m\n",
      "\u001b[34m[134]#011train-error:0.0878#011validation-error:0.1454\u001b[0m\n",
      "\u001b[34m[15:59:28] src/tree/updater_prune.cc:74: tree pruning end, 1 roots, 24 extra nodes, 4 pruned nodes, max_depth=5\u001b[0m\n",
      "\u001b[34m[135]#011train-error:0.0868#011validation-error:0.1445\u001b[0m\n",
      "\u001b[34m[15:59:29] src/tree/updater_prune.cc:74: tree pruning end, 1 roots, 16 extra nodes, 6 pruned nodes, max_depth=5\u001b[0m\n",
      "\u001b[34m[136]#011train-error:0.086267#011validation-error:0.1452\u001b[0m\n",
      "\u001b[34m[15:59:30] src/tree/updater_prune.cc:74: tree pruning end, 1 roots, 18 extra nodes, 10 pruned nodes, max_depth=5\u001b[0m\n",
      "\u001b[34m[137]#011train-error:0.086533#011validation-error:0.1451\u001b[0m\n",
      "\u001b[34m[15:59:32] src/tree/updater_prune.cc:74: tree pruning end, 1 roots, 24 extra nodes, 2 pruned nodes, max_depth=5\u001b[0m\n",
      "\u001b[34m[138]#011train-error:0.0862#011validation-error:0.1446\u001b[0m\n",
      "\u001b[34m[15:59:33] src/tree/updater_prune.cc:74: tree pruning end, 1 roots, 12 extra nodes, 4 pruned nodes, max_depth=5\u001b[0m\n",
      "\u001b[34m[139]#011train-error:0.086067#011validation-error:0.1444\u001b[0m\n"
     ]
    },
    {
     "name": "stdout",
     "output_type": "stream",
     "text": [
      "\u001b[34m[15:59:34] src/tree/updater_prune.cc:74: tree pruning end, 1 roots, 10 extra nodes, 8 pruned nodes, max_depth=5\u001b[0m\n",
      "\u001b[34m[140]#011train-error:0.0854#011validation-error:0.1444\u001b[0m\n",
      "\u001b[34m[15:59:35] src/tree/updater_prune.cc:74: tree pruning end, 1 roots, 12 extra nodes, 4 pruned nodes, max_depth=5\u001b[0m\n",
      "\u001b[34m[141]#011train-error:0.0854#011validation-error:0.1441\u001b[0m\n",
      "\u001b[34m[15:59:37] src/tree/updater_prune.cc:74: tree pruning end, 1 roots, 24 extra nodes, 6 pruned nodes, max_depth=5\u001b[0m\n",
      "\u001b[34m[142]#011train-error:0.0854#011validation-error:0.1433\u001b[0m\n",
      "\u001b[34m[15:59:38] src/tree/updater_prune.cc:74: tree pruning end, 1 roots, 36 extra nodes, 12 pruned nodes, max_depth=5\u001b[0m\n",
      "\u001b[34m[143]#011train-error:0.084267#011validation-error:0.1433\u001b[0m\n",
      "\u001b[34m[15:59:39] src/tree/updater_prune.cc:74: tree pruning end, 1 roots, 14 extra nodes, 4 pruned nodes, max_depth=5\u001b[0m\n",
      "\u001b[34m[144]#011train-error:0.083933#011validation-error:0.1431\u001b[0m\n",
      "\u001b[34m[15:59:40] src/tree/updater_prune.cc:74: tree pruning end, 1 roots, 12 extra nodes, 12 pruned nodes, max_depth=5\u001b[0m\n",
      "\u001b[34m[145]#011train-error:0.083667#011validation-error:0.1437\u001b[0m\n",
      "\u001b[34m[15:59:42] src/tree/updater_prune.cc:74: tree pruning end, 1 roots, 16 extra nodes, 4 pruned nodes, max_depth=5\u001b[0m\n",
      "\u001b[34m[146]#011train-error:0.083933#011validation-error:0.1428\u001b[0m\n",
      "\u001b[34m[15:59:43] src/tree/updater_prune.cc:74: tree pruning end, 1 roots, 12 extra nodes, 8 pruned nodes, max_depth=5\u001b[0m\n",
      "\u001b[34m[147]#011train-error:0.083467#011validation-error:0.1426\u001b[0m\n",
      "\u001b[34m[15:59:44] src/tree/updater_prune.cc:74: tree pruning end, 1 roots, 24 extra nodes, 10 pruned nodes, max_depth=5\u001b[0m\n",
      "\u001b[34m[148]#011train-error:0.082133#011validation-error:0.1434\u001b[0m\n",
      "\u001b[34m[15:59:45] src/tree/updater_prune.cc:74: tree pruning end, 1 roots, 16 extra nodes, 6 pruned nodes, max_depth=5\u001b[0m\n",
      "\u001b[34m[149]#011train-error:0.081933#011validation-error:0.1435\u001b[0m\n",
      "\u001b[34m[15:59:47] src/tree/updater_prune.cc:74: tree pruning end, 1 roots, 12 extra nodes, 12 pruned nodes, max_depth=5\u001b[0m\n",
      "\u001b[34m[150]#011train-error:0.081933#011validation-error:0.1432\u001b[0m\n",
      "\u001b[34m[15:59:48] src/tree/updater_prune.cc:74: tree pruning end, 1 roots, 14 extra nodes, 2 pruned nodes, max_depth=5\u001b[0m\n",
      "\u001b[34m[151]#011train-error:0.0816#011validation-error:0.1429\u001b[0m\n",
      "\u001b[34m[15:59:49] src/tree/updater_prune.cc:74: tree pruning end, 1 roots, 12 extra nodes, 2 pruned nodes, max_depth=5\u001b[0m\n",
      "\u001b[34m[152]#011train-error:0.081467#011validation-error:0.1427\u001b[0m\n",
      "\u001b[34m[15:59:51] src/tree/updater_prune.cc:74: tree pruning end, 1 roots, 10 extra nodes, 0 pruned nodes, max_depth=5\u001b[0m\n",
      "\u001b[34m[153]#011train-error:0.081133#011validation-error:0.1429\u001b[0m\n",
      "\u001b[34m[15:59:52] src/tree/updater_prune.cc:74: tree pruning end, 1 roots, 22 extra nodes, 8 pruned nodes, max_depth=5\u001b[0m\n",
      "\u001b[34m[154]#011train-error:0.081133#011validation-error:0.1428\u001b[0m\n",
      "\u001b[34m[15:59:53] src/tree/updater_prune.cc:74: tree pruning end, 1 roots, 14 extra nodes, 8 pruned nodes, max_depth=5\u001b[0m\n",
      "\u001b[34m[155]#011train-error:0.0808#011validation-error:0.1425\u001b[0m\n",
      "\u001b[34m[15:59:54] src/tree/updater_prune.cc:74: tree pruning end, 1 roots, 12 extra nodes, 6 pruned nodes, max_depth=5\u001b[0m\n",
      "\u001b[34m[156]#011train-error:0.0806#011validation-error:0.1414\u001b[0m\n",
      "\u001b[34m[15:59:56] src/tree/updater_prune.cc:74: tree pruning end, 1 roots, 14 extra nodes, 8 pruned nodes, max_depth=5\u001b[0m\n",
      "\u001b[34m[157]#011train-error:0.080267#011validation-error:0.1416\u001b[0m\n",
      "\u001b[34m[15:59:57] src/tree/updater_prune.cc:74: tree pruning end, 1 roots, 16 extra nodes, 8 pruned nodes, max_depth=5\u001b[0m\n",
      "\u001b[34m[158]#011train-error:0.080267#011validation-error:0.1418\u001b[0m\n",
      "\u001b[34m[15:59:58] src/tree/updater_prune.cc:74: tree pruning end, 1 roots, 16 extra nodes, 6 pruned nodes, max_depth=5\u001b[0m\n",
      "\u001b[34m[159]#011train-error:0.080267#011validation-error:0.1423\u001b[0m\n",
      "\u001b[34m[15:59:59] src/tree/updater_prune.cc:74: tree pruning end, 1 roots, 14 extra nodes, 12 pruned nodes, max_depth=5\u001b[0m\n",
      "\u001b[34m[160]#011train-error:0.080133#011validation-error:0.1417\u001b[0m\n",
      "\u001b[34m[16:00:01] src/tree/updater_prune.cc:74: tree pruning end, 1 roots, 10 extra nodes, 4 pruned nodes, max_depth=5\u001b[0m\n",
      "\u001b[34m[161]#011train-error:0.080133#011validation-error:0.1413\u001b[0m\n",
      "\u001b[34m[16:00:02] src/tree/updater_prune.cc:74: tree pruning end, 1 roots, 10 extra nodes, 10 pruned nodes, max_depth=5\u001b[0m\n",
      "\u001b[34m[162]#011train-error:0.080067#011validation-error:0.1409\u001b[0m\n",
      "\u001b[34m[16:00:03] src/tree/updater_prune.cc:74: tree pruning end, 1 roots, 12 extra nodes, 0 pruned nodes, max_depth=5\u001b[0m\n",
      "\u001b[34m[163]#011train-error:0.079733#011validation-error:0.1411\u001b[0m\n",
      "\u001b[34m[16:00:05] src/tree/updater_prune.cc:74: tree pruning end, 1 roots, 14 extra nodes, 4 pruned nodes, max_depth=5\u001b[0m\n",
      "\u001b[34m[164]#011train-error:0.079533#011validation-error:0.1406\u001b[0m\n",
      "\u001b[34m[16:00:06] src/tree/updater_prune.cc:74: tree pruning end, 1 roots, 18 extra nodes, 4 pruned nodes, max_depth=5\u001b[0m\n",
      "\u001b[34m[165]#011train-error:0.078733#011validation-error:0.1405\u001b[0m\n",
      "\u001b[34m[16:00:07] src/tree/updater_prune.cc:74: tree pruning end, 1 roots, 12 extra nodes, 8 pruned nodes, max_depth=5\u001b[0m\n",
      "\u001b[34m[166]#011train-error:0.078733#011validation-error:0.1407\u001b[0m\n",
      "\u001b[34m[16:00:08] src/tree/updater_prune.cc:74: tree pruning end, 1 roots, 10 extra nodes, 4 pruned nodes, max_depth=5\u001b[0m\n",
      "\u001b[34m[167]#011train-error:0.078867#011validation-error:0.1396\u001b[0m\n",
      "\u001b[34m[16:00:10] src/tree/updater_prune.cc:74: tree pruning end, 1 roots, 10 extra nodes, 2 pruned nodes, max_depth=5\u001b[0m\n",
      "\u001b[34m[168]#011train-error:0.079#011validation-error:0.1404\u001b[0m\n",
      "\u001b[34m[16:00:11] src/tree/updater_prune.cc:74: tree pruning end, 1 roots, 14 extra nodes, 2 pruned nodes, max_depth=5\u001b[0m\n",
      "\u001b[34m[169]#011train-error:0.078667#011validation-error:0.1406\u001b[0m\n",
      "\u001b[34m[16:00:12] src/tree/updater_prune.cc:74: tree pruning end, 1 roots, 16 extra nodes, 6 pruned nodes, max_depth=5\u001b[0m\n",
      "\u001b[34m[170]#011train-error:0.079#011validation-error:0.1407\u001b[0m\n",
      "\u001b[34m[16:00:13] src/tree/updater_prune.cc:74: tree pruning end, 1 roots, 28 extra nodes, 10 pruned nodes, max_depth=5\u001b[0m\n",
      "\u001b[34m[171]#011train-error:0.0782#011validation-error:0.1405\u001b[0m\n",
      "\n",
      "2020-07-20 16:00:22 Uploading - Uploading generated training model\u001b[34m[16:00:15] src/tree/updater_prune.cc:74: tree pruning end, 1 roots, 18 extra nodes, 10 pruned nodes, max_depth=5\u001b[0m\n",
      "\u001b[34m[172]#011train-error:0.078067#011validation-error:0.1409\u001b[0m\n",
      "\u001b[34m[16:00:16] src/tree/updater_prune.cc:74: tree pruning end, 1 roots, 20 extra nodes, 10 pruned nodes, max_depth=5\u001b[0m\n",
      "\u001b[34m[173]#011train-error:0.077933#011validation-error:0.1407\u001b[0m\n",
      "\u001b[34m[16:00:17] src/tree/updater_prune.cc:74: tree pruning end, 1 roots, 14 extra nodes, 10 pruned nodes, max_depth=5\u001b[0m\n",
      "\u001b[34m[174]#011train-error:0.077867#011validation-error:0.1406\u001b[0m\n",
      "\u001b[34m[16:00:18] src/tree/updater_prune.cc:74: tree pruning end, 1 roots, 10 extra nodes, 8 pruned nodes, max_depth=5\u001b[0m\n",
      "\u001b[34m[175]#011train-error:0.077667#011validation-error:0.1397\u001b[0m\n",
      "\u001b[34m[16:00:20] src/tree/updater_prune.cc:74: tree pruning end, 1 roots, 12 extra nodes, 6 pruned nodes, max_depth=5\u001b[0m\n",
      "\u001b[34m[176]#011train-error:0.077533#011validation-error:0.14\u001b[0m\n",
      "\u001b[34m[16:00:21] src/tree/updater_prune.cc:74: tree pruning end, 1 roots, 16 extra nodes, 10 pruned nodes, max_depth=5\u001b[0m\n",
      "\u001b[34m[177]#011train-error:0.077267#011validation-error:0.1398\u001b[0m\n",
      "\u001b[34mStopping. Best iteration:\u001b[0m\n",
      "\u001b[34m[167]#011train-error:0.078867#011validation-error:0.1396\n",
      "\u001b[0m\n",
      "\n",
      "2020-07-20 16:00:29 Completed - Training job completed\n",
      "Training seconds: 275\n",
      "Billable seconds: 275\n"
     ]
    }
   ],
   "source": [
    "xgb.fit({'train': s3_input_train, 'validation': s3_input_validation})"
   ]
  },
  {
   "cell_type": "markdown",
   "metadata": {},
   "source": [
    "## Step 5: Testing the model\n",
    "\n",
    "Now that we've fit our XGBoost model, it's time to see how well it performs. To do this we will use SageMakers Batch Transform functionality. Batch Transform is a convenient way to perform inference on a large dataset in a way that is not realtime. That is, we don't necessarily need to use our model's results immediately and instead we can perform inference on a large number of samples. An example of this in industry might be performing an end of month report. This method of inference can also be useful to us as it means that we can perform inference on our entire test set. \n",
    "\n",
    "To perform a Batch Transformation we need to first create a transformer objects from our trained estimator object."
   ]
  },
  {
   "cell_type": "code",
   "execution_count": 27,
   "metadata": {},
   "outputs": [
    {
     "name": "stderr",
     "output_type": "stream",
     "text": [
      "WARNING:sagemaker:Parameter image will be renamed to image_uri in SageMaker Python SDK v2.\n"
     ]
    }
   ],
   "source": [
    "xgb_transformer = xgb.transformer(instance_count = 1, instance_type = 'ml.m4.xlarge')"
   ]
  },
  {
   "cell_type": "markdown",
   "metadata": {},
   "source": [
    "Next we actually perform the transform job. When doing so we need to make sure to specify the type of data we are sending so that it is serialized correctly in the background. In our case we are providing our model with csv data so we specify `text/csv`. Also, if the test data that we have provided is too large to process all at once then we need to specify how the data file should be split up. Since each line is a single entry in our data set we tell SageMaker that it can split the input on each line."
   ]
  },
  {
   "cell_type": "code",
   "execution_count": 28,
   "metadata": {},
   "outputs": [],
   "source": [
    "xgb_transformer.transform(test_location, content_type='text/csv', split_type='Line')"
   ]
  },
  {
   "cell_type": "markdown",
   "metadata": {},
   "source": [
    "Currently the transform job is running but it is doing so in the background. Since we wish to wait until the transform job is done and we would like a bit of feedback we can run the `wait()` method."
   ]
  },
  {
   "cell_type": "code",
   "execution_count": 29,
   "metadata": {},
   "outputs": [
    {
     "name": "stdout",
     "output_type": "stream",
     "text": [
      ".....................\u001b[34mArguments: serve\u001b[0m\n",
      "\u001b[34m[2020-07-20 16:04:31 +0000] [1] [INFO] Starting gunicorn 19.7.1\u001b[0m\n",
      "\u001b[34m[2020-07-20 16:04:31 +0000] [1] [INFO] Listening at: http://0.0.0.0:8080 (1)\u001b[0m\n",
      "\u001b[34m[2020-07-20 16:04:31 +0000] [1] [INFO] Using worker: gevent\u001b[0m\n",
      "\u001b[34m[2020-07-20 16:04:31 +0000] [37] [INFO] Booting worker with pid: 37\u001b[0m\n",
      "\u001b[34m[2020-07-20 16:04:32 +0000] [38] [INFO] Booting worker with pid: 38\u001b[0m\n",
      "\u001b[34m[2020-07-20 16:04:32 +0000] [39] [INFO] Booting worker with pid: 39\u001b[0m\n",
      "\u001b[34m[2020-07-20 16:04:32 +0000] [40] [INFO] Booting worker with pid: 40\u001b[0m\n",
      "\u001b[34m[2020-07-20:16:04:32:INFO] Model loaded successfully for worker : 37\u001b[0m\n",
      "\u001b[34m[2020-07-20:16:04:32:INFO] Model loaded successfully for worker : 38\u001b[0m\n",
      "\u001b[34m[2020-07-20:16:04:32:INFO] Model loaded successfully for worker : 39\u001b[0m\n",
      "\u001b[34m[2020-07-20:16:04:32:INFO] Model loaded successfully for worker : 40\u001b[0m\n",
      "\u001b[32m2020-07-20T16:05:00.596:[sagemaker logs]: MaxConcurrentTransforms=4, MaxPayloadInMB=6, BatchStrategy=MULTI_RECORD\u001b[0m\n",
      "\u001b[34m[2020-07-20:16:05:03:INFO] Sniff delimiter as ','\u001b[0m\n",
      "\u001b[34m[2020-07-20:16:05:03:INFO] Determined delimiter of CSV input is ','\u001b[0m\n",
      "\u001b[34m[2020-07-20:16:05:03:INFO] Sniff delimiter as ','\u001b[0m\n",
      "\u001b[34m[2020-07-20:16:05:03:INFO] Determined delimiter of CSV input is ','\u001b[0m\n",
      "\u001b[34m[2020-07-20:16:05:03:INFO] Sniff delimiter as ','\u001b[0m\n",
      "\u001b[34m[2020-07-20:16:05:03:INFO] Determined delimiter of CSV input is ','\u001b[0m\n",
      "\u001b[35m[2020-07-20:16:05:03:INFO] Sniff delimiter as ','\u001b[0m\n",
      "\u001b[35m[2020-07-20:16:05:03:INFO] Determined delimiter of CSV input is ','\u001b[0m\n",
      "\u001b[35m[2020-07-20:16:05:03:INFO] Sniff delimiter as ','\u001b[0m\n",
      "\u001b[35m[2020-07-20:16:05:03:INFO] Determined delimiter of CSV input is ','\u001b[0m\n",
      "\u001b[35m[2020-07-20:16:05:03:INFO] Sniff delimiter as ','\u001b[0m\n",
      "\u001b[35m[2020-07-20:16:05:03:INFO] Determined delimiter of CSV input is ','\u001b[0m\n",
      "\u001b[34m[2020-07-20:16:05:04:INFO] Sniff delimiter as ','\u001b[0m\n",
      "\u001b[34m[2020-07-20:16:05:04:INFO] Determined delimiter of CSV input is ','\u001b[0m\n",
      "\u001b[35m[2020-07-20:16:05:04:INFO] Sniff delimiter as ','\u001b[0m\n",
      "\u001b[35m[2020-07-20:16:05:04:INFO] Determined delimiter of CSV input is ','\u001b[0m\n",
      "\u001b[34m[2020-07-20:16:05:05:INFO] Sniff delimiter as ','\u001b[0m\n",
      "\u001b[34m[2020-07-20:16:05:05:INFO] Determined delimiter of CSV input is ','\u001b[0m\n",
      "\u001b[34m[2020-07-20:16:05:06:INFO] Sniff delimiter as ','\u001b[0m\n",
      "\u001b[34m[2020-07-20:16:05:06:INFO] Determined delimiter of CSV input is ','\u001b[0m\n",
      "\u001b[34m[2020-07-20:16:05:06:INFO] Sniff delimiter as ','\u001b[0m\n",
      "\u001b[34m[2020-07-20:16:05:06:INFO] Determined delimiter of CSV input is ','\u001b[0m\n",
      "\u001b[35m[2020-07-20:16:05:05:INFO] Sniff delimiter as ','\u001b[0m\n",
      "\u001b[35m[2020-07-20:16:05:05:INFO] Determined delimiter of CSV input is ','\u001b[0m\n",
      "\u001b[35m[2020-07-20:16:05:06:INFO] Sniff delimiter as ','\u001b[0m\n",
      "\u001b[35m[2020-07-20:16:05:06:INFO] Determined delimiter of CSV input is ','\u001b[0m\n",
      "\u001b[35m[2020-07-20:16:05:06:INFO] Sniff delimiter as ','\u001b[0m\n",
      "\u001b[35m[2020-07-20:16:05:06:INFO] Determined delimiter of CSV input is ','\u001b[0m\n",
      "\u001b[34m[2020-07-20:16:05:07:INFO] Sniff delimiter as ','\u001b[0m\n",
      "\u001b[34m[2020-07-20:16:05:07:INFO] Determined delimiter of CSV input is ','\u001b[0m\n",
      "\u001b[35m[2020-07-20:16:05:07:INFO] Sniff delimiter as ','\u001b[0m\n",
      "\u001b[35m[2020-07-20:16:05:07:INFO] Determined delimiter of CSV input is ','\u001b[0m\n",
      "\u001b[34m[2020-07-20:16:05:08:INFO] Sniff delimiter as ','\u001b[0m\n",
      "\u001b[34m[2020-07-20:16:05:08:INFO] Determined delimiter of CSV input is ','\u001b[0m\n",
      "\u001b[34m[2020-07-20:16:05:08:INFO] Sniff delimiter as ','\u001b[0m\n",
      "\u001b[34m[2020-07-20:16:05:08:INFO] Determined delimiter of CSV input is ','\u001b[0m\n",
      "\u001b[35m[2020-07-20:16:05:08:INFO] Sniff delimiter as ','\u001b[0m\n",
      "\u001b[35m[2020-07-20:16:05:08:INFO] Determined delimiter of CSV input is ','\u001b[0m\n",
      "\u001b[35m[2020-07-20:16:05:08:INFO] Sniff delimiter as ','\u001b[0m\n",
      "\u001b[35m[2020-07-20:16:05:08:INFO] Determined delimiter of CSV input is ','\u001b[0m\n",
      "\u001b[34m[2020-07-20:16:05:09:INFO] Sniff delimiter as ','\u001b[0m\n",
      "\u001b[34m[2020-07-20:16:05:09:INFO] Determined delimiter of CSV input is ','\u001b[0m\n",
      "\u001b[35m[2020-07-20:16:05:09:INFO] Sniff delimiter as ','\u001b[0m\n",
      "\u001b[35m[2020-07-20:16:05:09:INFO] Determined delimiter of CSV input is ','\u001b[0m\n",
      "\u001b[34m[2020-07-20:16:05:10:INFO] Sniff delimiter as ','\u001b[0m\n",
      "\u001b[34m[2020-07-20:16:05:10:INFO] Determined delimiter of CSV input is ','\u001b[0m\n",
      "\u001b[35m[2020-07-20:16:05:10:INFO] Sniff delimiter as ','\u001b[0m\n",
      "\u001b[35m[2020-07-20:16:05:10:INFO] Determined delimiter of CSV input is ','\u001b[0m\n",
      "\u001b[34m[2020-07-20:16:05:11:INFO] Sniff delimiter as ','\u001b[0m\n",
      "\u001b[34m[2020-07-20:16:05:11:INFO] Determined delimiter of CSV input is ','\u001b[0m\n",
      "\u001b[34m[2020-07-20:16:05:11:INFO] Sniff delimiter as ','\u001b[0m\n",
      "\u001b[34m[2020-07-20:16:05:11:INFO] Determined delimiter of CSV input is ','\u001b[0m\n",
      "\u001b[34m[2020-07-20:16:05:12:INFO] Sniff delimiter as ','\u001b[0m\n",
      "\u001b[34m[2020-07-20:16:05:12:INFO] Determined delimiter of CSV input is ','\u001b[0m\n",
      "\u001b[34m[2020-07-20:16:05:12:INFO] Sniff delimiter as ','\u001b[0m\n",
      "\u001b[34m[2020-07-20:16:05:12:INFO] Determined delimiter of CSV input is ','\u001b[0m\n",
      "\u001b[35m[2020-07-20:16:05:11:INFO] Sniff delimiter as ','\u001b[0m\n",
      "\u001b[35m[2020-07-20:16:05:11:INFO] Determined delimiter of CSV input is ','\u001b[0m\n",
      "\u001b[35m[2020-07-20:16:05:11:INFO] Sniff delimiter as ','\u001b[0m\n",
      "\u001b[35m[2020-07-20:16:05:11:INFO] Determined delimiter of CSV input is ','\u001b[0m\n",
      "\u001b[35m[2020-07-20:16:05:12:INFO] Sniff delimiter as ','\u001b[0m\n",
      "\u001b[35m[2020-07-20:16:05:12:INFO] Determined delimiter of CSV input is ','\u001b[0m\n",
      "\u001b[35m[2020-07-20:16:05:12:INFO] Sniff delimiter as ','\u001b[0m\n",
      "\u001b[35m[2020-07-20:16:05:12:INFO] Determined delimiter of CSV input is ','\u001b[0m\n",
      "\u001b[34m[2020-07-20:16:05:14:INFO] Sniff delimiter as ','\u001b[0m\n",
      "\u001b[34m[2020-07-20:16:05:14:INFO] Determined delimiter of CSV input is ','\u001b[0m\n",
      "\u001b[34m[2020-07-20:16:05:14:INFO] Sniff delimiter as ','\u001b[0m\n",
      "\u001b[34m[2020-07-20:16:05:14:INFO] Determined delimiter of CSV input is ','\u001b[0m\n",
      "\u001b[34m[2020-07-20:16:05:14:INFO] Sniff delimiter as ','\u001b[0m\n",
      "\u001b[34m[2020-07-20:16:05:14:INFO] Determined delimiter of CSV input is ','\u001b[0m\n",
      "\u001b[35m[2020-07-20:16:05:14:INFO] Sniff delimiter as ','\u001b[0m\n",
      "\u001b[35m[2020-07-20:16:05:14:INFO] Determined delimiter of CSV input is ','\u001b[0m\n",
      "\u001b[35m[2020-07-20:16:05:14:INFO] Sniff delimiter as ','\u001b[0m\n",
      "\u001b[35m[2020-07-20:16:05:14:INFO] Determined delimiter of CSV input is ','\u001b[0m\n",
      "\u001b[35m[2020-07-20:16:05:14:INFO] Sniff delimiter as ','\u001b[0m\n",
      "\u001b[35m[2020-07-20:16:05:14:INFO] Determined delimiter of CSV input is ','\u001b[0m\n",
      "\u001b[34m[2020-07-20:16:05:14:INFO] Sniff delimiter as ','\u001b[0m\n",
      "\u001b[34m[2020-07-20:16:05:14:INFO] Determined delimiter of CSV input is ','\u001b[0m\n",
      "\u001b[35m[2020-07-20:16:05:14:INFO] Sniff delimiter as ','\u001b[0m\n",
      "\u001b[35m[2020-07-20:16:05:14:INFO] Determined delimiter of CSV input is ','\u001b[0m\n",
      "\u001b[34m[2020-07-20:16:05:16:INFO] Sniff delimiter as ','\u001b[0m\n",
      "\u001b[34m[2020-07-20:16:05:16:INFO] Determined delimiter of CSV input is ','\u001b[0m\n",
      "\u001b[35m[2020-07-20:16:05:16:INFO] Sniff delimiter as ','\u001b[0m\n",
      "\u001b[35m[2020-07-20:16:05:16:INFO] Determined delimiter of CSV input is ','\u001b[0m\n",
      "\u001b[34m[2020-07-20:16:05:16:INFO] Sniff delimiter as ','\u001b[0m\n",
      "\u001b[34m[2020-07-20:16:05:16:INFO] Determined delimiter of CSV input is ','\u001b[0m\n",
      "\u001b[34m[2020-07-20:16:05:17:INFO] Sniff delimiter as ','\u001b[0m\n",
      "\u001b[34m[2020-07-20:16:05:17:INFO] Determined delimiter of CSV input is ','\u001b[0m\n",
      "\u001b[34m[2020-07-20:16:05:17:INFO] Sniff delimiter as ','\u001b[0m\n",
      "\u001b[34m[2020-07-20:16:05:17:INFO] Determined delimiter of CSV input is ','\u001b[0m\n",
      "\u001b[35m[2020-07-20:16:05:16:INFO] Sniff delimiter as ','\u001b[0m\n",
      "\u001b[35m[2020-07-20:16:05:16:INFO] Determined delimiter of CSV input is ','\u001b[0m\n",
      "\u001b[35m[2020-07-20:16:05:17:INFO] Sniff delimiter as ','\u001b[0m\n",
      "\u001b[35m[2020-07-20:16:05:17:INFO] Determined delimiter of CSV input is ','\u001b[0m\n",
      "\u001b[35m[2020-07-20:16:05:17:INFO] Sniff delimiter as ','\u001b[0m\n",
      "\u001b[35m[2020-07-20:16:05:17:INFO] Determined delimiter of CSV input is ','\u001b[0m\n",
      "\u001b[34m[2020-07-20:16:05:19:INFO] Sniff delimiter as ','\u001b[0m\n",
      "\u001b[34m[2020-07-20:16:05:19:INFO] Determined delimiter of CSV input is ','\u001b[0m\n",
      "\u001b[35m[2020-07-20:16:05:19:INFO] Sniff delimiter as ','\u001b[0m\n",
      "\u001b[35m[2020-07-20:16:05:19:INFO] Determined delimiter of CSV input is ','\u001b[0m\n",
      "\u001b[34m[2020-07-20:16:05:21:INFO] Sniff delimiter as ','\u001b[0m\n",
      "\u001b[34m[2020-07-20:16:05:21:INFO] Determined delimiter of CSV input is ','\u001b[0m\n",
      "\u001b[35m[2020-07-20:16:05:21:INFO] Sniff delimiter as ','\u001b[0m\n",
      "\u001b[35m[2020-07-20:16:05:21:INFO] Determined delimiter of CSV input is ','\u001b[0m\n",
      "\u001b[34m[2020-07-20:16:05:21:INFO] Sniff delimiter as ','\u001b[0m\n",
      "\u001b[34m[2020-07-20:16:05:21:INFO] Determined delimiter of CSV input is ','\u001b[0m\n",
      "\u001b[34m[2020-07-20:16:05:21:INFO] Sniff delimiter as ','\u001b[0m\n",
      "\u001b[34m[2020-07-20:16:05:21:INFO] Determined delimiter of CSV input is ','\u001b[0m\n",
      "\u001b[35m[2020-07-20:16:05:21:INFO] Sniff delimiter as ','\u001b[0m\n",
      "\u001b[35m[2020-07-20:16:05:21:INFO] Determined delimiter of CSV input is ','\u001b[0m\n",
      "\u001b[35m[2020-07-20:16:05:21:INFO] Sniff delimiter as ','\u001b[0m\n",
      "\u001b[35m[2020-07-20:16:05:21:INFO] Determined delimiter of CSV input is ','\u001b[0m\n",
      "\u001b[34m[2020-07-20:16:05:22:INFO] Sniff delimiter as ','\u001b[0m\n",
      "\u001b[34m[2020-07-20:16:05:22:INFO] Determined delimiter of CSV input is ','\u001b[0m\n",
      "\u001b[35m[2020-07-20:16:05:22:INFO] Sniff delimiter as ','\u001b[0m\n",
      "\u001b[35m[2020-07-20:16:05:22:INFO] Determined delimiter of CSV input is ','\u001b[0m\n"
     ]
    },
    {
     "name": "stdout",
     "output_type": "stream",
     "text": [
      "\n",
      "\u001b[34m[2020-07-20:16:05:24:INFO] Sniff delimiter as ','\u001b[0m\n",
      "\u001b[35m[2020-07-20:16:05:24:INFO] Sniff delimiter as ','\u001b[0m\n",
      "\u001b[34m[2020-07-20:16:05:24:INFO] Determined delimiter of CSV input is ','\u001b[0m\n",
      "\u001b[34m[2020-07-20:16:05:24:INFO] Sniff delimiter as ','\u001b[0m\n",
      "\u001b[34m[2020-07-20:16:05:24:INFO] Determined delimiter of CSV input is ','\u001b[0m\n",
      "\u001b[34m[2020-07-20:16:05:24:INFO] Sniff delimiter as ','\u001b[0m\n",
      "\u001b[34m[2020-07-20:16:05:24:INFO] Determined delimiter of CSV input is ','\u001b[0m\n",
      "\u001b[35m[2020-07-20:16:05:24:INFO] Determined delimiter of CSV input is ','\u001b[0m\n",
      "\u001b[35m[2020-07-20:16:05:24:INFO] Sniff delimiter as ','\u001b[0m\n",
      "\u001b[35m[2020-07-20:16:05:24:INFO] Determined delimiter of CSV input is ','\u001b[0m\n",
      "\u001b[35m[2020-07-20:16:05:24:INFO] Sniff delimiter as ','\u001b[0m\n",
      "\u001b[35m[2020-07-20:16:05:24:INFO] Determined delimiter of CSV input is ','\u001b[0m\n",
      "\u001b[34m[2020-07-20:16:05:26:INFO] Sniff delimiter as ','\u001b[0m\n",
      "\u001b[35m[2020-07-20:16:05:26:INFO] Sniff delimiter as ','\u001b[0m\n",
      "\u001b[34m[2020-07-20:16:05:26:INFO] Determined delimiter of CSV input is ','\u001b[0m\n",
      "\u001b[34m[2020-07-20:16:05:26:INFO] Sniff delimiter as ','\u001b[0m\n",
      "\u001b[34m[2020-07-20:16:05:26:INFO] Determined delimiter of CSV input is ','\u001b[0m\n",
      "\u001b[34m[2020-07-20:16:05:26:INFO] Sniff delimiter as ','\u001b[0m\n",
      "\u001b[34m[2020-07-20:16:05:26:INFO] Determined delimiter of CSV input is ','\u001b[0m\n",
      "\u001b[35m[2020-07-20:16:05:26:INFO] Determined delimiter of CSV input is ','\u001b[0m\n",
      "\u001b[35m[2020-07-20:16:05:26:INFO] Sniff delimiter as ','\u001b[0m\n",
      "\u001b[35m[2020-07-20:16:05:26:INFO] Determined delimiter of CSV input is ','\u001b[0m\n",
      "\u001b[35m[2020-07-20:16:05:26:INFO] Sniff delimiter as ','\u001b[0m\n",
      "\u001b[35m[2020-07-20:16:05:26:INFO] Determined delimiter of CSV input is ','\u001b[0m\n"
     ]
    }
   ],
   "source": [
    "xgb_transformer.wait()"
   ]
  },
  {
   "cell_type": "markdown",
   "metadata": {},
   "source": [
    "Now the transform job has executed and the result, the estimated sentiment of each review, has been saved on S3. Since we would rather work on this file locally we can perform a bit of notebook magic to copy the file to the `data_dir`."
   ]
  },
  {
   "cell_type": "code",
   "execution_count": 30,
   "metadata": {},
   "outputs": [
    {
     "name": "stdout",
     "output_type": "stream",
     "text": [
      "Completed 256.0 KiB/370.3 KiB (3.4 MiB/s) with 1 file(s) remaining\r",
      "Completed 370.3 KiB/370.3 KiB (4.9 MiB/s) with 1 file(s) remaining\r",
      "download: s3://sagemaker-us-west-1-002178010120/xgboost-2020-07-20-16-01-08-524/test.csv.out to ../data/sentiment_web_app/test.csv.out\r\n"
     ]
    }
   ],
   "source": [
    "!aws s3 cp --recursive $xgb_transformer.output_path $data_dir"
   ]
  },
  {
   "cell_type": "markdown",
   "metadata": {},
   "source": [
    "The last step is now to read in the output from our model, convert the output to something a little more usable, in this case we want the sentiment to be either `1` (positive) or `0` (negative), and then compare to the ground truth labels."
   ]
  },
  {
   "cell_type": "code",
   "execution_count": 31,
   "metadata": {},
   "outputs": [],
   "source": [
    "predictions = pd.read_csv(os.path.join(data_dir, 'test.csv.out'), header=None)\n",
    "predictions = [round(num) for num in predictions.squeeze().values]"
   ]
  },
  {
   "cell_type": "code",
   "execution_count": 32,
   "metadata": {},
   "outputs": [
    {
     "data": {
      "text/plain": [
       "0.85908"
      ]
     },
     "execution_count": 32,
     "metadata": {},
     "output_type": "execute_result"
    }
   ],
   "source": [
    "from sklearn.metrics import accuracy_score\n",
    "accuracy_score(test_y, predictions)"
   ]
  },
  {
   "cell_type": "markdown",
   "metadata": {},
   "source": [
    "## Step 6: Deploying the model\n",
    "\n",
    "Once we construct and fit our model, SageMaker stores the resulting model artifacts and we can use those to deploy an endpoint (inference code). To see this, look in the SageMaker console and you should see that a model has been created along with a link to the S3 location where the model artifacts have been stored.\n",
    "\n",
    "Deploying an endpoint is a lot like training the model with a few important differences. The first is that a deployed model doesn't change the model artifacts, so as you send it various testing instances the model won't change. Another difference is that since we aren't performing a fixed computation, as we were in the training step or while performing a batch transform, the compute instance that gets started stays running until we tell it to stop. This is important to note as if we forget and leave it running we will be charged the entire time.\n",
    "\n",
    "In other words **If you are no longer using a deployed endpoint, shut it down!**"
   ]
  },
  {
   "cell_type": "code",
   "execution_count": 33,
   "metadata": {},
   "outputs": [
    {
     "name": "stderr",
     "output_type": "stream",
     "text": [
      "WARNING:sagemaker:Parameter image will be renamed to image_uri in SageMaker Python SDK v2.\n",
      "WARNING:sagemaker:Using already existing model: xgboost-2020-07-20-15-53-53-327\n"
     ]
    },
    {
     "name": "stdout",
     "output_type": "stream",
     "text": [
      "-------------!"
     ]
    }
   ],
   "source": [
    "xgb_predictor = xgb.deploy(initial_instance_count = 1, instance_type = 'ml.m4.xlarge')"
   ]
  },
  {
   "cell_type": "markdown",
   "metadata": {},
   "source": [
    "### Testing the model (again)\n",
    "\n",
    "Now that we have deployed our endpoint, we can send the testing data to it and get back the inference results. We already did this earlier using the batch transform functionality of SageMaker, however, we will test our model again using the newly deployed endpoint so that we can make sure that it works properly and to get a bit of a feel for how the endpoint works.\n",
    "\n",
    "When using the created endpoint it is important to know that we are limited in the amount of information we can send in each call so we need to break the testing data up into chunks and then send each chunk. Also, we need to serialize our data before we send it to the endpoint to ensure that our data is transmitted properly. Fortunately, SageMaker can do the serialization part for us provided we tell it the format of our data."
   ]
  },
  {
   "cell_type": "code",
   "execution_count": 34,
   "metadata": {},
   "outputs": [],
   "source": [
    "from sagemaker.predictor import csv_serializer\n",
    "\n",
    "# We need to tell the endpoint what format the data we are sending is in so that SageMaker can perform the serialization.\n",
    "xgb_predictor.content_type = 'text/csv'\n",
    "xgb_predictor.serializer = csv_serializer"
   ]
  },
  {
   "cell_type": "code",
   "execution_count": 35,
   "metadata": {},
   "outputs": [],
   "source": [
    "# We split the data into chunks and send each chunk seperately, accumulating the results.\n",
    "\n",
    "def predict(data, rows=512):\n",
    "    split_array = np.array_split(data, int(data.shape[0] / float(rows) + 1))\n",
    "    predictions = ''\n",
    "    for array in split_array:\n",
    "        predictions = ','.join([predictions, xgb_predictor.predict(array).decode('utf-8')])\n",
    "    \n",
    "    return np.fromstring(predictions[1:], sep=',')"
   ]
  },
  {
   "cell_type": "code",
   "execution_count": 36,
   "metadata": {},
   "outputs": [],
   "source": [
    "test_X = pd.read_csv(os.path.join(data_dir, 'test.csv'), header=None).values\n",
    "\n",
    "predictions = predict(test_X)\n",
    "predictions = [round(num) for num in predictions]"
   ]
  },
  {
   "cell_type": "markdown",
   "metadata": {},
   "source": [
    "Lastly, we check to see what the accuracy of our model is."
   ]
  },
  {
   "cell_type": "code",
   "execution_count": 37,
   "metadata": {},
   "outputs": [
    {
     "data": {
      "text/plain": [
       "0.85908"
      ]
     },
     "execution_count": 37,
     "metadata": {},
     "output_type": "execute_result"
    }
   ],
   "source": [
    "from sklearn.metrics import accuracy_score\n",
    "accuracy_score(test_y, predictions)"
   ]
  },
  {
   "cell_type": "markdown",
   "metadata": {},
   "source": [
    "And the results here should agree with the model testing that we did earlier using the batch transform job.\n",
    "\n",
    "### Cleaning up\n",
    "\n",
    "Now that we've determined that deploying our model works as expected, we are going to shut it down. Remember that the longer the endpoint is left running, the greater the cost and since we have a bit more work to do before we are able to use our endpoint with our simple web app, we should shut everything down."
   ]
  },
  {
   "cell_type": "code",
   "execution_count": 38,
   "metadata": {},
   "outputs": [],
   "source": [
    "xgb_predictor.delete_endpoint()"
   ]
  },
  {
   "cell_type": "markdown",
   "metadata": {},
   "source": [
    "## Step 7: Putting our model to work\n",
    "\n",
    "As we've mentioned a few times now, our goal is to have our model deployed and then access it using a very simple web app. The intent is for this web app to take some user submitted data (a review), send it off to our endpoint (the model) and then display the result.\n",
    "\n",
    "However, there is a small catch. Currently the only way we can access the endpoint to send it data is using the SageMaker API. We can, if we wish, expose the actual URL that our model's endpoint is receiving data from, however, if we just send it data ourselves we will not get anything in return. This is because the endpoint created by SageMaker requires the entity accessing it have the correct permissions. So, we would need to somehow authenticate our web app with AWS.\n",
    "\n",
    "Having a website that authenticates to AWS seems a bit beyond the scope of this lesson so we will opt for an alternative approach. Namely, we will create a new endpoint which does not require authentication and which acts as a proxy for the SageMaker endpoint.\n",
    "\n",
    "As an additional constraint, we will try to avoid doing any data processing in the web app itself. Remember that when we constructed and tested our model we started with a movie review, then we simplified it by removing any html formatting and punctuation, then we constructed a bag of words embedding and the resulting vector is what we sent to our model. All of this needs to be done to our user input as well.\n",
    "\n",
    "Fortunately we can do all of this data processing in the backend, using Amazon's Lambda service.\n",
    "\n",
    "<img src=\"Web App Diagram.svg\">\n",
    "\n",
    "The diagram above gives an overview of how the various services will work together. On the far right is the model which we trained above and which will be deployed using SageMaker. On the far left is our web app that collects a user's movie review, sends it off and expects a positive or negative sentiment in return.\n",
    "\n",
    "In the middle is where some of the magic happens. We will construct a Lambda function, which you can think of as a straightforward Python function that can be executed whenever a specified event occurs. This Python function will do the data processing we need to perform on a user submitted review. In addition, we will give this function permission to send and recieve data from a SageMaker endpoint.\n",
    "\n",
    "Lastly, the method we will use to execute the Lambda function is a new endpoint that we will create using API Gateway. This endpoint will be a url that listens for data to be sent to it. Once it gets some data it will pass that data on to the Lambda function and then return whatever the Lambda function returns. Essentially it will act as an interface that lets our web app communicate with the Lambda function.\n",
    "\n",
    "### Processing a single review\n",
    "\n",
    "For now, suppose we are given a movie review by our user in the form of a string, like so:"
   ]
  },
  {
   "cell_type": "code",
   "execution_count": 39,
   "metadata": {},
   "outputs": [],
   "source": [
    "test_review = \"Nothing but a disgusting materialistic pageant of glistening abed remote control greed zombies, totally devoid of any heart or heat. A romantic comedy that has zero romantic chemestry and zero laughs!\""
   ]
  },
  {
   "cell_type": "markdown",
   "metadata": {},
   "source": [
    "How do we go from this string to the bag of words feature vector that is expected by our model?\n",
    "\n",
    "If we recall at the beginning of this notebook, the first step is to remove any unnecessary characters using the `review_to_words` method. Remember that we intentionally did this in a very simplistic way. This is because we are going to have to copy this method to our (eventual) Lambda function (we will go into more detail later) and this means it needs to be rather simplistic."
   ]
  },
  {
   "cell_type": "code",
   "execution_count": 40,
   "metadata": {},
   "outputs": [
    {
     "name": "stdout",
     "output_type": "stream",
     "text": [
      "nothing but a disgusting materialistic pageant of glistening abed remote control greed zombies totally devoid of any heart or heat a romantic comedy that has zero romantic chemestry and zero laughs\n"
     ]
    }
   ],
   "source": [
    "test_words = review_to_words(test_review)\n",
    "print(test_words)"
   ]
  },
  {
   "cell_type": "markdown",
   "metadata": {},
   "source": [
    "Next, we need to construct a bag of words embedding of the `test_words` string. To do this, remember that a bag of words embedding uses a `vocabulary` consisting of the most frequently appearing words in a set of documents. Then, for each word in the vocabulary we record the number of times that word appears in `test_words`. We constructed the `vocabulary` earlier using the training set for our problem so encoding `test_words` is relatively straightforward."
   ]
  },
  {
   "cell_type": "code",
   "execution_count": 41,
   "metadata": {},
   "outputs": [],
   "source": [
    "def bow_encoding(words, vocabulary):\n",
    "    bow = [0] * len(vocabulary) # Start by setting the count for each word in the vocabulary to zero.\n",
    "    for word in words.split():  # For each word in the string\n",
    "        if word in vocabulary:  # If the word is one that occurs in the vocabulary, increase its count.\n",
    "            bow[vocabulary[word]] += 1\n",
    "    return bow"
   ]
  },
  {
   "cell_type": "code",
   "execution_count": 42,
   "metadata": {},
   "outputs": [
    {
     "name": "stdout",
     "output_type": "stream",
     "text": [
      "[0, 0, 0, 0, 0, 0, 0, 0, 0, 0, 0, 0, 0, 0, 0, 0, 0, 0, 0, 0, 0, 0, 0, 0, 0, 0, 0, 0, 0, 0, 0, 0, 0, 0, 0, 0, 0, 0, 0, 0, 0, 0, 0, 0, 0, 0, 0, 0, 0, 0, 0, 0, 0, 0, 0, 0, 0, 0, 0, 0, 0, 0, 0, 0, 0, 0, 0, 0, 0, 0, 0, 0, 0, 0, 0, 0, 0, 0, 0, 0, 0, 0, 0, 0, 0, 0, 0, 0, 0, 0, 0, 0, 0, 0, 0, 0, 0, 0, 0, 0, 0, 0, 0, 0, 0, 0, 0, 0, 0, 0, 0, 0, 0, 0, 0, 0, 0, 0, 0, 0, 0, 0, 0, 0, 0, 0, 0, 0, 0, 0, 0, 0, 0, 0, 0, 0, 0, 0, 0, 0, 0, 0, 0, 0, 0, 0, 0, 0, 0, 0, 0, 0, 0, 0, 0, 0, 0, 0, 0, 0, 0, 0, 0, 0, 0, 0, 0, 0, 0, 0, 0, 0, 0, 0, 0, 0, 0, 0, 0, 0, 0, 0, 0, 0, 0, 0, 0, 0, 0, 0, 0, 0, 0, 0, 0, 0, 0, 0, 0, 0, 0, 0, 0, 0, 0, 0, 0, 0, 0, 0, 0, 0, 0, 0, 0, 0, 0, 0, 0, 0, 0, 0, 0, 0, 0, 0, 1, 0, 0, 0, 0, 0, 0, 0, 0, 0, 0, 0, 0, 0, 0, 0, 0, 0, 0, 0, 0, 0, 0, 0, 0, 0, 0, 0, 0, 0, 1, 0, 0, 0, 0, 0, 0, 0, 0, 0, 0, 0, 0, 0, 0, 0, 0, 0, 0, 0, 0, 0, 0, 0, 0, 0, 0, 0, 0, 0, 0, 0, 0, 0, 0, 0, 0, 0, 0, 0, 0, 0, 0, 0, 0, 0, 0, 0, 0, 0, 0, 0, 0, 0, 0, 0, 0, 0, 0, 0, 0, 0, 0, 0, 0, 0, 0, 0, 0, 0, 0, 0, 0, 0, 0, 0, 0, 0, 0, 0, 0, 0, 0, 0, 0, 0, 0, 0, 0, 0, 0, 0, 0, 0, 0, 0, 0, 0, 0, 0, 0, 0, 0, 0, 0, 0, 0, 0, 0, 0, 0, 0, 0, 0, 0, 0, 0, 0, 0, 0, 0, 0, 0, 0, 0, 0, 0, 0, 0, 0, 0, 0, 0, 0, 0, 0, 0, 0, 0, 0, 0, 0, 0, 0, 0, 0, 0, 0, 0, 0, 0, 0, 0, 0, 0, 0, 0, 0, 0, 0, 0, 0, 0, 0, 0, 0, 0, 0, 0, 0, 0, 0, 0, 0, 0, 0, 0, 0, 0, 0, 0, 0, 0, 0, 0, 0, 0, 0, 0, 0, 0, 0, 0, 0, 0, 0, 0, 0, 0, 0, 0, 0, 0, 0, 0, 0, 0, 0, 0, 0, 0, 0, 0, 0, 0, 0, 0, 0, 0, 0, 0, 0, 0, 0, 0, 0, 0, 0, 0, 0, 0, 0, 0, 0, 0, 0, 0, 0, 0, 0, 0, 0, 0, 0, 0, 0, 0, 0, 0, 0, 0, 0, 0, 0, 0, 0, 0, 0, 0, 0, 0, 0, 0, 0, 0, 0, 0, 0, 0, 0, 0, 0, 0, 0, 0, 0, 0, 0, 0, 0, 0, 0, 0, 0, 0, 0, 0, 0, 0, 0, 0, 0, 0, 0, 0, 0, 0, 0, 0, 0, 0, 0, 0, 0, 0, 0, 0, 0, 0, 0, 0, 0, 0, 0, 0, 0, 0, 0, 0, 0, 0, 0, 0, 0, 0, 0, 0, 0, 0, 0, 0, 0, 0, 0, 0, 0, 0, 0, 0, 0, 0, 0, 0, 0, 0, 0, 0, 0, 0, 0, 0, 0, 0, 0, 0, 0, 0, 0, 0, 0, 0, 0, 0, 0, 0, 0, 0, 0, 0, 0, 0, 0, 0, 0, 0, 0, 0, 0, 0, 0, 1, 0, 0, 0, 0, 0, 0, 0, 0, 0, 0, 0, 0, 0, 0, 0, 0, 0, 0, 0, 0, 0, 0, 0, 0, 0, 0, 0, 0, 0, 0, 0, 0, 0, 0, 0, 0, 0, 0, 0, 0, 0, 0, 0, 0, 0, 0, 0, 0, 0, 0, 0, 0, 0, 0, 0, 0, 0, 0, 0, 0, 0, 0, 0, 0, 0, 0, 0, 0, 0, 0, 0, 0, 0, 0, 0, 0, 0, 0, 0, 0, 0, 0, 0, 0, 0, 0, 0, 0, 0, 0, 0, 0, 0, 0, 0, 0, 0, 0, 0, 0, 0, 0, 0, 0, 0, 0, 0, 0, 0, 0, 0, 0, 0, 0, 0, 0, 0, 0, 0, 0, 0, 0, 0, 0, 0, 0, 0, 0, 0, 0, 0, 0, 0, 0, 0, 0, 0, 0, 0, 0, 0, 0, 0, 0, 0, 0, 0, 0, 0, 0, 0, 0, 0, 0, 0, 0, 0, 0, 0, 0, 0, 0, 0, 0, 0, 0, 0, 0, 0, 0, 0, 0, 0, 0, 0, 0, 0, 0, 0, 0, 0, 0, 0, 0, 0, 0, 0, 0, 0, 0, 0, 0, 0, 0, 0, 0, 0, 0, 0, 0, 0, 0, 0, 0, 0, 0, 0, 0, 0, 0, 0, 0, 0, 0, 0, 0, 0, 0, 0, 0, 0, 0, 0, 0, 0, 0, 0, 0, 0, 0, 0, 0, 0, 0, 0, 0, 0, 0, 0, 0, 0, 0, 0, 0, 0, 0, 0, 0, 0, 0, 0, 0, 0, 1, 0, 0, 0, 0, 0, 0, 0, 0, 0, 0, 0, 0, 0, 0, 0, 0, 0, 0, 0, 0, 0, 0, 0, 0, 0, 0, 0, 0, 0, 0, 0, 0, 0, 0, 0, 0, 0, 0, 0, 0, 0, 0, 0, 0, 0, 0, 0, 0, 0, 0, 0, 0, 0, 0, 0, 0, 0, 0, 0, 0, 0, 0, 0, 0, 0, 0, 0, 0, 0, 0, 0, 0, 0, 0, 0, 0, 0, 0, 0, 0, 0, 0, 0, 0, 0, 0, 1, 0, 0, 0, 0, 0, 0, 0, 0, 0, 0, 0, 0, 0, 0, 0, 0, 0, 0, 0, 0, 0, 0, 0, 0, 0, 0, 0, 0, 0, 0, 0, 0, 0, 0, 0, 0, 0, 0, 0, 0, 0, 0, 0, 0, 0, 0, 0, 0, 0, 0, 0, 0, 0, 0, 0, 0, 0, 0, 0, 0, 0, 0, 0, 0, 0, 0, 0, 0, 0, 0, 0, 0, 0, 0, 0, 0, 0, 0, 0, 0, 0, 0, 0, 0, 0, 0, 0, 0, 0, 0, 0, 0, 0, 0, 0, 0, 0, 0, 0, 0, 0, 0, 0, 0, 0, 0, 0, 0, 0, 0, 0, 0, 0, 0, 0, 0, 0, 0, 0, 0, 0, 0, 0, 0, 0, 0, 0, 0, 0, 0, 0, 0, 0, 0, 0, 0, 0, 0, 0, 0, 0, 0, 0, 0, 0, 0, 0, 0, 0, 0, 0, 0, 0, 0, 0, 0, 0, 0, 0, 0, 0, 0, 0, 0, 0, 0, 0, 0, 0, 0, 0, 0, 0, 0, 0, 0, 0, 0, 0, 0, 0, 0, 0, 0, 0, 0, 0, 0, 0, 0, 0, 0, 0, 0, 0, 0, 0, 0, 0, 0, 0, 0, 0, 0, 0, 0, 0, 0, 0, 0, 0, 0, 0, 0, 0, 0, 0, 0, 0, 0, 0, 0, 0, 0, 0, 0, 0, 0, 0, 0, 0, 0, 0, 0, 0, 0, 0, 0, 0, 0, 0, 0, 0, 0, 0, 0, 0, 0, 0, 0, 0, 0, 1, 0, 0, 0, 0, 0, 0, 0, 0, 0, 0, 0, 0, 0, 0, 0, 0, 0, 0, 0, 0, 0, 0, 0, 0, 0, 0, 0, 0, 0, 0, 0, 0, 0, 0, 0, 0, 0, 0, 0, 0, 0, 0, 0, 0, 0, 0, 0, 0, 0, 0, 0, 0, 0, 0, 0, 1, 0, 0, 0, 0, 0, 0, 0, 0, 0, 0, 0, 0, 0, 0, 0, 0, 0, 0, 0, 0, 0, 0, 0, 0, 0, 0, 0, 0, 0, 0, 0, 0, 0, 0, 0, 0, 0, 0, 0, 0, 0, 0, 0, 0, 0, 0, 0, 0, 0, 0, 0, 0, 0, 0, 0, 0, 0, 0, 0, 0, 0, 0, 0, 0, 0, 0, 0, 0, 0, 0, 0, 0, 0, 0, 0, 0, 0, 0, 0, 0, 0, 0, 0, 0, 0, 0, 0, 0, 0, 0, 0, 0, 0, 0, 0, 0, 0, 0, 0, 0, 0, 0, 0, 0, 0, 0, 0, 0, 0, 0, 0, 0, 0, 0, 0, 0, 0, 0, 0, 0, 0, 0, 0, 0, 0, 0, 0, 0, 0, 0, 0, 0, 0, 0, 0, 0, 0, 0, 0, 0, 0, 0, 0, 0, 0, 0, 0, 0, 0, 0, 0, 0, 0, 0, 0, 0, 0, 0, 0, 0, 0, 0, 0, 0, 0, 0, 0, 0, 0, 0, 0, 0, 0, 0, 0, 0, 0, 0, 0, 0, 0, 0, 0, 0, 0, 0, 0, 0, 0, 0, 0, 0, 0, 0, 0, 0, 0, 0, 0, 0, 0, 0, 0, 0, 0, 0, 0, 0, 0, 0, 0, 0, 0, 0, 0, 0, 0, 0, 0, 0, 0, 0, 0, 0, 0, 0, 0, 0, 0, 0, 0, 0, 0, 0, 0, 0, 0, 0, 0, 0, 0, 0, 0, 0, 0, 0, 0, 0, 0, 0, 0, 0, 0, 0, 0, 0, 0, 0, 0, 0, 0, 0, 0, 0, 0, 0, 0, 0, 0, 0, 0, 0, 0, 0, 0, 0, 0, 0, 0, 0, 0, 0, 0, 0, 0, 0, 0, 0, 0, 0, 0, 0, 0, 0, 0, 0, 0, 0, 0, 0, 0, 0, 0, 0, 0, 0, 0, 0, 0, 0, 0, 0, 0, 0, 0, 0, 0, 0, 0, 0, 0, 0, 0, 0, 0, 0, 0, 0, 0, 0, 0, 0, 0, 0, 0, 0, 0, 0, 0, 0, 0, 0, 0, 0, 0, 0, 0, 0, 0, 0, 0, 0, 0, 0, 0, 0, 0, 0, 0, 0, 0, 0, 0, 0, 0, 0, 0, 0, 0, 0, 0, 0, 0, 0, 0, 0, 0, 0, 0, 0, 0, 0, 0, 0, 0, 0, 0, 0, 0, 0, 0, 0, 0, 0, 0, 0, 0, 0, 0, 0, 0, 0, 0, 0, 0, 0, 0, 0, 0, 0, 0, 0, 0, 0, 0, 0, 0, 0, 0, 0, 0, 0, 0, 0, 0, 0, 0, 0, 0, 0, 0, 0, 0, 0, 0, 0, 0, 0, 0, 0, 0, 0, 0, 0, 0, 0, 0, 0, 0, 0, 0, 0, 0, 0, 0, 0, 0, 0, 0, 0, 0, 0, 0, 0, 0, 0, 0, 0, 0, 0, 0, 0, 0, 0, 0, 0, 0, 0, 0, 0, 0, 0, 0, 0, 0, 0, 0, 0, 0, 0, 0, 0, 0, 0, 0, 0, 0, 0, 0, 0, 0, 0, 0, 0, 0, 0, 0, 0, 0, 0, 0, 0, 0, 0, 0, 0, 0, 0, 0, 0, 0, 0, 0, 0, 0, 0, 0, 0, 0, 0, 0, 0, 0, 0, 0, 0, 0, 0, 0, 0, 0, 0, 0, 0, 0, 0, 0, 0, 0, 0, 0, 0, 0, 0, 0, 0, 0, 0, 0, 0, 0, 0, 0, 0, 0, 0, 0, 0, 0, 0, 0, 0, 0, 0, 0, 0, 0, 0, 0, 0, 0, 0, 0, 0, 0, 0, 0, 0, 0, 0, 0, 0, 0, 0, 0, 0, 0, 0, 0, 0, 0, 0, 0, 0, 0, 0, 0, 0, 0, 0, 0, 0, 0, 0, 0, 0, 0, 0, 0, 0, 0, 0, 0, 0, 0, 0, 0, 0, 0, 0, 0, 0, 0, 0, 0, 0, 0, 0, 0, 0, 0, 0, 0, 0, 0, 0, 0, 0, 0, 0, 0, 0, 0, 0, 0, 0, 0, 0, 0, 0, 0, 0, 0, 0, 0, 0, 0, 0, 0, 0, 0, 0, 0, 0, 0, 0, 0, 0, 0, 0, 0, 1, 0, 0, 0, 0, 0, 0, 0, 0, 0, 0, 0, 0, 0, 0, 0, 0, 0, 0, 0, 0, 0, 0, 0, 0, 0, 0, 0, 0, 0, 0, 0, 0, 0, 0, 0, 0, 0, 0, 0, 0, 0, 0, 0, 0, 0, 0, 0, 0, 0, 0, 0, 0, 0, 0, 0, 0, 0, 0, 0, 0, 0, 0, 0, 0, 0, 0, 0, 0, 0, 0, 0, 0, 0, 0, 1, 0, 0, 0, 0, 0, 0, 0, 0, 0, 0, 0, 0, 0, 0, 0, 0, 0, 0, 0, 0, 1, 0, 0, 1, 0, 0, 0, 0, 0, 0, 0, 0, 0, 0, 0, 0, 0, 0, 0, 0, 0, 0, 0, 0, 0, 0, 0, 0, 0, 0, 0, 0, 0, 0, 0, 0, 0, 0, 0, 0, 0, 0, 0, 0, 0, 0, 0, 0, 0, 0, 0, 0, 0, 0, 0, 0, 0, 0, 0, 0, 0, 0, 0, 0, 0, 0, 0, 0, 0, 0, 0, 0, 0, 0, 0, 0, 0, 0, 0, 0, 0, 0, 0, 0, 0, 0, 0, 0, 0, 0, 0, 0, 0, 0, 0, 0, 0, 0, 0, 0, 0, 0, 0, 0, 0, 0, 0, 0, 0, 0, 0, 0, 0, 0, 0, 0, 0, 0, 0, 0, 0, 0, 0, 0, 0, 0, 0, 0, 0, 0, 0, 0, 0, 0, 0, 0, 0, 0, 0, 0, 0, 0, 0, 0, 0, 0, 0, 0, 0, 0, 0, 0, 0, 0, 0, 0, 0, 0, 0, 0, 0, 0, 0, 0, 0, 0, 0, 0, 0, 0, 0, 0, 0, 0, 0, 0, 0, 0, 0, 0, 0, 0, 0, 0, 0, 0, 0, 0, 0, 0, 0, 0, 0, 0, 0, 0, 0, 0, 0, 0, 0, 0, 0, 0, 0, 0, 0, 0, 0, 0, 0, 0, 0, 0, 0, 0, 0, 0, 0, 0, 0, 0, 0, 0, 0, 0, 0, 0, 0, 0, 0, 0, 0, 0, 0, 0, 0, 0, 0, 0, 0, 0, 0, 0, 0, 0, 0, 0, 0, 0, 0, 0, 0, 0, 0, 0, 0, 0, 0, 0, 0, 0, 0, 0, 0, 0, 0, 0, 0, 0, 0, 0, 0, 0, 0, 0, 0, 0, 0, 0, 0, 0, 0, 0, 0, 0, 0, 0, 0, 0, 0, 0, 0, 0, 0, 0, 0, 0, 0, 0, 0, 0, 0, 0, 0, 0, 0, 0, 0, 0, 0, 0, 0, 0, 0, 0, 0, 0, 0, 0, 0, 0, 0, 0, 0, 0, 0, 0, 0, 0, 0, 0, 0, 0, 0, 0, 0, 0, 0, 0, 0, 0, 0, 0, 0, 0, 0, 0, 0, 0, 0, 0, 0, 0, 0, 0, 0, 0, 0, 0, 0, 0, 0, 0, 0, 0, 0, 0, 0, 0, 0, 0, 0, 0, 0, 0, 0, 0, 0, 0, 0, 0, 0, 0, 0, 0, 0, 0, 0, 0, 0, 0, 0, 0, 0, 0, 0, 0, 0, 0, 0, 0, 0, 0, 0, 0, 0, 0, 0, 0, 0, 0, 0, 0, 0, 0, 0, 0, 0, 0, 0, 0, 0, 0, 0, 0, 0, 0, 0, 0, 0, 0, 0, 0, 0, 0, 0, 0, 0, 0, 0, 0, 0, 0, 0, 0, 0, 0, 0, 0, 0, 0, 0, 0, 0, 0, 0, 0, 0, 0, 0, 0, 0, 0, 0, 0, 0, 0, 0, 0, 1, 0, 0, 0, 0, 0, 0, 0, 0, 0, 0, 0, 0, 0, 0, 0, 0, 0, 0, 0, 0, 0, 0, 0, 0, 0, 0, 0, 0, 0, 0, 0, 0, 0, 0, 0, 0, 0, 0, 0, 0, 0, 0, 0, 0, 0, 0, 0, 0, 0, 0, 0, 0, 0, 0, 0, 0, 0, 0, 0, 0, 0, 0, 0, 0, 0, 0, 0, 0, 0, 0, 0, 0, 0, 0, 0, 0, 0, 0, 0, 0, 0, 0, 0, 0, 0, 0, 0, 0, 0, 0, 0, 0, 0, 0, 0, 0, 0, 0, 0, 0, 0, 0, 0, 0, 0, 0, 0, 0, 0, 0, 0, 0, 0, 0, 0, 0, 0, 0, 0, 0, 0, 0, 0, 0, 0, 0, 0, 0, 0, 0, 0, 0, 0, 0, 0, 0, 0, 0, 0, 0, 0, 0, 0, 0, 0, 0, 0, 0, 0, 0, 0, 0, 0, 0, 0, 0, 0, 0, 0, 0, 0, 0, 0, 0, 0, 0, 0, 0, 0, 0, 0, 0, 0, 0, 0, 0, 0, 0, 0, 0, 0, 0, 0, 0, 0, 0, 0, 0, 0, 0, 0, 0, 0, 0, 0, 0, 0, 0, 0, 0, 0, 0, 0, 0, 0, 0, 0, 0, 0, 0, 0, 0, 0, 0, 0, 0, 0, 0, 0, 0, 0, 0, 0, 0, 0, 0, 0, 0, 0, 0, 0, 0, 0, 0, 0, 0, 0, 0, 0, 0, 0, 0, 0, 0, 0, 0, 0, 0, 0, 0, 0, 0, 0, 0, 0, 0, 0, 0, 0, 0, 0, 0, 0, 0, 0, 0, 0, 0, 0, 0, 0, 0, 0, 0, 0, 0, 0, 0, 0, 0, 0, 0, 0, 0, 0, 0, 0, 0, 0, 0, 0, 0, 0, 0, 0, 0, 0, 0, 0, 0, 0, 0, 0, 0, 0, 0, 0, 0, 0, 0, 0, 0, 0, 0, 0, 0, 0, 0, 0, 0, 0, 0, 0, 0, 0, 0, 0, 0, 0, 0, 0, 0, 0, 0, 0, 0, 0, 0, 0, 0, 0, 0, 0, 0, 0, 0, 0, 0, 0, 0, 0, 0, 0, 0, 0, 0, 0, 0, 0, 0, 0, 0, 0, 0, 0, 0, 0, 0, 0, 0, 0, 0, 0, 0, 0, 0, 0, 0, 0, 0, 0, 0, 0, 0, 0, 0, 0, 0, 0, 0, 0, 0, 0, 0, 0, 0, 0, 0, 0, 0, 0, 0, 0, 0, 0, 0, 0, 0, 0, 0, 0, 0, 0, 0, 0, 0, 0, 0, 0, 0, 0, 0, 0, 0, 0, 0, 0, 0, 0, 0, 0, 0, 0, 0, 0, 0, 0, 0, 0, 0, 0, 0, 0, 0, 0, 0, 0, 0, 0, 0, 0, 0, 0, 0, 0, 0, 0, 0, 0, 0, 0, 0, 0, 0, 0, 0, 0, 0, 0, 0, 0, 0, 0, 0, 0, 0, 0, 0, 0, 0, 0, 0, 0, 0, 0, 0, 0, 0, 0, 0, 0, 0, 0, 0, 0, 0, 0, 0, 0, 0, 0, 0, 0, 0, 0, 0, 0, 0, 0, 0, 0, 0, 1, 0, 0, 0, 0, 0, 0, 0, 0, 0, 0, 0, 0, 0, 0, 0, 0, 0, 0, 0, 0, 0, 0, 0, 0, 0, 0, 0, 0, 0, 0, 0, 0, 0, 0, 0, 2, 0, 0, 0, 0, 0, 0, 0, 0, 0, 0, 0, 0, 0, 0, 0, 0, 0, 0, 0, 0, 0, 0, 0, 0, 0, 0, 0, 0, 0, 0, 0, 0, 0, 0, 0, 0, 0, 0, 0, 0, 1, 0, 0, 0, 0, 0, 0, 0, 0, 0, 0, 0, 0, 0, 0, 0, 0, 0, 0, 0, 0, 0, 0, 0, 0, 0, 0, 0, 0, 0, 0, 0, 0, 0, 0, 0, 0, 0, 0, 0, 0, 0, 0, 0, 0, 0, 0, 0, 0, 0, 0, 0, 0, 0, 0, 0, 0, 0, 0, 0, 0, 0, 0, 0, 0, 0, 0, 0, 0, 0, 0, 0, 0, 0, 0, 0, 0, 0, 0, 0, 0, 0, 0, 0, 0, 0, 0, 0, 0, 0, 0, 0, 0, 0, 0, 0, 0, 0, 0, 0, 0, 0, 0, 0, 0, 0, 0, 0, 0, 0, 0, 0, 0, 0, 0, 0, 0, 0, 0, 0, 0, 0, 0, 0, 0, 0, 0, 0, 0, 0, 0, 0, 0, 0, 0, 0, 0, 0, 0, 0, 0, 0, 0, 0, 0, 0, 0, 0, 0, 0, 0, 0, 0, 0, 0, 0, 0, 0, 0, 0, 0, 0, 0, 0, 0, 0, 0, 0, 0, 0, 0, 0, 0, 0, 0, 0, 0, 0, 0, 0, 0, 0, 0, 0, 0, 0, 0, 0, 0, 0, 0, 0, 0, 0, 0, 0, 0, 0, 0, 0, 0, 0, 0, 0, 0, 0, 0, 0, 0, 0, 0, 0, 0, 0, 0, 0, 0, 0, 0, 0, 0, 0, 0, 0, 0, 0, 0, 0, 0, 0, 0, 0, 0, 0, 0, 0, 0, 0, 0, 0, 0, 0, 0, 0, 0, 0, 0, 0, 0, 0, 0, 0, 0, 0, 0, 0, 0, 0, 0, 0, 0, 0, 0, 0, 0, 0, 0, 0, 0, 0, 0, 0, 0, 0, 0, 0, 0, 0, 0, 0, 0, 0, 0, 0, 0, 0, 0, 0, 0, 0, 0, 0, 0, 0, 0, 0, 0, 0, 0, 0, 0, 0, 0, 0, 0, 0, 0, 0, 0, 0, 0, 0, 0, 0, 0, 0, 0, 0, 0, 0, 0, 0, 0, 0, 0, 0, 0, 0, 0, 0, 0, 0, 0, 0, 0, 0, 0, 0, 0, 0, 0, 0, 0, 0, 0, 0, 0, 0, 0, 0, 0, 0, 0, 0, 0, 0, 0, 0, 0, 0, 0, 0, 0, 0, 0, 0, 0, 0, 0, 0, 0, 0, 0, 0, 0, 0, 0, 0, 0, 0, 0, 0, 0, 0, 0, 0, 0, 0, 0, 0, 0, 0, 0, 0, 0, 0, 0, 0, 0, 0, 0, 0, 0, 0, 0, 0, 0, 0, 0, 0, 0, 0, 0, 0, 0, 0, 0, 0, 0, 0, 0, 0, 0, 0, 0, 0, 0, 0, 0, 0, 0, 0, 0, 0, 0, 0, 0, 0, 0, 0, 0, 0, 0, 0, 0, 0, 0, 0, 0, 0, 0, 0, 0, 0, 0, 0, 0, 0, 0, 0, 0, 0, 0, 0, 0, 0, 0, 0, 0, 0, 0, 0, 0, 0, 0, 0, 0, 0, 0, 0, 0, 0, 0, 0, 0, 0, 0, 0, 0, 0, 0, 0, 0, 0, 0, 0, 0, 0, 1, 0, 0, 0, 0, 0, 0, 0, 0, 0, 0, 0, 0, 0, 0, 0, 0, 0, 0, 0, 0, 0, 0, 0, 0, 0, 0, 0, 0, 0, 0, 0, 0, 0, 0, 0, 0, 0, 0, 0, 0, 0, 0, 0, 0, 0, 0, 0, 0, 0, 0, 0, 0, 0, 0, 0, 0, 0, 0, 0, 0, 0, 0, 0, 0, 0, 0, 0, 0, 0, 0, 0, 0, 0, 0, 0, 0, 0, 0, 0, 0, 0, 0, 0, 0, 0, 0, 0, 0, 0, 0, 0, 0, 0, 0, 0, 0, 0, 0, 0, 0, 0, 0, 0, 0, 0, 0, 0, 0, 0, 0, 2, 0, 0, 0, 0, 0, 0, 0, 0, 0, 0, 0, 0, 0, 0, 0, 0, 0, 0, 0, 0, 0, 0, 0, 0, 0, 0, 0, 0, 0, 0, 0, 0, 0, 0, 0, 0, 0, 0, 0, 0, 0, 0, 0, 0, 0, 0, 0, 0, 0, 0, 0, 0, 0, 0, 0, 0, 0, 0, 0, 0, 0, 0, 0, 0, 0, 0, 0, 0, 0, 0, 0, 0, 0, 0, 0, 0, 0, 0, 0, 0, 0, 0, 0, 0, 0, 0, 0, 0, 0, 0, 0, 0, 0, 0, 0, 0, 0, 0, 0, 0, 0, 0, 0, 0, 0, 0, 0, 0, 0, 0, 0, 0, 0, 0, 0, 0, 0, 0, 0, 0, 0, 0, 0, 0, 0, 0, 0, 0, 0, 0, 0, 0, 0, 0, 0, 0, 0, 0, 0, 0, 0, 0, 0, 0, 0, 0, 0, 0, 0, 0, 0, 0, 0, 0, 0, 0, 0, 0, 0, 0, 0, 0, 0, 0, 0, 0, 0, 0, 0, 0, 0, 0, 0, 0, 0, 0, 0, 0, 0, 0, 0, 0, 0, 0, 0, 0, 0, 0, 0, 0, 0, 0, 0, 0, 0, 0, 0, 0, 0, 0, 0, 0, 0, 0, 0, 0, 0, 0, 0, 0, 0, 0, 0, 0, 0, 0, 0, 0, 0, 0, 0, 0, 0, 0, 0, 0, 0, 0, 0, 0, 0, 0, 0, 0, 0, 0, 0, 0, 0, 0, 0, 0, 0, 0, 0, 0, 0, 0, 0, 0, 0, 0, 0, 0, 0, 0, 0, 0, 0, 0, 0, 0, 0, 0, 0, 0, 0, 0, 0, 0, 0, 0, 0, 0, 0, 0, 0, 0, 0, 0, 0, 0, 0, 0, 0, 0, 0, 0, 0, 0, 0, 0, 0, 0, 0, 0, 0, 0, 0, 0, 0, 0, 0, 0, 0, 0, 0, 0, 0, 0, 0, 0, 0, 0, 0, 0, 0, 0, 0, 0, 0, 0, 0, 0, 0, 0, 0, 0, 0, 0, 0, 0, 0, 0, 0, 0, 0, 0, 0, 0, 0, 0, 0, 0, 0, 0, 0, 0, 0, 0, 0, 0, 0, 0, 0, 0, 0, 0, 0, 0, 0, 0, 0, 0, 0, 0, 0, 0, 0, 0, 0, 0, 0, 0, 0, 0, 0, 0, 0, 0, 0, 0, 0, 0, 0, 0, 0, 0, 0, 0, 0, 0, 0, 0, 0, 0, 0, 0, 0, 0, 0, 0, 0, 0, 0, 0, 0, 0, 0, 0, 0, 0, 0, 0, 0, 0, 0, 0, 0, 0, 0, 0, 0, 0, 0, 0, 0, 0, 0, 0, 0, 0, 0, 0, 0, 0, 0, 0, 0, 0, 0, 0, 0, 0, 0, 0, 0, 0, 0, 0, 0, 0, 0, 0, 0, 0, 0, 0, 0, 0, 0, 0, 0, 0, 0, 0, 0, 0, 0, 0, 0, 0, 0, 0, 0, 0, 0, 0, 0, 0, 0, 0, 0, 0, 0, 0, 0, 0, 0, 0, 0, 0, 0, 0, 0, 0, 0, 0, 0, 0, 0, 0, 0, 0, 0, 0, 0, 0, 0, 0, 0, 0, 0, 0, 0, 0, 0, 0, 0, 0, 0, 0, 0, 0, 0, 0, 0, 0, 0, 0, 0, 0, 0, 0, 0, 0, 0, 0, 0, 0, 0, 0, 0, 0, 0, 0, 0, 0, 0, 0, 0, 0, 0, 0, 0, 0, 0, 0, 0, 0, 0, 0, 0, 0, 0, 0, 0, 0, 0, 0, 0, 0, 0, 0, 0, 0, 0, 0, 0, 0, 0, 0, 0, 0, 0, 0, 0, 0, 0, 0, 0, 0, 0, 0, 0, 0, 0, 0, 0, 0, 0, 0, 0, 0, 0, 0, 0, 0, 0, 0, 0, 0, 0, 0, 0, 0, 0, 0, 0, 0, 0, 0, 0, 0, 0, 0, 0, 0, 0, 0, 0, 0, 0, 0, 0, 0, 0, 0, 0, 0, 0, 0, 0, 0, 0, 0, 0, 0, 0, 0, 0, 0, 0, 0, 0, 0, 0, 0, 0, 0, 0, 0, 0, 0, 0, 0, 0, 0, 0, 0, 0, 0, 0, 0, 0, 0, 0, 0, 0, 0, 0, 0, 0, 0, 0, 0, 0, 0, 0, 0, 1, 0, 0, 0, 0, 0, 0, 0, 0, 0, 0, 0, 0, 0, 0, 0, 0, 0, 0, 0, 0, 0, 0, 0, 0, 0, 0, 0, 0, 0, 0, 0, 0, 0, 0, 0, 0, 0, 0, 0, 0, 0, 0, 0, 0, 0, 0, 0, 0, 0, 0, 0, 0, 0, 0, 0, 0, 0, 0, 0, 0, 0, 0, 0, 0, 0, 0, 0, 0, 0, 0, 0, 0, 0, 0, 0, 0, 0, 0, 0, 0, 0, 0, 0, 0, 0, 0, 0, 0, 0, 0, 0, 0, 0, 0, 0, 0, 0, 0, 0, 0, 0, 0, 0, 0, 0, 0, 0, 1, 0, 0, 0, 0, 0, 0, 0, 0, 0, 0, 0, 0, 0, 0, 0, 0, 0, 0, 0, 0, 0, 0, 0, 0, 0, 0, 0, 0, 0, 0, 0, 0, 0, 0, 0, 0, 0, 0, 0, 0, 0, 0, 0, 0, 0, 0, 0, 0, 0, 0, 0, 0, 0, 0, 0, 0, 0, 0, 0, 0, 0, 0, 0, 0, 0, 0, 0, 0, 0, 0, 0, 0, 0, 0, 0, 0, 0, 0, 0, 0, 0, 0, 0, 0, 0, 0, 0, 0, 0, 0, 0, 0, 0, 0, 0, 0, 0, 0, 0, 0, 0, 0, 0, 0, 0, 0, 0, 0, 0, 0, 0, 0, 0, 0, 0, 0, 0, 0, 0, 0, 0, 0, 0, 0, 0, 0, 0, 0, 0, 0, 0, 0, 0, 0, 0, 0, 0, 0, 0, 0, 0, 0, 0, 0, 0, 0, 0, 0, 0, 0, 0, 0, 0, 0, 0, 0, 0, 0, 0, 0, 0, 0, 0, 0, 0, 0, 0, 0, 0, 0, 0, 0, 0, 0, 0, 0, 0, 0, 0, 0, 0, 0, 0, 0, 0, 0, 0, 0, 0, 0, 0, 0, 0, 0, 0, 0, 0, 0, 0, 0, 0, 0, 0, 0, 0, 0, 0, 0, 0, 0, 0, 0, 0, 0, 0, 0, 0, 0, 0, 0, 0, 0, 0, 0, 0, 0, 0, 0, 0, 0, 0, 0, 0, 0, 0, 0, 0, 0, 0, 0, 0, 0, 0, 0, 0, 0, 0, 0, 0, 0, 0, 0, 0, 0, 0, 0, 0, 0, 0, 0, 0, 0, 0, 0, 0, 0, 0, 0, 0, 0, 0, 0, 0, 0, 0, 0, 0, 0, 0, 0, 0, 0, 0, 0, 0, 0, 0, 0, 0, 0, 0, 0, 0, 0, 0, 0, 0, 0, 0, 0, 0, 0, 0, 0, 0, 0, 0, 0, 0, 0, 0, 0, 0, 0, 0, 0, 0, 0, 0, 0, 0, 0, 0, 0, 0, 0, 0, 0, 0, 0, 0, 0, 0, 0, 0, 0, 0, 0, 0, 0, 0, 0, 0, 0, 0, 0, 0, 0, 0, 0, 0, 0, 0, 0, 0, 0, 0, 0, 0, 0, 0, 0, 0, 0, 0, 0, 0, 0, 0, 0, 0, 0, 0, 0, 0, 0, 0, 0, 0, 0, 0, 0, 0, 0, 0, 0, 0, 0, 0, 0, 0, 0, 0, 0, 0, 0, 0, 0, 0, 0, 0, 0, 0, 0, 0, 0, 0, 0, 0, 0, 0, 0, 0, 0, 0, 0, 0, 0, 0, 0, 0, 0, 0, 0, 0, 0, 0, 0, 0, 0, 0, 0, 0, 0, 0, 0, 0, 0, 0, 0, 0, 0, 0, 0, 0, 0, 0, 0, 0, 0, 0, 0, 0, 0, 0, 0, 0, 0, 0, 0, 0, 0, 0, 2, 0, 1, 0]\n"
     ]
    }
   ],
   "source": [
    "test_bow = bow_encoding(test_words, vocabulary)\n",
    "print(test_bow)"
   ]
  },
  {
   "cell_type": "code",
   "execution_count": 43,
   "metadata": {},
   "outputs": [
    {
     "data": {
      "text/plain": [
       "5000"
      ]
     },
     "execution_count": 43,
     "metadata": {},
     "output_type": "execute_result"
    }
   ],
   "source": [
    "len(test_bow)"
   ]
  },
  {
   "cell_type": "markdown",
   "metadata": {},
   "source": [
    "So now we know how to construct a bag of words encoding of a user provided review, how to we send it to our endpoint? First, we need to start the endpoint back up."
   ]
  },
  {
   "cell_type": "code",
   "execution_count": 44,
   "metadata": {},
   "outputs": [
    {
     "name": "stderr",
     "output_type": "stream",
     "text": [
      "WARNING:sagemaker:Parameter image will be renamed to image_uri in SageMaker Python SDK v2.\n",
      "WARNING:sagemaker:Using already existing model: xgboost-2020-07-20-15-53-53-327\n"
     ]
    },
    {
     "name": "stdout",
     "output_type": "stream",
     "text": [
      "---------------!"
     ]
    }
   ],
   "source": [
    "xgb_predictor = xgb.deploy(initial_instance_count = 1, instance_type = 'ml.m4.xlarge')"
   ]
  },
  {
   "cell_type": "markdown",
   "metadata": {},
   "source": [
    "At this point we could just do the same thing that we did earlier when we tested our deployed model and send `test_bow` to our endpoint using the `xgb_predictor` object. However, when we eventually construct our Lambda function we won't have access to this object, so how do we call a SageMaker endpoint?\n",
    "\n",
    "It turns out that Python functions that are used in Lambda have access to another Amazon library called `boto3`. This library provides an API for working with Amazon services, including SageMaker. To start with, we need to get a handle to the SageMaker runtime."
   ]
  },
  {
   "cell_type": "code",
   "execution_count": 45,
   "metadata": {},
   "outputs": [],
   "source": [
    "import boto3\n",
    "\n",
    "runtime = boto3.Session().client('sagemaker-runtime')"
   ]
  },
  {
   "cell_type": "markdown",
   "metadata": {},
   "source": [
    "And now that we have access to the SageMaker runtime, we can ask it to make use of (invoke) an endpoint that has already been created. However, we need to provide SageMaker with the name of the deployed endpoint. To find this out we can print it out using the `xgb_predictor` object."
   ]
  },
  {
   "cell_type": "code",
   "execution_count": 46,
   "metadata": {},
   "outputs": [
    {
     "data": {
      "text/plain": [
       "'xgboost-2020-07-20-15-53-53-327'"
      ]
     },
     "execution_count": 46,
     "metadata": {},
     "output_type": "execute_result"
    }
   ],
   "source": [
    "xgb_predictor.endpoint"
   ]
  },
  {
   "cell_type": "markdown",
   "metadata": {},
   "source": [
    "Using the SageMaker runtime and the name of our endpoint, we can invoke the endpoint and send it the `test_bow` data."
   ]
  },
  {
   "cell_type": "code",
   "execution_count": 47,
   "metadata": {},
   "outputs": [
    {
     "ename": "ParamValidationError",
     "evalue": "Parameter validation failed:\nInvalid type for parameter Body, value: [0, 0, 0, 0, 0, 0, 0, 0, 0, 0, 0, 0, 0, 0, 0, 0, 0, 0, 0, 0, 0, 0, 0, 0, 0, 0, 0, 0, 0, 0, 0, 0, 0, 0, 0, 0, 0, 0, 0, 0, 0, 0, 0, 0, 0, 0, 0, 0, 0, 0, 0, 0, 0, 0, 0, 0, 0, 0, 0, 0, 0, 0, 0, 0, 0, 0, 0, 0, 0, 0, 0, 0, 0, 0, 0, 0, 0, 0, 0, 0, 0, 0, 0, 0, 0, 0, 0, 0, 0, 0, 0, 0, 0, 0, 0, 0, 0, 0, 0, 0, 0, 0, 0, 0, 0, 0, 0, 0, 0, 0, 0, 0, 0, 0, 0, 0, 0, 0, 0, 0, 0, 0, 0, 0, 0, 0, 0, 0, 0, 0, 0, 0, 0, 0, 0, 0, 0, 0, 0, 0, 0, 0, 0, 0, 0, 0, 0, 0, 0, 0, 0, 0, 0, 0, 0, 0, 0, 0, 0, 0, 0, 0, 0, 0, 0, 0, 0, 0, 0, 0, 0, 0, 0, 0, 0, 0, 0, 0, 0, 0, 0, 0, 0, 0, 0, 0, 0, 0, 0, 0, 0, 0, 0, 0, 0, 0, 0, 0, 0, 0, 0, 0, 0, 0, 0, 0, 0, 0, 0, 0, 0, 0, 0, 0, 0, 0, 0, 0, 0, 0, 0, 0, 0, 0, 0, 0, 1, 0, 0, 0, 0, 0, 0, 0, 0, 0, 0, 0, 0, 0, 0, 0, 0, 0, 0, 0, 0, 0, 0, 0, 0, 0, 0, 0, 0, 0, 1, 0, 0, 0, 0, 0, 0, 0, 0, 0, 0, 0, 0, 0, 0, 0, 0, 0, 0, 0, 0, 0, 0, 0, 0, 0, 0, 0, 0, 0, 0, 0, 0, 0, 0, 0, 0, 0, 0, 0, 0, 0, 0, 0, 0, 0, 0, 0, 0, 0, 0, 0, 0, 0, 0, 0, 0, 0, 0, 0, 0, 0, 0, 0, 0, 0, 0, 0, 0, 0, 0, 0, 0, 0, 0, 0, 0, 0, 0, 0, 0, 0, 0, 0, 0, 0, 0, 0, 0, 0, 0, 0, 0, 0, 0, 0, 0, 0, 0, 0, 0, 0, 0, 0, 0, 0, 0, 0, 0, 0, 0, 0, 0, 0, 0, 0, 0, 0, 0, 0, 0, 0, 0, 0, 0, 0, 0, 0, 0, 0, 0, 0, 0, 0, 0, 0, 0, 0, 0, 0, 0, 0, 0, 0, 0, 0, 0, 0, 0, 0, 0, 0, 0, 0, 0, 0, 0, 0, 0, 0, 0, 0, 0, 0, 0, 0, 0, 0, 0, 0, 0, 0, 0, 0, 0, 0, 0, 0, 0, 0, 0, 0, 0, 0, 0, 0, 0, 0, 0, 0, 0, 0, 0, 0, 0, 0, 0, 0, 0, 0, 0, 0, 0, 0, 0, 0, 0, 0, 0, 0, 0, 0, 0, 0, 0, 0, 0, 0, 0, 0, 0, 0, 0, 0, 0, 0, 0, 0, 0, 0, 0, 0, 0, 0, 0, 0, 0, 0, 0, 0, 0, 0, 0, 0, 0, 0, 0, 0, 0, 0, 0, 0, 0, 0, 0, 0, 0, 0, 0, 0, 0, 0, 0, 0, 0, 0, 0, 0, 0, 0, 0, 0, 0, 0, 0, 0, 0, 0, 0, 0, 0, 0, 0, 0, 0, 0, 0, 0, 0, 0, 0, 0, 0, 0, 0, 0, 0, 0, 0, 0, 0, 0, 0, 0, 0, 0, 0, 0, 0, 0, 0, 0, 0, 0, 0, 0, 0, 0, 0, 0, 0, 0, 0, 0, 0, 0, 0, 0, 0, 0, 0, 0, 0, 0, 0, 0, 0, 0, 0, 0, 0, 0, 0, 0, 0, 0, 0, 0, 0, 0, 0, 0, 0, 0, 0, 0, 0, 0, 0, 0, 0, 0, 0, 0, 0, 0, 0, 0, 0, 0, 0, 0, 0, 0, 0, 0, 0, 0, 0, 0, 1, 0, 0, 0, 0, 0, 0, 0, 0, 0, 0, 0, 0, 0, 0, 0, 0, 0, 0, 0, 0, 0, 0, 0, 0, 0, 0, 0, 0, 0, 0, 0, 0, 0, 0, 0, 0, 0, 0, 0, 0, 0, 0, 0, 0, 0, 0, 0, 0, 0, 0, 0, 0, 0, 0, 0, 0, 0, 0, 0, 0, 0, 0, 0, 0, 0, 0, 0, 0, 0, 0, 0, 0, 0, 0, 0, 0, 0, 0, 0, 0, 0, 0, 0, 0, 0, 0, 0, 0, 0, 0, 0, 0, 0, 0, 0, 0, 0, 0, 0, 0, 0, 0, 0, 0, 0, 0, 0, 0, 0, 0, 0, 0, 0, 0, 0, 0, 0, 0, 0, 0, 0, 0, 0, 0, 0, 0, 0, 0, 0, 0, 0, 0, 0, 0, 0, 0, 0, 0, 0, 0, 0, 0, 0, 0, 0, 0, 0, 0, 0, 0, 0, 0, 0, 0, 0, 0, 0, 0, 0, 0, 0, 0, 0, 0, 0, 0, 0, 0, 0, 0, 0, 0, 0, 0, 0, 0, 0, 0, 0, 0, 0, 0, 0, 0, 0, 0, 0, 0, 0, 0, 0, 0, 0, 0, 0, 0, 0, 0, 0, 0, 0, 0, 0, 0, 0, 0, 0, 0, 0, 0, 0, 0, 0, 0, 0, 0, 0, 0, 0, 0, 0, 0, 0, 0, 0, 0, 0, 0, 0, 0, 0, 0, 0, 0, 0, 0, 0, 0, 0, 0, 0, 0, 0, 0, 0, 0, 0, 0, 0, 0, 0, 0, 0, 1, 0, 0, 0, 0, 0, 0, 0, 0, 0, 0, 0, 0, 0, 0, 0, 0, 0, 0, 0, 0, 0, 0, 0, 0, 0, 0, 0, 0, 0, 0, 0, 0, 0, 0, 0, 0, 0, 0, 0, 0, 0, 0, 0, 0, 0, 0, 0, 0, 0, 0, 0, 0, 0, 0, 0, 0, 0, 0, 0, 0, 0, 0, 0, 0, 0, 0, 0, 0, 0, 0, 0, 0, 0, 0, 0, 0, 0, 0, 0, 0, 0, 0, 0, 0, 0, 0, 1, 0, 0, 0, 0, 0, 0, 0, 0, 0, 0, 0, 0, 0, 0, 0, 0, 0, 0, 0, 0, 0, 0, 0, 0, 0, 0, 0, 0, 0, 0, 0, 0, 0, 0, 0, 0, 0, 0, 0, 0, 0, 0, 0, 0, 0, 0, 0, 0, 0, 0, 0, 0, 0, 0, 0, 0, 0, 0, 0, 0, 0, 0, 0, 0, 0, 0, 0, 0, 0, 0, 0, 0, 0, 0, 0, 0, 0, 0, 0, 0, 0, 0, 0, 0, 0, 0, 0, 0, 0, 0, 0, 0, 0, 0, 0, 0, 0, 0, 0, 0, 0, 0, 0, 0, 0, 0, 0, 0, 0, 0, 0, 0, 0, 0, 0, 0, 0, 0, 0, 0, 0, 0, 0, 0, 0, 0, 0, 0, 0, 0, 0, 0, 0, 0, 0, 0, 0, 0, 0, 0, 0, 0, 0, 0, 0, 0, 0, 0, 0, 0, 0, 0, 0, 0, 0, 0, 0, 0, 0, 0, 0, 0, 0, 0, 0, 0, 0, 0, 0, 0, 0, 0, 0, 0, 0, 0, 0, 0, 0, 0, 0, 0, 0, 0, 0, 0, 0, 0, 0, 0, 0, 0, 0, 0, 0, 0, 0, 0, 0, 0, 0, 0, 0, 0, 0, 0, 0, 0, 0, 0, 0, 0, 0, 0, 0, 0, 0, 0, 0, 0, 0, 0, 0, 0, 0, 0, 0, 0, 0, 0, 0, 0, 0, 0, 0, 0, 0, 0, 0, 0, 0, 0, 0, 0, 0, 0, 0, 0, 0, 0, 0, 0, 1, 0, 0, 0, 0, 0, 0, 0, 0, 0, 0, 0, 0, 0, 0, 0, 0, 0, 0, 0, 0, 0, 0, 0, 0, 0, 0, 0, 0, 0, 0, 0, 0, 0, 0, 0, 0, 0, 0, 0, 0, 0, 0, 0, 0, 0, 0, 0, 0, 0, 0, 0, 0, 0, 0, 0, 1, 0, 0, 0, 0, 0, 0, 0, 0, 0, 0, 0, 0, 0, 0, 0, 0, 0, 0, 0, 0, 0, 0, 0, 0, 0, 0, 0, 0, 0, 0, 0, 0, 0, 0, 0, 0, 0, 0, 0, 0, 0, 0, 0, 0, 0, 0, 0, 0, 0, 0, 0, 0, 0, 0, 0, 0, 0, 0, 0, 0, 0, 0, 0, 0, 0, 0, 0, 0, 0, 0, 0, 0, 0, 0, 0, 0, 0, 0, 0, 0, 0, 0, 0, 0, 0, 0, 0, 0, 0, 0, 0, 0, 0, 0, 0, 0, 0, 0, 0, 0, 0, 0, 0, 0, 0, 0, 0, 0, 0, 0, 0, 0, 0, 0, 0, 0, 0, 0, 0, 0, 0, 0, 0, 0, 0, 0, 0, 0, 0, 0, 0, 0, 0, 0, 0, 0, 0, 0, 0, 0, 0, 0, 0, 0, 0, 0, 0, 0, 0, 0, 0, 0, 0, 0, 0, 0, 0, 0, 0, 0, 0, 0, 0, 0, 0, 0, 0, 0, 0, 0, 0, 0, 0, 0, 0, 0, 0, 0, 0, 0, 0, 0, 0, 0, 0, 0, 0, 0, 0, 0, 0, 0, 0, 0, 0, 0, 0, 0, 0, 0, 0, 0, 0, 0, 0, 0, 0, 0, 0, 0, 0, 0, 0, 0, 0, 0, 0, 0, 0, 0, 0, 0, 0, 0, 0, 0, 0, 0, 0, 0, 0, 0, 0, 0, 0, 0, 0, 0, 0, 0, 0, 0, 0, 0, 0, 0, 0, 0, 0, 0, 0, 0, 0, 0, 0, 0, 0, 0, 0, 0, 0, 0, 0, 0, 0, 0, 0, 0, 0, 0, 0, 0, 0, 0, 0, 0, 0, 0, 0, 0, 0, 0, 0, 0, 0, 0, 0, 0, 0, 0, 0, 0, 0, 0, 0, 0, 0, 0, 0, 0, 0, 0, 0, 0, 0, 0, 0, 0, 0, 0, 0, 0, 0, 0, 0, 0, 0, 0, 0, 0, 0, 0, 0, 0, 0, 0, 0, 0, 0, 0, 0, 0, 0, 0, 0, 0, 0, 0, 0, 0, 0, 0, 0, 0, 0, 0, 0, 0, 0, 0, 0, 0, 0, 0, 0, 0, 0, 0, 0, 0, 0, 0, 0, 0, 0, 0, 0, 0, 0, 0, 0, 0, 0, 0, 0, 0, 0, 0, 0, 0, 0, 0, 0, 0, 0, 0, 0, 0, 0, 0, 0, 0, 0, 0, 0, 0, 0, 0, 0, 0, 0, 0, 0, 0, 0, 0, 0, 0, 0, 0, 0, 0, 0, 0, 0, 0, 0, 0, 0, 0, 0, 0, 0, 0, 0, 0, 0, 0, 0, 0, 0, 0, 0, 0, 0, 0, 0, 0, 0, 0, 0, 0, 0, 0, 0, 0, 0, 0, 0, 0, 0, 0, 0, 0, 0, 0, 0, 0, 0, 0, 0, 0, 0, 0, 0, 0, 0, 0, 0, 0, 0, 0, 0, 0, 0, 0, 0, 0, 0, 0, 0, 0, 0, 0, 0, 0, 0, 0, 0, 0, 0, 0, 0, 0, 0, 0, 0, 0, 0, 0, 0, 0, 0, 0, 0, 0, 0, 0, 0, 0, 0, 0, 0, 0, 0, 0, 0, 0, 0, 0, 0, 0, 0, 0, 0, 0, 0, 0, 0, 0, 0, 0, 0, 0, 0, 0, 0, 0, 0, 0, 0, 0, 0, 0, 0, 0, 0, 0, 0, 0, 0, 0, 0, 0, 0, 0, 0, 0, 0, 0, 0, 0, 0, 0, 0, 0, 0, 0, 0, 0, 0, 0, 0, 0, 0, 0, 0, 0, 0, 0, 0, 0, 0, 0, 0, 0, 0, 0, 0, 0, 0, 0, 0, 0, 0, 0, 0, 0, 0, 0, 0, 0, 0, 0, 0, 0, 0, 0, 0, 0, 0, 0, 0, 0, 0, 0, 0, 0, 0, 0, 0, 0, 0, 0, 0, 0, 0, 0, 0, 0, 0, 0, 0, 0, 0, 0, 0, 0, 0, 0, 0, 0, 0, 0, 0, 0, 0, 0, 0, 0, 0, 0, 0, 0, 0, 0, 0, 0, 0, 0, 0, 0, 0, 0, 0, 0, 0, 0, 0, 0, 0, 0, 0, 0, 0, 0, 0, 0, 0, 0, 0, 1, 0, 0, 0, 0, 0, 0, 0, 0, 0, 0, 0, 0, 0, 0, 0, 0, 0, 0, 0, 0, 0, 0, 0, 0, 0, 0, 0, 0, 0, 0, 0, 0, 0, 0, 0, 0, 0, 0, 0, 0, 0, 0, 0, 0, 0, 0, 0, 0, 0, 0, 0, 0, 0, 0, 0, 0, 0, 0, 0, 0, 0, 0, 0, 0, 0, 0, 0, 0, 0, 0, 0, 0, 0, 0, 1, 0, 0, 0, 0, 0, 0, 0, 0, 0, 0, 0, 0, 0, 0, 0, 0, 0, 0, 0, 0, 1, 0, 0, 1, 0, 0, 0, 0, 0, 0, 0, 0, 0, 0, 0, 0, 0, 0, 0, 0, 0, 0, 0, 0, 0, 0, 0, 0, 0, 0, 0, 0, 0, 0, 0, 0, 0, 0, 0, 0, 0, 0, 0, 0, 0, 0, 0, 0, 0, 0, 0, 0, 0, 0, 0, 0, 0, 0, 0, 0, 0, 0, 0, 0, 0, 0, 0, 0, 0, 0, 0, 0, 0, 0, 0, 0, 0, 0, 0, 0, 0, 0, 0, 0, 0, 0, 0, 0, 0, 0, 0, 0, 0, 0, 0, 0, 0, 0, 0, 0, 0, 0, 0, 0, 0, 0, 0, 0, 0, 0, 0, 0, 0, 0, 0, 0, 0, 0, 0, 0, 0, 0, 0, 0, 0, 0, 0, 0, 0, 0, 0, 0, 0, 0, 0, 0, 0, 0, 0, 0, 0, 0, 0, 0, 0, 0, 0, 0, 0, 0, 0, 0, 0, 0, 0, 0, 0, 0, 0, 0, 0, 0, 0, 0, 0, 0, 0, 0, 0, 0, 0, 0, 0, 0, 0, 0, 0, 0, 0, 0, 0, 0, 0, 0, 0, 0, 0, 0, 0, 0, 0, 0, 0, 0, 0, 0, 0, 0, 0, 0, 0, 0, 0, 0, 0, 0, 0, 0, 0, 0, 0, 0, 0, 0, 0, 0, 0, 0, 0, 0, 0, 0, 0, 0, 0, 0, 0, 0, 0, 0, 0, 0, 0, 0, 0, 0, 0, 0, 0, 0, 0, 0, 0, 0, 0, 0, 0, 0, 0, 0, 0, 0, 0, 0, 0, 0, 0, 0, 0, 0, 0, 0, 0, 0, 0, 0, 0, 0, 0, 0, 0, 0, 0, 0, 0, 0, 0, 0, 0, 0, 0, 0, 0, 0, 0, 0, 0, 0, 0, 0, 0, 0, 0, 0, 0, 0, 0, 0, 0, 0, 0, 0, 0, 0, 0, 0, 0, 0, 0, 0, 0, 0, 0, 0, 0, 0, 0, 0, 0, 0, 0, 0, 0, 0, 0, 0, 0, 0, 0, 0, 0, 0, 0, 0, 0, 0, 0, 0, 0, 0, 0, 0, 0, 0, 0, 0, 0, 0, 0, 0, 0, 0, 0, 0, 0, 0, 0, 0, 0, 0, 0, 0, 0, 0, 0, 0, 0, 0, 0, 0, 0, 0, 0, 0, 0, 0, 0, 0, 0, 0, 0, 0, 0, 0, 0, 0, 0, 0, 0, 0, 0, 0, 0, 0, 0, 0, 0, 0, 0, 0, 0, 0, 0, 0, 0, 0, 0, 0, 0, 0, 0, 0, 0, 0, 0, 0, 0, 0, 0, 0, 0, 0, 0, 0, 0, 0, 0, 0, 0, 0, 0, 0, 0, 0, 0, 0, 0, 0, 0, 0, 0, 0, 0, 0, 0, 0, 0, 0, 0, 0, 0, 0, 0, 0, 0, 0, 0, 0, 0, 0, 0, 0, 0, 0, 0, 0, 0, 0, 0, 0, 1, 0, 0, 0, 0, 0, 0, 0, 0, 0, 0, 0, 0, 0, 0, 0, 0, 0, 0, 0, 0, 0, 0, 0, 0, 0, 0, 0, 0, 0, 0, 0, 0, 0, 0, 0, 0, 0, 0, 0, 0, 0, 0, 0, 0, 0, 0, 0, 0, 0, 0, 0, 0, 0, 0, 0, 0, 0, 0, 0, 0, 0, 0, 0, 0, 0, 0, 0, 0, 0, 0, 0, 0, 0, 0, 0, 0, 0, 0, 0, 0, 0, 0, 0, 0, 0, 0, 0, 0, 0, 0, 0, 0, 0, 0, 0, 0, 0, 0, 0, 0, 0, 0, 0, 0, 0, 0, 0, 0, 0, 0, 0, 0, 0, 0, 0, 0, 0, 0, 0, 0, 0, 0, 0, 0, 0, 0, 0, 0, 0, 0, 0, 0, 0, 0, 0, 0, 0, 0, 0, 0, 0, 0, 0, 0, 0, 0, 0, 0, 0, 0, 0, 0, 0, 0, 0, 0, 0, 0, 0, 0, 0, 0, 0, 0, 0, 0, 0, 0, 0, 0, 0, 0, 0, 0, 0, 0, 0, 0, 0, 0, 0, 0, 0, 0, 0, 0, 0, 0, 0, 0, 0, 0, 0, 0, 0, 0, 0, 0, 0, 0, 0, 0, 0, 0, 0, 0, 0, 0, 0, 0, 0, 0, 0, 0, 0, 0, 0, 0, 0, 0, 0, 0, 0, 0, 0, 0, 0, 0, 0, 0, 0, 0, 0, 0, 0, 0, 0, 0, 0, 0, 0, 0, 0, 0, 0, 0, 0, 0, 0, 0, 0, 0, 0, 0, 0, 0, 0, 0, 0, 0, 0, 0, 0, 0, 0, 0, 0, 0, 0, 0, 0, 0, 0, 0, 0, 0, 0, 0, 0, 0, 0, 0, 0, 0, 0, 0, 0, 0, 0, 0, 0, 0, 0, 0, 0, 0, 0, 0, 0, 0, 0, 0, 0, 0, 0, 0, 0, 0, 0, 0, 0, 0, 0, 0, 0, 0, 0, 0, 0, 0, 0, 0, 0, 0, 0, 0, 0, 0, 0, 0, 0, 0, 0, 0, 0, 0, 0, 0, 0, 0, 0, 0, 0, 0, 0, 0, 0, 0, 0, 0, 0, 0, 0, 0, 0, 0, 0, 0, 0, 0, 0, 0, 0, 0, 0, 0, 0, 0, 0, 0, 0, 0, 0, 0, 0, 0, 0, 0, 0, 0, 0, 0, 0, 0, 0, 0, 0, 0, 0, 0, 0, 0, 0, 0, 0, 0, 0, 0, 0, 0, 0, 0, 0, 0, 0, 0, 0, 0, 0, 0, 0, 0, 0, 0, 0, 0, 0, 0, 0, 0, 0, 0, 0, 0, 0, 0, 0, 0, 0, 0, 0, 0, 0, 0, 0, 0, 0, 0, 0, 0, 0, 0, 0, 0, 0, 0, 0, 0, 0, 0, 0, 0, 0, 0, 0, 0, 0, 0, 0, 0, 0, 0, 0, 0, 0, 0, 0, 0, 0, 0, 0, 0, 0, 0, 0, 0, 0, 0, 0, 0, 0, 0, 0, 0, 0, 0, 0, 0, 0, 0, 0, 0, 0, 0, 0, 0, 0, 0, 0, 0, 0, 0, 0, 0, 0, 0, 0, 0, 0, 0, 0, 0, 1, 0, 0, 0, 0, 0, 0, 0, 0, 0, 0, 0, 0, 0, 0, 0, 0, 0, 0, 0, 0, 0, 0, 0, 0, 0, 0, 0, 0, 0, 0, 0, 0, 0, 0, 0, 2, 0, 0, 0, 0, 0, 0, 0, 0, 0, 0, 0, 0, 0, 0, 0, 0, 0, 0, 0, 0, 0, 0, 0, 0, 0, 0, 0, 0, 0, 0, 0, 0, 0, 0, 0, 0, 0, 0, 0, 0, 1, 0, 0, 0, 0, 0, 0, 0, 0, 0, 0, 0, 0, 0, 0, 0, 0, 0, 0, 0, 0, 0, 0, 0, 0, 0, 0, 0, 0, 0, 0, 0, 0, 0, 0, 0, 0, 0, 0, 0, 0, 0, 0, 0, 0, 0, 0, 0, 0, 0, 0, 0, 0, 0, 0, 0, 0, 0, 0, 0, 0, 0, 0, 0, 0, 0, 0, 0, 0, 0, 0, 0, 0, 0, 0, 0, 0, 0, 0, 0, 0, 0, 0, 0, 0, 0, 0, 0, 0, 0, 0, 0, 0, 0, 0, 0, 0, 0, 0, 0, 0, 0, 0, 0, 0, 0, 0, 0, 0, 0, 0, 0, 0, 0, 0, 0, 0, 0, 0, 0, 0, 0, 0, 0, 0, 0, 0, 0, 0, 0, 0, 0, 0, 0, 0, 0, 0, 0, 0, 0, 0, 0, 0, 0, 0, 0, 0, 0, 0, 0, 0, 0, 0, 0, 0, 0, 0, 0, 0, 0, 0, 0, 0, 0, 0, 0, 0, 0, 0, 0, 0, 0, 0, 0, 0, 0, 0, 0, 0, 0, 0, 0, 0, 0, 0, 0, 0, 0, 0, 0, 0, 0, 0, 0, 0, 0, 0, 0, 0, 0, 0, 0, 0, 0, 0, 0, 0, 0, 0, 0, 0, 0, 0, 0, 0, 0, 0, 0, 0, 0, 0, 0, 0, 0, 0, 0, 0, 0, 0, 0, 0, 0, 0, 0, 0, 0, 0, 0, 0, 0, 0, 0, 0, 0, 0, 0, 0, 0, 0, 0, 0, 0, 0, 0, 0, 0, 0, 0, 0, 0, 0, 0, 0, 0, 0, 0, 0, 0, 0, 0, 0, 0, 0, 0, 0, 0, 0, 0, 0, 0, 0, 0, 0, 0, 0, 0, 0, 0, 0, 0, 0, 0, 0, 0, 0, 0, 0, 0, 0, 0, 0, 0, 0, 0, 0, 0, 0, 0, 0, 0, 0, 0, 0, 0, 0, 0, 0, 0, 0, 0, 0, 0, 0, 0, 0, 0, 0, 0, 0, 0, 0, 0, 0, 0, 0, 0, 0, 0, 0, 0, 0, 0, 0, 0, 0, 0, 0, 0, 0, 0, 0, 0, 0, 0, 0, 0, 0, 0, 0, 0, 0, 0, 0, 0, 0, 0, 0, 0, 0, 0, 0, 0, 0, 0, 0, 0, 0, 0, 0, 0, 0, 0, 0, 0, 0, 0, 0, 0, 0, 0, 0, 0, 0, 0, 0, 0, 0, 0, 0, 0, 0, 0, 0, 0, 0, 0, 0, 0, 0, 0, 0, 0, 0, 0, 0, 0, 0, 0, 0, 0, 0, 0, 0, 0, 0, 0, 0, 0, 0, 0, 0, 0, 0, 0, 0, 0, 0, 0, 0, 0, 0, 0, 0, 0, 0, 0, 0, 0, 0, 0, 0, 0, 0, 0, 0, 0, 0, 0, 0, 0, 0, 0, 0, 0, 0, 0, 0, 0, 0, 0, 0, 0, 0, 0, 0, 0, 0, 0, 0, 0, 0, 0, 0, 0, 0, 0, 0, 0, 0, 0, 0, 0, 0, 0, 0, 0, 0, 0, 1, 0, 0, 0, 0, 0, 0, 0, 0, 0, 0, 0, 0, 0, 0, 0, 0, 0, 0, 0, 0, 0, 0, 0, 0, 0, 0, 0, 0, 0, 0, 0, 0, 0, 0, 0, 0, 0, 0, 0, 0, 0, 0, 0, 0, 0, 0, 0, 0, 0, 0, 0, 0, 0, 0, 0, 0, 0, 0, 0, 0, 0, 0, 0, 0, 0, 0, 0, 0, 0, 0, 0, 0, 0, 0, 0, 0, 0, 0, 0, 0, 0, 0, 0, 0, 0, 0, 0, 0, 0, 0, 0, 0, 0, 0, 0, 0, 0, 0, 0, 0, 0, 0, 0, 0, 0, 0, 0, 0, 0, 0, 2, 0, 0, 0, 0, 0, 0, 0, 0, 0, 0, 0, 0, 0, 0, 0, 0, 0, 0, 0, 0, 0, 0, 0, 0, 0, 0, 0, 0, 0, 0, 0, 0, 0, 0, 0, 0, 0, 0, 0, 0, 0, 0, 0, 0, 0, 0, 0, 0, 0, 0, 0, 0, 0, 0, 0, 0, 0, 0, 0, 0, 0, 0, 0, 0, 0, 0, 0, 0, 0, 0, 0, 0, 0, 0, 0, 0, 0, 0, 0, 0, 0, 0, 0, 0, 0, 0, 0, 0, 0, 0, 0, 0, 0, 0, 0, 0, 0, 0, 0, 0, 0, 0, 0, 0, 0, 0, 0, 0, 0, 0, 0, 0, 0, 0, 0, 0, 0, 0, 0, 0, 0, 0, 0, 0, 0, 0, 0, 0, 0, 0, 0, 0, 0, 0, 0, 0, 0, 0, 0, 0, 0, 0, 0, 0, 0, 0, 0, 0, 0, 0, 0, 0, 0, 0, 0, 0, 0, 0, 0, 0, 0, 0, 0, 0, 0, 0, 0, 0, 0, 0, 0, 0, 0, 0, 0, 0, 0, 0, 0, 0, 0, 0, 0, 0, 0, 0, 0, 0, 0, 0, 0, 0, 0, 0, 0, 0, 0, 0, 0, 0, 0, 0, 0, 0, 0, 0, 0, 0, 0, 0, 0, 0, 0, 0, 0, 0, 0, 0, 0, 0, 0, 0, 0, 0, 0, 0, 0, 0, 0, 0, 0, 0, 0, 0, 0, 0, 0, 0, 0, 0, 0, 0, 0, 0, 0, 0, 0, 0, 0, 0, 0, 0, 0, 0, 0, 0, 0, 0, 0, 0, 0, 0, 0, 0, 0, 0, 0, 0, 0, 0, 0, 0, 0, 0, 0, 0, 0, 0, 0, 0, 0, 0, 0, 0, 0, 0, 0, 0, 0, 0, 0, 0, 0, 0, 0, 0, 0, 0, 0, 0, 0, 0, 0, 0, 0, 0, 0, 0, 0, 0, 0, 0, 0, 0, 0, 0, 0, 0, 0, 0, 0, 0, 0, 0, 0, 0, 0, 0, 0, 0, 0, 0, 0, 0, 0, 0, 0, 0, 0, 0, 0, 0, 0, 0, 0, 0, 0, 0, 0, 0, 0, 0, 0, 0, 0, 0, 0, 0, 0, 0, 0, 0, 0, 0, 0, 0, 0, 0, 0, 0, 0, 0, 0, 0, 0, 0, 0, 0, 0, 0, 0, 0, 0, 0, 0, 0, 0, 0, 0, 0, 0, 0, 0, 0, 0, 0, 0, 0, 0, 0, 0, 0, 0, 0, 0, 0, 0, 0, 0, 0, 0, 0, 0, 0, 0, 0, 0, 0, 0, 0, 0, 0, 0, 0, 0, 0, 0, 0, 0, 0, 0, 0, 0, 0, 0, 0, 0, 0, 0, 0, 0, 0, 0, 0, 0, 0, 0, 0, 0, 0, 0, 0, 0, 0, 0, 0, 0, 0, 0, 0, 0, 0, 0, 0, 0, 0, 0, 0, 0, 0, 0, 0, 0, 0, 0, 0, 0, 0, 0, 0, 0, 0, 0, 0, 0, 0, 0, 0, 0, 0, 0, 0, 0, 0, 0, 0, 0, 0, 0, 0, 0, 0, 0, 0, 0, 0, 0, 0, 0, 0, 0, 0, 0, 0, 0, 0, 0, 0, 0, 0, 0, 0, 0, 0, 0, 0, 0, 0, 0, 0, 0, 0, 0, 0, 0, 0, 0, 0, 0, 0, 0, 0, 0, 0, 0, 0, 0, 0, 0, 0, 0, 0, 0, 0, 0, 0, 0, 0, 0, 0, 0, 0, 0, 0, 0, 0, 0, 0, 0, 0, 0, 0, 0, 0, 0, 0, 0, 0, 0, 0, 0, 0, 0, 0, 0, 0, 0, 0, 0, 0, 0, 0, 0, 0, 0, 0, 0, 0, 0, 0, 0, 0, 0, 0, 0, 0, 0, 0, 0, 0, 0, 0, 0, 0, 0, 0, 0, 0, 0, 0, 0, 0, 0, 0, 0, 0, 0, 0, 0, 0, 0, 0, 0, 0, 0, 0, 0, 0, 0, 0, 0, 0, 0, 0, 0, 0, 0, 0, 0, 0, 0, 0, 0, 0, 0, 0, 0, 0, 0, 0, 0, 0, 0, 0, 0, 0, 0, 0, 0, 0, 0, 0, 0, 0, 0, 0, 0, 0, 0, 0, 0, 0, 0, 0, 0, 0, 0, 0, 0, 0, 1, 0, 0, 0, 0, 0, 0, 0, 0, 0, 0, 0, 0, 0, 0, 0, 0, 0, 0, 0, 0, 0, 0, 0, 0, 0, 0, 0, 0, 0, 0, 0, 0, 0, 0, 0, 0, 0, 0, 0, 0, 0, 0, 0, 0, 0, 0, 0, 0, 0, 0, 0, 0, 0, 0, 0, 0, 0, 0, 0, 0, 0, 0, 0, 0, 0, 0, 0, 0, 0, 0, 0, 0, 0, 0, 0, 0, 0, 0, 0, 0, 0, 0, 0, 0, 0, 0, 0, 0, 0, 0, 0, 0, 0, 0, 0, 0, 0, 0, 0, 0, 0, 0, 0, 0, 0, 0, 0, 1, 0, 0, 0, 0, 0, 0, 0, 0, 0, 0, 0, 0, 0, 0, 0, 0, 0, 0, 0, 0, 0, 0, 0, 0, 0, 0, 0, 0, 0, 0, 0, 0, 0, 0, 0, 0, 0, 0, 0, 0, 0, 0, 0, 0, 0, 0, 0, 0, 0, 0, 0, 0, 0, 0, 0, 0, 0, 0, 0, 0, 0, 0, 0, 0, 0, 0, 0, 0, 0, 0, 0, 0, 0, 0, 0, 0, 0, 0, 0, 0, 0, 0, 0, 0, 0, 0, 0, 0, 0, 0, 0, 0, 0, 0, 0, 0, 0, 0, 0, 0, 0, 0, 0, 0, 0, 0, 0, 0, 0, 0, 0, 0, 0, 0, 0, 0, 0, 0, 0, 0, 0, 0, 0, 0, 0, 0, 0, 0, 0, 0, 0, 0, 0, 0, 0, 0, 0, 0, 0, 0, 0, 0, 0, 0, 0, 0, 0, 0, 0, 0, 0, 0, 0, 0, 0, 0, 0, 0, 0, 0, 0, 0, 0, 0, 0, 0, 0, 0, 0, 0, 0, 0, 0, 0, 0, 0, 0, 0, 0, 0, 0, 0, 0, 0, 0, 0, 0, 0, 0, 0, 0, 0, 0, 0, 0, 0, 0, 0, 0, 0, 0, 0, 0, 0, 0, 0, 0, 0, 0, 0, 0, 0, 0, 0, 0, 0, 0, 0, 0, 0, 0, 0, 0, 0, 0, 0, 0, 0, 0, 0, 0, 0, 0, 0, 0, 0, 0, 0, 0, 0, 0, 0, 0, 0, 0, 0, 0, 0, 0, 0, 0, 0, 0, 0, 0, 0, 0, 0, 0, 0, 0, 0, 0, 0, 0, 0, 0, 0, 0, 0, 0, 0, 0, 0, 0, 0, 0, 0, 0, 0, 0, 0, 0, 0, 0, 0, 0, 0, 0, 0, 0, 0, 0, 0, 0, 0, 0, 0, 0, 0, 0, 0, 0, 0, 0, 0, 0, 0, 0, 0, 0, 0, 0, 0, 0, 0, 0, 0, 0, 0, 0, 0, 0, 0, 0, 0, 0, 0, 0, 0, 0, 0, 0, 0, 0, 0, 0, 0, 0, 0, 0, 0, 0, 0, 0, 0, 0, 0, 0, 0, 0, 0, 0, 0, 0, 0, 0, 0, 0, 0, 0, 0, 0, 0, 0, 0, 0, 0, 0, 0, 0, 0, 0, 0, 0, 0, 0, 0, 0, 0, 0, 0, 0, 0, 0, 0, 0, 0, 0, 0, 0, 0, 0, 0, 0, 0, 0, 0, 0, 0, 0, 0, 0, 0, 0, 0, 0, 0, 0, 0, 0, 0, 0, 0, 0, 0, 0, 0, 0, 0, 0, 0, 0, 0, 0, 0, 0, 0, 0, 0, 0, 0, 0, 0, 0, 0, 0, 0, 0, 0, 0, 0, 0, 0, 0, 0, 0, 0, 0, 0, 0, 0, 0, 0, 0, 0, 0, 0, 0, 0, 0, 0, 0, 2, 0, 1, 0], type: <class 'list'>, valid types: <class 'bytes'>, <class 'bytearray'>, file-like object",
     "output_type": "error",
     "traceback": [
      "\u001b[0;31m---------------------------------------------------------------------------\u001b[0m",
      "\u001b[0;31mParamValidationError\u001b[0m                      Traceback (most recent call last)",
      "\u001b[0;32m<ipython-input-47-c9ab54ae3a48>\u001b[0m in \u001b[0;36m<module>\u001b[0;34m\u001b[0m\n\u001b[1;32m      1\u001b[0m response = runtime.invoke_endpoint(EndpointName = xgb_predictor.endpoint, # The name of the endpoint we created\n\u001b[1;32m      2\u001b[0m                                        \u001b[0mContentType\u001b[0m \u001b[0;34m=\u001b[0m \u001b[0;34m'text/csv'\u001b[0m\u001b[0;34m,\u001b[0m                     \u001b[0;31m# The data format that is expected\u001b[0m\u001b[0;34m\u001b[0m\u001b[0;34m\u001b[0m\u001b[0m\n\u001b[0;32m----> 3\u001b[0;31m                                        Body = test_bow)\n\u001b[0m",
      "\u001b[0;32m~/anaconda3/envs/python3/lib/python3.6/site-packages/botocore/client.py\u001b[0m in \u001b[0;36m_api_call\u001b[0;34m(self, *args, **kwargs)\u001b[0m\n\u001b[1;32m    314\u001b[0m                     \"%s() only accepts keyword arguments.\" % py_operation_name)\n\u001b[1;32m    315\u001b[0m             \u001b[0;31m# The \"self\" in this scope is referring to the BaseClient.\u001b[0m\u001b[0;34m\u001b[0m\u001b[0;34m\u001b[0m\u001b[0;34m\u001b[0m\u001b[0m\n\u001b[0;32m--> 316\u001b[0;31m             \u001b[0;32mreturn\u001b[0m \u001b[0mself\u001b[0m\u001b[0;34m.\u001b[0m\u001b[0m_make_api_call\u001b[0m\u001b[0;34m(\u001b[0m\u001b[0moperation_name\u001b[0m\u001b[0;34m,\u001b[0m \u001b[0mkwargs\u001b[0m\u001b[0;34m)\u001b[0m\u001b[0;34m\u001b[0m\u001b[0;34m\u001b[0m\u001b[0m\n\u001b[0m\u001b[1;32m    317\u001b[0m \u001b[0;34m\u001b[0m\u001b[0m\n\u001b[1;32m    318\u001b[0m         \u001b[0m_api_call\u001b[0m\u001b[0;34m.\u001b[0m\u001b[0m__name__\u001b[0m \u001b[0;34m=\u001b[0m \u001b[0mstr\u001b[0m\u001b[0;34m(\u001b[0m\u001b[0mpy_operation_name\u001b[0m\u001b[0;34m)\u001b[0m\u001b[0;34m\u001b[0m\u001b[0;34m\u001b[0m\u001b[0m\n",
      "\u001b[0;32m~/anaconda3/envs/python3/lib/python3.6/site-packages/botocore/client.py\u001b[0m in \u001b[0;36m_make_api_call\u001b[0;34m(self, operation_name, api_params)\u001b[0m\n\u001b[1;32m    606\u001b[0m         }\n\u001b[1;32m    607\u001b[0m         request_dict = self._convert_to_request_dict(\n\u001b[0;32m--> 608\u001b[0;31m             api_params, operation_model, context=request_context)\n\u001b[0m\u001b[1;32m    609\u001b[0m \u001b[0;34m\u001b[0m\u001b[0m\n\u001b[1;32m    610\u001b[0m         \u001b[0mservice_id\u001b[0m \u001b[0;34m=\u001b[0m \u001b[0mself\u001b[0m\u001b[0;34m.\u001b[0m\u001b[0m_service_model\u001b[0m\u001b[0;34m.\u001b[0m\u001b[0mservice_id\u001b[0m\u001b[0;34m.\u001b[0m\u001b[0mhyphenize\u001b[0m\u001b[0;34m(\u001b[0m\u001b[0;34m)\u001b[0m\u001b[0;34m\u001b[0m\u001b[0;34m\u001b[0m\u001b[0m\n",
      "\u001b[0;32m~/anaconda3/envs/python3/lib/python3.6/site-packages/botocore/client.py\u001b[0m in \u001b[0;36m_convert_to_request_dict\u001b[0;34m(self, api_params, operation_model, context)\u001b[0m\n\u001b[1;32m    654\u001b[0m             api_params, operation_model, context)\n\u001b[1;32m    655\u001b[0m         request_dict = self._serializer.serialize_to_request(\n\u001b[0;32m--> 656\u001b[0;31m             api_params, operation_model)\n\u001b[0m\u001b[1;32m    657\u001b[0m         \u001b[0;32mif\u001b[0m \u001b[0;32mnot\u001b[0m \u001b[0mself\u001b[0m\u001b[0;34m.\u001b[0m\u001b[0m_client_config\u001b[0m\u001b[0;34m.\u001b[0m\u001b[0minject_host_prefix\u001b[0m\u001b[0;34m:\u001b[0m\u001b[0;34m\u001b[0m\u001b[0;34m\u001b[0m\u001b[0m\n\u001b[1;32m    658\u001b[0m             \u001b[0mrequest_dict\u001b[0m\u001b[0;34m.\u001b[0m\u001b[0mpop\u001b[0m\u001b[0;34m(\u001b[0m\u001b[0;34m'host_prefix'\u001b[0m\u001b[0;34m,\u001b[0m \u001b[0;32mNone\u001b[0m\u001b[0;34m)\u001b[0m\u001b[0;34m\u001b[0m\u001b[0;34m\u001b[0m\u001b[0m\n",
      "\u001b[0;32m~/anaconda3/envs/python3/lib/python3.6/site-packages/botocore/validate.py\u001b[0m in \u001b[0;36mserialize_to_request\u001b[0;34m(self, parameters, operation_model)\u001b[0m\n\u001b[1;32m    295\u001b[0m                                                     operation_model.input_shape)\n\u001b[1;32m    296\u001b[0m             \u001b[0;32mif\u001b[0m \u001b[0mreport\u001b[0m\u001b[0;34m.\u001b[0m\u001b[0mhas_errors\u001b[0m\u001b[0;34m(\u001b[0m\u001b[0;34m)\u001b[0m\u001b[0;34m:\u001b[0m\u001b[0;34m\u001b[0m\u001b[0;34m\u001b[0m\u001b[0m\n\u001b[0;32m--> 297\u001b[0;31m                 \u001b[0;32mraise\u001b[0m \u001b[0mParamValidationError\u001b[0m\u001b[0;34m(\u001b[0m\u001b[0mreport\u001b[0m\u001b[0;34m=\u001b[0m\u001b[0mreport\u001b[0m\u001b[0;34m.\u001b[0m\u001b[0mgenerate_report\u001b[0m\u001b[0;34m(\u001b[0m\u001b[0;34m)\u001b[0m\u001b[0;34m)\u001b[0m\u001b[0;34m\u001b[0m\u001b[0;34m\u001b[0m\u001b[0m\n\u001b[0m\u001b[1;32m    298\u001b[0m         return self._serializer.serialize_to_request(parameters,\n\u001b[1;32m    299\u001b[0m                                                      operation_model)\n",
      "\u001b[0;31mParamValidationError\u001b[0m: Parameter validation failed:\nInvalid type for parameter Body, value: [0, 0, 0, 0, 0, 0, 0, 0, 0, 0, 0, 0, 0, 0, 0, 0, 0, 0, 0, 0, 0, 0, 0, 0, 0, 0, 0, 0, 0, 0, 0, 0, 0, 0, 0, 0, 0, 0, 0, 0, 0, 0, 0, 0, 0, 0, 0, 0, 0, 0, 0, 0, 0, 0, 0, 0, 0, 0, 0, 0, 0, 0, 0, 0, 0, 0, 0, 0, 0, 0, 0, 0, 0, 0, 0, 0, 0, 0, 0, 0, 0, 0, 0, 0, 0, 0, 0, 0, 0, 0, 0, 0, 0, 0, 0, 0, 0, 0, 0, 0, 0, 0, 0, 0, 0, 0, 0, 0, 0, 0, 0, 0, 0, 0, 0, 0, 0, 0, 0, 0, 0, 0, 0, 0, 0, 0, 0, 0, 0, 0, 0, 0, 0, 0, 0, 0, 0, 0, 0, 0, 0, 0, 0, 0, 0, 0, 0, 0, 0, 0, 0, 0, 0, 0, 0, 0, 0, 0, 0, 0, 0, 0, 0, 0, 0, 0, 0, 0, 0, 0, 0, 0, 0, 0, 0, 0, 0, 0, 0, 0, 0, 0, 0, 0, 0, 0, 0, 0, 0, 0, 0, 0, 0, 0, 0, 0, 0, 0, 0, 0, 0, 0, 0, 0, 0, 0, 0, 0, 0, 0, 0, 0, 0, 0, 0, 0, 0, 0, 0, 0, 0, 0, 0, 0, 0, 0, 1, 0, 0, 0, 0, 0, 0, 0, 0, 0, 0, 0, 0, 0, 0, 0, 0, 0, 0, 0, 0, 0, 0, 0, 0, 0, 0, 0, 0, 0, 1, 0, 0, 0, 0, 0, 0, 0, 0, 0, 0, 0, 0, 0, 0, 0, 0, 0, 0, 0, 0, 0, 0, 0, 0, 0, 0, 0, 0, 0, 0, 0, 0, 0, 0, 0, 0, 0, 0, 0, 0, 0, 0, 0, 0, 0, 0, 0, 0, 0, 0, 0, 0, 0, 0, 0, 0, 0, 0, 0, 0, 0, 0, 0, 0, 0, 0, 0, 0, 0, 0, 0, 0, 0, 0, 0, 0, 0, 0, 0, 0, 0, 0, 0, 0, 0, 0, 0, 0, 0, 0, 0, 0, 0, 0, 0, 0, 0, 0, 0, 0, 0, 0, 0, 0, 0, 0, 0, 0, 0, 0, 0, 0, 0, 0, 0, 0, 0, 0, 0, 0, 0, 0, 0, 0, 0, 0, 0, 0, 0, 0, 0, 0, 0, 0, 0, 0, 0, 0, 0, 0, 0, 0, 0, 0, 0, 0, 0, 0, 0, 0, 0, 0, 0, 0, 0, 0, 0, 0, 0, 0, 0, 0, 0, 0, 0, 0, 0, 0, 0, 0, 0, 0, 0, 0, 0, 0, 0, 0, 0, 0, 0, 0, 0, 0, 0, 0, 0, 0, 0, 0, 0, 0, 0, 0, 0, 0, 0, 0, 0, 0, 0, 0, 0, 0, 0, 0, 0, 0, 0, 0, 0, 0, 0, 0, 0, 0, 0, 0, 0, 0, 0, 0, 0, 0, 0, 0, 0, 0, 0, 0, 0, 0, 0, 0, 0, 0, 0, 0, 0, 0, 0, 0, 0, 0, 0, 0, 0, 0, 0, 0, 0, 0, 0, 0, 0, 0, 0, 0, 0, 0, 0, 0, 0, 0, 0, 0, 0, 0, 0, 0, 0, 0, 0, 0, 0, 0, 0, 0, 0, 0, 0, 0, 0, 0, 0, 0, 0, 0, 0, 0, 0, 0, 0, 0, 0, 0, 0, 0, 0, 0, 0, 0, 0, 0, 0, 0, 0, 0, 0, 0, 0, 0, 0, 0, 0, 0, 0, 0, 0, 0, 0, 0, 0, 0, 0, 0, 0, 0, 0, 0, 0, 0, 0, 0, 0, 0, 0, 0, 0, 0, 0, 0, 0, 0, 0, 0, 0, 0, 0, 0, 0, 0, 0, 0, 0, 0, 0, 0, 0, 0, 0, 0, 0, 0, 0, 0, 0, 0, 0, 0, 0, 0, 0, 0, 0, 0, 0, 0, 0, 1, 0, 0, 0, 0, 0, 0, 0, 0, 0, 0, 0, 0, 0, 0, 0, 0, 0, 0, 0, 0, 0, 0, 0, 0, 0, 0, 0, 0, 0, 0, 0, 0, 0, 0, 0, 0, 0, 0, 0, 0, 0, 0, 0, 0, 0, 0, 0, 0, 0, 0, 0, 0, 0, 0, 0, 0, 0, 0, 0, 0, 0, 0, 0, 0, 0, 0, 0, 0, 0, 0, 0, 0, 0, 0, 0, 0, 0, 0, 0, 0, 0, 0, 0, 0, 0, 0, 0, 0, 0, 0, 0, 0, 0, 0, 0, 0, 0, 0, 0, 0, 0, 0, 0, 0, 0, 0, 0, 0, 0, 0, 0, 0, 0, 0, 0, 0, 0, 0, 0, 0, 0, 0, 0, 0, 0, 0, 0, 0, 0, 0, 0, 0, 0, 0, 0, 0, 0, 0, 0, 0, 0, 0, 0, 0, 0, 0, 0, 0, 0, 0, 0, 0, 0, 0, 0, 0, 0, 0, 0, 0, 0, 0, 0, 0, 0, 0, 0, 0, 0, 0, 0, 0, 0, 0, 0, 0, 0, 0, 0, 0, 0, 0, 0, 0, 0, 0, 0, 0, 0, 0, 0, 0, 0, 0, 0, 0, 0, 0, 0, 0, 0, 0, 0, 0, 0, 0, 0, 0, 0, 0, 0, 0, 0, 0, 0, 0, 0, 0, 0, 0, 0, 0, 0, 0, 0, 0, 0, 0, 0, 0, 0, 0, 0, 0, 0, 0, 0, 0, 0, 0, 0, 0, 0, 0, 0, 0, 0, 0, 0, 0, 0, 0, 0, 1, 0, 0, 0, 0, 0, 0, 0, 0, 0, 0, 0, 0, 0, 0, 0, 0, 0, 0, 0, 0, 0, 0, 0, 0, 0, 0, 0, 0, 0, 0, 0, 0, 0, 0, 0, 0, 0, 0, 0, 0, 0, 0, 0, 0, 0, 0, 0, 0, 0, 0, 0, 0, 0, 0, 0, 0, 0, 0, 0, 0, 0, 0, 0, 0, 0, 0, 0, 0, 0, 0, 0, 0, 0, 0, 0, 0, 0, 0, 0, 0, 0, 0, 0, 0, 0, 0, 1, 0, 0, 0, 0, 0, 0, 0, 0, 0, 0, 0, 0, 0, 0, 0, 0, 0, 0, 0, 0, 0, 0, 0, 0, 0, 0, 0, 0, 0, 0, 0, 0, 0, 0, 0, 0, 0, 0, 0, 0, 0, 0, 0, 0, 0, 0, 0, 0, 0, 0, 0, 0, 0, 0, 0, 0, 0, 0, 0, 0, 0, 0, 0, 0, 0, 0, 0, 0, 0, 0, 0, 0, 0, 0, 0, 0, 0, 0, 0, 0, 0, 0, 0, 0, 0, 0, 0, 0, 0, 0, 0, 0, 0, 0, 0, 0, 0, 0, 0, 0, 0, 0, 0, 0, 0, 0, 0, 0, 0, 0, 0, 0, 0, 0, 0, 0, 0, 0, 0, 0, 0, 0, 0, 0, 0, 0, 0, 0, 0, 0, 0, 0, 0, 0, 0, 0, 0, 0, 0, 0, 0, 0, 0, 0, 0, 0, 0, 0, 0, 0, 0, 0, 0, 0, 0, 0, 0, 0, 0, 0, 0, 0, 0, 0, 0, 0, 0, 0, 0, 0, 0, 0, 0, 0, 0, 0, 0, 0, 0, 0, 0, 0, 0, 0, 0, 0, 0, 0, 0, 0, 0, 0, 0, 0, 0, 0, 0, 0, 0, 0, 0, 0, 0, 0, 0, 0, 0, 0, 0, 0, 0, 0, 0, 0, 0, 0, 0, 0, 0, 0, 0, 0, 0, 0, 0, 0, 0, 0, 0, 0, 0, 0, 0, 0, 0, 0, 0, 0, 0, 0, 0, 0, 0, 0, 0, 0, 0, 0, 0, 0, 0, 0, 1, 0, 0, 0, 0, 0, 0, 0, 0, 0, 0, 0, 0, 0, 0, 0, 0, 0, 0, 0, 0, 0, 0, 0, 0, 0, 0, 0, 0, 0, 0, 0, 0, 0, 0, 0, 0, 0, 0, 0, 0, 0, 0, 0, 0, 0, 0, 0, 0, 0, 0, 0, 0, 0, 0, 0, 1, 0, 0, 0, 0, 0, 0, 0, 0, 0, 0, 0, 0, 0, 0, 0, 0, 0, 0, 0, 0, 0, 0, 0, 0, 0, 0, 0, 0, 0, 0, 0, 0, 0, 0, 0, 0, 0, 0, 0, 0, 0, 0, 0, 0, 0, 0, 0, 0, 0, 0, 0, 0, 0, 0, 0, 0, 0, 0, 0, 0, 0, 0, 0, 0, 0, 0, 0, 0, 0, 0, 0, 0, 0, 0, 0, 0, 0, 0, 0, 0, 0, 0, 0, 0, 0, 0, 0, 0, 0, 0, 0, 0, 0, 0, 0, 0, 0, 0, 0, 0, 0, 0, 0, 0, 0, 0, 0, 0, 0, 0, 0, 0, 0, 0, 0, 0, 0, 0, 0, 0, 0, 0, 0, 0, 0, 0, 0, 0, 0, 0, 0, 0, 0, 0, 0, 0, 0, 0, 0, 0, 0, 0, 0, 0, 0, 0, 0, 0, 0, 0, 0, 0, 0, 0, 0, 0, 0, 0, 0, 0, 0, 0, 0, 0, 0, 0, 0, 0, 0, 0, 0, 0, 0, 0, 0, 0, 0, 0, 0, 0, 0, 0, 0, 0, 0, 0, 0, 0, 0, 0, 0, 0, 0, 0, 0, 0, 0, 0, 0, 0, 0, 0, 0, 0, 0, 0, 0, 0, 0, 0, 0, 0, 0, 0, 0, 0, 0, 0, 0, 0, 0, 0, 0, 0, 0, 0, 0, 0, 0, 0, 0, 0, 0, 0, 0, 0, 0, 0, 0, 0, 0, 0, 0, 0, 0, 0, 0, 0, 0, 0, 0, 0, 0, 0, 0, 0, 0, 0, 0, 0, 0, 0, 0, 0, 0, 0, 0, 0, 0, 0, 0, 0, 0, 0, 0, 0, 0, 0, 0, 0, 0, 0, 0, 0, 0, 0, 0, 0, 0, 0, 0, 0, 0, 0, 0, 0, 0, 0, 0, 0, 0, 0, 0, 0, 0, 0, 0, 0, 0, 0, 0, 0, 0, 0, 0, 0, 0, 0, 0, 0, 0, 0, 0, 0, 0, 0, 0, 0, 0, 0, 0, 0, 0, 0, 0, 0, 0, 0, 0, 0, 0, 0, 0, 0, 0, 0, 0, 0, 0, 0, 0, 0, 0, 0, 0, 0, 0, 0, 0, 0, 0, 0, 0, 0, 0, 0, 0, 0, 0, 0, 0, 0, 0, 0, 0, 0, 0, 0, 0, 0, 0, 0, 0, 0, 0, 0, 0, 0, 0, 0, 0, 0, 0, 0, 0, 0, 0, 0, 0, 0, 0, 0, 0, 0, 0, 0, 0, 0, 0, 0, 0, 0, 0, 0, 0, 0, 0, 0, 0, 0, 0, 0, 0, 0, 0, 0, 0, 0, 0, 0, 0, 0, 0, 0, 0, 0, 0, 0, 0, 0, 0, 0, 0, 0, 0, 0, 0, 0, 0, 0, 0, 0, 0, 0, 0, 0, 0, 0, 0, 0, 0, 0, 0, 0, 0, 0, 0, 0, 0, 0, 0, 0, 0, 0, 0, 0, 0, 0, 0, 0, 0, 0, 0, 0, 0, 0, 0, 0, 0, 0, 0, 0, 0, 0, 0, 0, 0, 0, 0, 0, 0, 0, 0, 0, 0, 0, 0, 0, 0, 0, 0, 0, 0, 0, 0, 0, 0, 0, 0, 0, 0, 0, 0, 0, 0, 0, 0, 0, 0, 0, 0, 0, 0, 0, 0, 0, 0, 0, 0, 0, 0, 0, 0, 0, 0, 0, 0, 0, 0, 0, 0, 0, 0, 0, 0, 0, 0, 0, 0, 0, 0, 0, 0, 0, 0, 0, 0, 0, 0, 0, 0, 0, 0, 0, 0, 0, 0, 0, 0, 0, 0, 0, 0, 0, 0, 0, 0, 0, 0, 0, 0, 0, 0, 0, 0, 0, 0, 0, 0, 0, 0, 0, 0, 0, 0, 0, 0, 0, 0, 0, 0, 0, 0, 0, 0, 0, 0, 0, 0, 0, 0, 0, 0, 0, 0, 0, 0, 0, 0, 0, 0, 0, 0, 0, 0, 0, 0, 0, 0, 0, 0, 0, 0, 0, 0, 0, 0, 0, 0, 0, 0, 0, 0, 0, 0, 0, 0, 0, 0, 0, 0, 0, 0, 0, 0, 0, 0, 0, 0, 0, 0, 0, 0, 0, 0, 0, 0, 0, 0, 0, 0, 1, 0, 0, 0, 0, 0, 0, 0, 0, 0, 0, 0, 0, 0, 0, 0, 0, 0, 0, 0, 0, 0, 0, 0, 0, 0, 0, 0, 0, 0, 0, 0, 0, 0, 0, 0, 0, 0, 0, 0, 0, 0, 0, 0, 0, 0, 0, 0, 0, 0, 0, 0, 0, 0, 0, 0, 0, 0, 0, 0, 0, 0, 0, 0, 0, 0, 0, 0, 0, 0, 0, 0, 0, 0, 0, 1, 0, 0, 0, 0, 0, 0, 0, 0, 0, 0, 0, 0, 0, 0, 0, 0, 0, 0, 0, 0, 1, 0, 0, 1, 0, 0, 0, 0, 0, 0, 0, 0, 0, 0, 0, 0, 0, 0, 0, 0, 0, 0, 0, 0, 0, 0, 0, 0, 0, 0, 0, 0, 0, 0, 0, 0, 0, 0, 0, 0, 0, 0, 0, 0, 0, 0, 0, 0, 0, 0, 0, 0, 0, 0, 0, 0, 0, 0, 0, 0, 0, 0, 0, 0, 0, 0, 0, 0, 0, 0, 0, 0, 0, 0, 0, 0, 0, 0, 0, 0, 0, 0, 0, 0, 0, 0, 0, 0, 0, 0, 0, 0, 0, 0, 0, 0, 0, 0, 0, 0, 0, 0, 0, 0, 0, 0, 0, 0, 0, 0, 0, 0, 0, 0, 0, 0, 0, 0, 0, 0, 0, 0, 0, 0, 0, 0, 0, 0, 0, 0, 0, 0, 0, 0, 0, 0, 0, 0, 0, 0, 0, 0, 0, 0, 0, 0, 0, 0, 0, 0, 0, 0, 0, 0, 0, 0, 0, 0, 0, 0, 0, 0, 0, 0, 0, 0, 0, 0, 0, 0, 0, 0, 0, 0, 0, 0, 0, 0, 0, 0, 0, 0, 0, 0, 0, 0, 0, 0, 0, 0, 0, 0, 0, 0, 0, 0, 0, 0, 0, 0, 0, 0, 0, 0, 0, 0, 0, 0, 0, 0, 0, 0, 0, 0, 0, 0, 0, 0, 0, 0, 0, 0, 0, 0, 0, 0, 0, 0, 0, 0, 0, 0, 0, 0, 0, 0, 0, 0, 0, 0, 0, 0, 0, 0, 0, 0, 0, 0, 0, 0, 0, 0, 0, 0, 0, 0, 0, 0, 0, 0, 0, 0, 0, 0, 0, 0, 0, 0, 0, 0, 0, 0, 0, 0, 0, 0, 0, 0, 0, 0, 0, 0, 0, 0, 0, 0, 0, 0, 0, 0, 0, 0, 0, 0, 0, 0, 0, 0, 0, 0, 0, 0, 0, 0, 0, 0, 0, 0, 0, 0, 0, 0, 0, 0, 0, 0, 0, 0, 0, 0, 0, 0, 0, 0, 0, 0, 0, 0, 0, 0, 0, 0, 0, 0, 0, 0, 0, 0, 0, 0, 0, 0, 0, 0, 0, 0, 0, 0, 0, 0, 0, 0, 0, 0, 0, 0, 0, 0, 0, 0, 0, 0, 0, 0, 0, 0, 0, 0, 0, 0, 0, 0, 0, 0, 0, 0, 0, 0, 0, 0, 0, 0, 0, 0, 0, 0, 0, 0, 0, 0, 0, 0, 0, 0, 0, 0, 0, 0, 0, 0, 0, 0, 0, 0, 0, 0, 0, 0, 0, 0, 0, 0, 0, 0, 0, 0, 0, 0, 0, 0, 0, 0, 0, 0, 0, 0, 0, 0, 0, 0, 0, 0, 0, 0, 0, 0, 0, 0, 0, 0, 0, 0, 0, 0, 0, 0, 0, 0, 0, 0, 0, 0, 0, 0, 0, 0, 0, 0, 0, 0, 0, 0, 0, 0, 0, 0, 0, 0, 0, 0, 1, 0, 0, 0, 0, 0, 0, 0, 0, 0, 0, 0, 0, 0, 0, 0, 0, 0, 0, 0, 0, 0, 0, 0, 0, 0, 0, 0, 0, 0, 0, 0, 0, 0, 0, 0, 0, 0, 0, 0, 0, 0, 0, 0, 0, 0, 0, 0, 0, 0, 0, 0, 0, 0, 0, 0, 0, 0, 0, 0, 0, 0, 0, 0, 0, 0, 0, 0, 0, 0, 0, 0, 0, 0, 0, 0, 0, 0, 0, 0, 0, 0, 0, 0, 0, 0, 0, 0, 0, 0, 0, 0, 0, 0, 0, 0, 0, 0, 0, 0, 0, 0, 0, 0, 0, 0, 0, 0, 0, 0, 0, 0, 0, 0, 0, 0, 0, 0, 0, 0, 0, 0, 0, 0, 0, 0, 0, 0, 0, 0, 0, 0, 0, 0, 0, 0, 0, 0, 0, 0, 0, 0, 0, 0, 0, 0, 0, 0, 0, 0, 0, 0, 0, 0, 0, 0, 0, 0, 0, 0, 0, 0, 0, 0, 0, 0, 0, 0, 0, 0, 0, 0, 0, 0, 0, 0, 0, 0, 0, 0, 0, 0, 0, 0, 0, 0, 0, 0, 0, 0, 0, 0, 0, 0, 0, 0, 0, 0, 0, 0, 0, 0, 0, 0, 0, 0, 0, 0, 0, 0, 0, 0, 0, 0, 0, 0, 0, 0, 0, 0, 0, 0, 0, 0, 0, 0, 0, 0, 0, 0, 0, 0, 0, 0, 0, 0, 0, 0, 0, 0, 0, 0, 0, 0, 0, 0, 0, 0, 0, 0, 0, 0, 0, 0, 0, 0, 0, 0, 0, 0, 0, 0, 0, 0, 0, 0, 0, 0, 0, 0, 0, 0, 0, 0, 0, 0, 0, 0, 0, 0, 0, 0, 0, 0, 0, 0, 0, 0, 0, 0, 0, 0, 0, 0, 0, 0, 0, 0, 0, 0, 0, 0, 0, 0, 0, 0, 0, 0, 0, 0, 0, 0, 0, 0, 0, 0, 0, 0, 0, 0, 0, 0, 0, 0, 0, 0, 0, 0, 0, 0, 0, 0, 0, 0, 0, 0, 0, 0, 0, 0, 0, 0, 0, 0, 0, 0, 0, 0, 0, 0, 0, 0, 0, 0, 0, 0, 0, 0, 0, 0, 0, 0, 0, 0, 0, 0, 0, 0, 0, 0, 0, 0, 0, 0, 0, 0, 0, 0, 0, 0, 0, 0, 0, 0, 0, 0, 0, 0, 0, 0, 0, 0, 0, 0, 0, 0, 0, 0, 0, 0, 0, 0, 0, 0, 0, 0, 0, 0, 0, 0, 0, 0, 0, 0, 0, 0, 0, 0, 0, 0, 0, 0, 0, 0, 0, 0, 0, 0, 0, 0, 0, 0, 0, 0, 0, 0, 0, 0, 0, 0, 0, 0, 0, 0, 0, 0, 0, 0, 0, 0, 0, 0, 0, 0, 0, 0, 0, 0, 0, 0, 0, 0, 0, 0, 0, 0, 0, 0, 0, 0, 0, 0, 0, 0, 0, 0, 0, 0, 0, 0, 0, 0, 0, 0, 0, 0, 0, 0, 0, 0, 0, 0, 0, 0, 0, 0, 0, 0, 0, 0, 0, 0, 0, 0, 0, 0, 0, 0, 0, 0, 0, 0, 0, 1, 0, 0, 0, 0, 0, 0, 0, 0, 0, 0, 0, 0, 0, 0, 0, 0, 0, 0, 0, 0, 0, 0, 0, 0, 0, 0, 0, 0, 0, 0, 0, 0, 0, 0, 0, 2, 0, 0, 0, 0, 0, 0, 0, 0, 0, 0, 0, 0, 0, 0, 0, 0, 0, 0, 0, 0, 0, 0, 0, 0, 0, 0, 0, 0, 0, 0, 0, 0, 0, 0, 0, 0, 0, 0, 0, 0, 1, 0, 0, 0, 0, 0, 0, 0, 0, 0, 0, 0, 0, 0, 0, 0, 0, 0, 0, 0, 0, 0, 0, 0, 0, 0, 0, 0, 0, 0, 0, 0, 0, 0, 0, 0, 0, 0, 0, 0, 0, 0, 0, 0, 0, 0, 0, 0, 0, 0, 0, 0, 0, 0, 0, 0, 0, 0, 0, 0, 0, 0, 0, 0, 0, 0, 0, 0, 0, 0, 0, 0, 0, 0, 0, 0, 0, 0, 0, 0, 0, 0, 0, 0, 0, 0, 0, 0, 0, 0, 0, 0, 0, 0, 0, 0, 0, 0, 0, 0, 0, 0, 0, 0, 0, 0, 0, 0, 0, 0, 0, 0, 0, 0, 0, 0, 0, 0, 0, 0, 0, 0, 0, 0, 0, 0, 0, 0, 0, 0, 0, 0, 0, 0, 0, 0, 0, 0, 0, 0, 0, 0, 0, 0, 0, 0, 0, 0, 0, 0, 0, 0, 0, 0, 0, 0, 0, 0, 0, 0, 0, 0, 0, 0, 0, 0, 0, 0, 0, 0, 0, 0, 0, 0, 0, 0, 0, 0, 0, 0, 0, 0, 0, 0, 0, 0, 0, 0, 0, 0, 0, 0, 0, 0, 0, 0, 0, 0, 0, 0, 0, 0, 0, 0, 0, 0, 0, 0, 0, 0, 0, 0, 0, 0, 0, 0, 0, 0, 0, 0, 0, 0, 0, 0, 0, 0, 0, 0, 0, 0, 0, 0, 0, 0, 0, 0, 0, 0, 0, 0, 0, 0, 0, 0, 0, 0, 0, 0, 0, 0, 0, 0, 0, 0, 0, 0, 0, 0, 0, 0, 0, 0, 0, 0, 0, 0, 0, 0, 0, 0, 0, 0, 0, 0, 0, 0, 0, 0, 0, 0, 0, 0, 0, 0, 0, 0, 0, 0, 0, 0, 0, 0, 0, 0, 0, 0, 0, 0, 0, 0, 0, 0, 0, 0, 0, 0, 0, 0, 0, 0, 0, 0, 0, 0, 0, 0, 0, 0, 0, 0, 0, 0, 0, 0, 0, 0, 0, 0, 0, 0, 0, 0, 0, 0, 0, 0, 0, 0, 0, 0, 0, 0, 0, 0, 0, 0, 0, 0, 0, 0, 0, 0, 0, 0, 0, 0, 0, 0, 0, 0, 0, 0, 0, 0, 0, 0, 0, 0, 0, 0, 0, 0, 0, 0, 0, 0, 0, 0, 0, 0, 0, 0, 0, 0, 0, 0, 0, 0, 0, 0, 0, 0, 0, 0, 0, 0, 0, 0, 0, 0, 0, 0, 0, 0, 0, 0, 0, 0, 0, 0, 0, 0, 0, 0, 0, 0, 0, 0, 0, 0, 0, 0, 0, 0, 0, 0, 0, 0, 0, 0, 0, 0, 0, 0, 0, 0, 0, 0, 0, 0, 0, 0, 0, 0, 0, 0, 0, 0, 0, 0, 0, 0, 0, 0, 0, 0, 0, 0, 0, 0, 0, 0, 0, 0, 0, 0, 0, 0, 0, 0, 0, 0, 0, 0, 0, 0, 0, 0, 0, 0, 0, 0, 0, 0, 0, 0, 0, 0, 0, 0, 0, 0, 0, 0, 0, 0, 0, 0, 1, 0, 0, 0, 0, 0, 0, 0, 0, 0, 0, 0, 0, 0, 0, 0, 0, 0, 0, 0, 0, 0, 0, 0, 0, 0, 0, 0, 0, 0, 0, 0, 0, 0, 0, 0, 0, 0, 0, 0, 0, 0, 0, 0, 0, 0, 0, 0, 0, 0, 0, 0, 0, 0, 0, 0, 0, 0, 0, 0, 0, 0, 0, 0, 0, 0, 0, 0, 0, 0, 0, 0, 0, 0, 0, 0, 0, 0, 0, 0, 0, 0, 0, 0, 0, 0, 0, 0, 0, 0, 0, 0, 0, 0, 0, 0, 0, 0, 0, 0, 0, 0, 0, 0, 0, 0, 0, 0, 0, 0, 0, 2, 0, 0, 0, 0, 0, 0, 0, 0, 0, 0, 0, 0, 0, 0, 0, 0, 0, 0, 0, 0, 0, 0, 0, 0, 0, 0, 0, 0, 0, 0, 0, 0, 0, 0, 0, 0, 0, 0, 0, 0, 0, 0, 0, 0, 0, 0, 0, 0, 0, 0, 0, 0, 0, 0, 0, 0, 0, 0, 0, 0, 0, 0, 0, 0, 0, 0, 0, 0, 0, 0, 0, 0, 0, 0, 0, 0, 0, 0, 0, 0, 0, 0, 0, 0, 0, 0, 0, 0, 0, 0, 0, 0, 0, 0, 0, 0, 0, 0, 0, 0, 0, 0, 0, 0, 0, 0, 0, 0, 0, 0, 0, 0, 0, 0, 0, 0, 0, 0, 0, 0, 0, 0, 0, 0, 0, 0, 0, 0, 0, 0, 0, 0, 0, 0, 0, 0, 0, 0, 0, 0, 0, 0, 0, 0, 0, 0, 0, 0, 0, 0, 0, 0, 0, 0, 0, 0, 0, 0, 0, 0, 0, 0, 0, 0, 0, 0, 0, 0, 0, 0, 0, 0, 0, 0, 0, 0, 0, 0, 0, 0, 0, 0, 0, 0, 0, 0, 0, 0, 0, 0, 0, 0, 0, 0, 0, 0, 0, 0, 0, 0, 0, 0, 0, 0, 0, 0, 0, 0, 0, 0, 0, 0, 0, 0, 0, 0, 0, 0, 0, 0, 0, 0, 0, 0, 0, 0, 0, 0, 0, 0, 0, 0, 0, 0, 0, 0, 0, 0, 0, 0, 0, 0, 0, 0, 0, 0, 0, 0, 0, 0, 0, 0, 0, 0, 0, 0, 0, 0, 0, 0, 0, 0, 0, 0, 0, 0, 0, 0, 0, 0, 0, 0, 0, 0, 0, 0, 0, 0, 0, 0, 0, 0, 0, 0, 0, 0, 0, 0, 0, 0, 0, 0, 0, 0, 0, 0, 0, 0, 0, 0, 0, 0, 0, 0, 0, 0, 0, 0, 0, 0, 0, 0, 0, 0, 0, 0, 0, 0, 0, 0, 0, 0, 0, 0, 0, 0, 0, 0, 0, 0, 0, 0, 0, 0, 0, 0, 0, 0, 0, 0, 0, 0, 0, 0, 0, 0, 0, 0, 0, 0, 0, 0, 0, 0, 0, 0, 0, 0, 0, 0, 0, 0, 0, 0, 0, 0, 0, 0, 0, 0, 0, 0, 0, 0, 0, 0, 0, 0, 0, 0, 0, 0, 0, 0, 0, 0, 0, 0, 0, 0, 0, 0, 0, 0, 0, 0, 0, 0, 0, 0, 0, 0, 0, 0, 0, 0, 0, 0, 0, 0, 0, 0, 0, 0, 0, 0, 0, 0, 0, 0, 0, 0, 0, 0, 0, 0, 0, 0, 0, 0, 0, 0, 0, 0, 0, 0, 0, 0, 0, 0, 0, 0, 0, 0, 0, 0, 0, 0, 0, 0, 0, 0, 0, 0, 0, 0, 0, 0, 0, 0, 0, 0, 0, 0, 0, 0, 0, 0, 0, 0, 0, 0, 0, 0, 0, 0, 0, 0, 0, 0, 0, 0, 0, 0, 0, 0, 0, 0, 0, 0, 0, 0, 0, 0, 0, 0, 0, 0, 0, 0, 0, 0, 0, 0, 0, 0, 0, 0, 0, 0, 0, 0, 0, 0, 0, 0, 0, 0, 0, 0, 0, 0, 0, 0, 0, 0, 0, 0, 0, 0, 0, 0, 0, 0, 0, 0, 0, 0, 0, 0, 0, 0, 0, 0, 0, 0, 0, 0, 0, 0, 0, 0, 0, 0, 0, 0, 0, 0, 0, 0, 0, 0, 0, 0, 0, 0, 0, 0, 0, 0, 0, 0, 0, 0, 0, 0, 0, 0, 0, 0, 0, 0, 0, 0, 0, 0, 0, 0, 0, 0, 0, 0, 0, 0, 0, 0, 0, 0, 0, 0, 0, 0, 0, 0, 0, 0, 0, 0, 0, 0, 0, 0, 0, 0, 0, 0, 0, 0, 0, 0, 0, 0, 0, 0, 0, 0, 0, 0, 0, 0, 0, 0, 0, 0, 0, 0, 0, 0, 0, 0, 0, 0, 0, 0, 0, 0, 0, 0, 0, 0, 0, 0, 0, 0, 0, 0, 0, 0, 0, 0, 0, 0, 0, 0, 0, 0, 0, 0, 0, 0, 0, 0, 0, 0, 0, 0, 0, 0, 0, 0, 0, 0, 0, 0, 0, 0, 0, 0, 0, 0, 1, 0, 0, 0, 0, 0, 0, 0, 0, 0, 0, 0, 0, 0, 0, 0, 0, 0, 0, 0, 0, 0, 0, 0, 0, 0, 0, 0, 0, 0, 0, 0, 0, 0, 0, 0, 0, 0, 0, 0, 0, 0, 0, 0, 0, 0, 0, 0, 0, 0, 0, 0, 0, 0, 0, 0, 0, 0, 0, 0, 0, 0, 0, 0, 0, 0, 0, 0, 0, 0, 0, 0, 0, 0, 0, 0, 0, 0, 0, 0, 0, 0, 0, 0, 0, 0, 0, 0, 0, 0, 0, 0, 0, 0, 0, 0, 0, 0, 0, 0, 0, 0, 0, 0, 0, 0, 0, 0, 1, 0, 0, 0, 0, 0, 0, 0, 0, 0, 0, 0, 0, 0, 0, 0, 0, 0, 0, 0, 0, 0, 0, 0, 0, 0, 0, 0, 0, 0, 0, 0, 0, 0, 0, 0, 0, 0, 0, 0, 0, 0, 0, 0, 0, 0, 0, 0, 0, 0, 0, 0, 0, 0, 0, 0, 0, 0, 0, 0, 0, 0, 0, 0, 0, 0, 0, 0, 0, 0, 0, 0, 0, 0, 0, 0, 0, 0, 0, 0, 0, 0, 0, 0, 0, 0, 0, 0, 0, 0, 0, 0, 0, 0, 0, 0, 0, 0, 0, 0, 0, 0, 0, 0, 0, 0, 0, 0, 0, 0, 0, 0, 0, 0, 0, 0, 0, 0, 0, 0, 0, 0, 0, 0, 0, 0, 0, 0, 0, 0, 0, 0, 0, 0, 0, 0, 0, 0, 0, 0, 0, 0, 0, 0, 0, 0, 0, 0, 0, 0, 0, 0, 0, 0, 0, 0, 0, 0, 0, 0, 0, 0, 0, 0, 0, 0, 0, 0, 0, 0, 0, 0, 0, 0, 0, 0, 0, 0, 0, 0, 0, 0, 0, 0, 0, 0, 0, 0, 0, 0, 0, 0, 0, 0, 0, 0, 0, 0, 0, 0, 0, 0, 0, 0, 0, 0, 0, 0, 0, 0, 0, 0, 0, 0, 0, 0, 0, 0, 0, 0, 0, 0, 0, 0, 0, 0, 0, 0, 0, 0, 0, 0, 0, 0, 0, 0, 0, 0, 0, 0, 0, 0, 0, 0, 0, 0, 0, 0, 0, 0, 0, 0, 0, 0, 0, 0, 0, 0, 0, 0, 0, 0, 0, 0, 0, 0, 0, 0, 0, 0, 0, 0, 0, 0, 0, 0, 0, 0, 0, 0, 0, 0, 0, 0, 0, 0, 0, 0, 0, 0, 0, 0, 0, 0, 0, 0, 0, 0, 0, 0, 0, 0, 0, 0, 0, 0, 0, 0, 0, 0, 0, 0, 0, 0, 0, 0, 0, 0, 0, 0, 0, 0, 0, 0, 0, 0, 0, 0, 0, 0, 0, 0, 0, 0, 0, 0, 0, 0, 0, 0, 0, 0, 0, 0, 0, 0, 0, 0, 0, 0, 0, 0, 0, 0, 0, 0, 0, 0, 0, 0, 0, 0, 0, 0, 0, 0, 0, 0, 0, 0, 0, 0, 0, 0, 0, 0, 0, 0, 0, 0, 0, 0, 0, 0, 0, 0, 0, 0, 0, 0, 0, 0, 0, 0, 0, 0, 0, 0, 0, 0, 0, 0, 0, 0, 0, 0, 0, 0, 0, 0, 0, 0, 0, 0, 0, 0, 0, 0, 0, 0, 0, 0, 0, 0, 0, 0, 0, 0, 0, 0, 0, 0, 0, 0, 0, 0, 0, 0, 0, 0, 0, 0, 0, 0, 0, 0, 0, 0, 0, 0, 0, 0, 0, 0, 0, 0, 0, 0, 0, 0, 0, 0, 0, 0, 2, 0, 1, 0], type: <class 'list'>, valid types: <class 'bytes'>, <class 'bytearray'>, file-like object"
     ]
    }
   ],
   "source": [
    "response = runtime.invoke_endpoint(EndpointName = xgb_predictor.endpoint, # The name of the endpoint we created\n",
    "                                       ContentType = 'text/csv',                     # The data format that is expected\n",
    "                                       Body = test_bow)"
   ]
  },
  {
   "cell_type": "markdown",
   "metadata": {},
   "source": [
    "So why did we get an error?\n",
    "\n",
    "Because we tried to send the endpoint a list of integers but it expected us to send data of type `text/csv`. So, we need to convert it."
   ]
  },
  {
   "cell_type": "code",
   "execution_count": 48,
   "metadata": {},
   "outputs": [],
   "source": [
    "response = runtime.invoke_endpoint(EndpointName = xgb_predictor.endpoint, # The name of the endpoint we created\n",
    "                                       ContentType = 'text/csv',                     # The data format that is expected\n",
    "                                       Body = ','.join([str(val) for val in test_bow]).encode('utf-8'))"
   ]
  },
  {
   "cell_type": "code",
   "execution_count": 49,
   "metadata": {},
   "outputs": [
    {
     "name": "stdout",
     "output_type": "stream",
     "text": [
      "{'ResponseMetadata': {'RequestId': '8ea7ad5e-5924-4f08-b82a-75fee7b4c9c9', 'HTTPStatusCode': 200, 'HTTPHeaders': {'x-amzn-requestid': '8ea7ad5e-5924-4f08-b82a-75fee7b4c9c9', 'x-amzn-invoked-production-variant': 'AllTraffic', 'date': 'Mon, 20 Jul 2020 16:28:12 GMT', 'content-type': 'text/csv; charset=utf-8', 'content-length': '14'}, 'RetryAttempts': 0}, 'ContentType': 'text/csv; charset=utf-8', 'InvokedProductionVariant': 'AllTraffic', 'Body': <botocore.response.StreamingBody object at 0x7f5544214978>}\n"
     ]
    }
   ],
   "source": [
    "print(response)"
   ]
  },
  {
   "cell_type": "markdown",
   "metadata": {},
   "source": [
    "As we can see, the response from our model is a somewhat complicated looking dict that contains a bunch of information. The bit that we are most interested in is `'Body'` object which is a streaming object that we need to `read` in order to make use of."
   ]
  },
  {
   "cell_type": "code",
   "execution_count": 50,
   "metadata": {},
   "outputs": [
    {
     "name": "stdout",
     "output_type": "stream",
     "text": [
      "0.518436074257\n"
     ]
    }
   ],
   "source": [
    "response = response['Body'].read().decode('utf-8')\n",
    "print(response)"
   ]
  },
  {
   "cell_type": "markdown",
   "metadata": {},
   "source": [
    "Now that we know how to process the incoming user data we can start setting up the infrastructure to make our simple web app work. To do this we will make use of two different services. Amazon's Lambda and API Gateway services.\n",
    "\n",
    "Lambda is a service which allows someone to write some relatively simple code and have it executed whenever a chosen trigger occurs. For example, you may want to update a database whenever new data is uploaded to a folder stored on S3.\n",
    "\n",
    "API Gateway is a service that allows you to create HTTP endpoints (url addresses) which are connected to other AWS services. One of the benefits to this is that you get to decide what credentials, if any, are required to access these endpoints.\n",
    "\n",
    "In our case we are going to set up an HTTP endpoint through API Gateway which is open to the public. Then, whenever anyone sends data to our public endpoint we will trigger a Lambda function which will send the input (in our case a review) to our model's endpoint and then return the result."
   ]
  },
  {
   "cell_type": "markdown",
   "metadata": {},
   "source": [
    "### Setting up a Lambda function\n",
    "\n",
    "The first thing we are going to do is set up a Lambda function. This Lambda function will be executed whenever our public API has data sent to it. When it is executed it will receive the data, perform any sort of processing that is required, send the data (the review) to the SageMaker endpoint we've created and then return the result.\n",
    "\n",
    "#### Part A: Create an IAM Role for the Lambda function\n",
    "\n",
    "Since we want the Lambda function to call a SageMaker endpoint, we need to make sure that it has permission to do so. To do this, we will construct a role that we can later give the Lambda function.\n",
    "\n",
    "Using the AWS Console, navigate to the **IAM** page and click on **Roles**. Then, click on **Create role**. Make sure that the **AWS service** is the type of trusted entity selected and choose **Lambda** as the service that will use this role, then click **Next: Permissions**.\n",
    "\n",
    "In the search box type `sagemaker` and select the check box next to the **AmazonSageMakerFullAccess** policy. Then, click on **Next: Review**.\n",
    "\n",
    "Lastly, give this role a name. Make sure you use a name that you will remember later on, for example `LambdaSageMakerRole`. Then, click on **Create role**."
   ]
  },
  {
   "cell_type": "markdown",
   "metadata": {},
   "source": [
    "#### Part B: Create a Lambda function\n",
    "\n",
    "Now it is time to actually create the Lambda function. Remember from earlier that in order to process the user provided input and send it to our endpoint we need to gather two pieces of information:\n",
    "\n",
    " - The name of the endpoint, and\n",
    " - the vocabulary object.\n",
    "\n",
    "We will copy these pieces of information to our Lambda function after we create it.\n",
    "\n",
    "To start, using the AWS Console, navigate to the AWS Lambda page and click on **Create a function**. When you get to the next page, make sure that **Author from scratch** is selected. Now, name your Lambda function, using a name that you will remember later on, for example `sentiment_analysis_xgboost_func`. Make sure that the **Python 3.6** runtime is selected and then choose the role that you created in the previous part. Then, click on **Create Function**.\n",
    "\n",
    "On the next page you will see some information about the Lambda function you've just created. If you scroll down you should see an editor in which you can write the code that will be executed when your Lambda function is triggered. Collecting the code we wrote above to process a single review and adding it to the provided example `lambda_handler` we arrive at the following.\n",
    "\n",
    "```python\n",
    "# We need to use the low-level library to interact with SageMaker since the SageMaker API\n",
    "# is not available natively through Lambda.\n",
    "import boto3\n",
    "\n",
    "# And we need the regular expression library to do some of the data processing\n",
    "import re\n",
    "\n",
    "REPLACE_NO_SPACE = re.compile(\"(\\.)|(\\;)|(\\:)|(\\!)|(\\')|(\\?)|(\\,)|(\\\")|(\\()|(\\))|(\\[)|(\\])\")\n",
    "REPLACE_WITH_SPACE = re.compile(\"(<br\\s*/><br\\s*/>)|(\\-)|(\\/)\")\n",
    "\n",
    "def review_to_words(review):\n",
    "    words = REPLACE_NO_SPACE.sub(\"\", review.lower())\n",
    "    words = REPLACE_WITH_SPACE.sub(\" \", words)\n",
    "    return words\n",
    "    \n",
    "def bow_encoding(words, vocabulary):\n",
    "    bow = [0] * len(vocabulary) # Start by setting the count for each word in the vocabulary to zero.\n",
    "    for word in words.split():  # For each word in the string\n",
    "        if word in vocabulary:  # If the word is one that occurs in the vocabulary, increase its count.\n",
    "            bow[vocabulary[word]] += 1\n",
    "    return bow\n",
    "\n",
    "\n",
    "def lambda_handler(event, context):\n",
    "    \n",
    "    vocab = \"*** ACTUAL VOCABULARY GOES HERE ***\"\n",
    "    \n",
    "    words = review_to_words(event['body'])\n",
    "    bow = bow_encoding(words, vocab)\n",
    "\n",
    "    # The SageMaker runtime is what allows us to invoke the endpoint that we've created.\n",
    "    runtime = boto3.Session().client('sagemaker-runtime')\n",
    "\n",
    "    # Now we use the SageMaker runtime to invoke our endpoint, sending the review we were given\n",
    "    response = runtime.invoke_endpoint(EndpointName = '***ENDPOINT NAME HERE***',# The name of the endpoint we created\n",
    "                                       ContentType = 'text/csv',                 # The data format that is expected\n",
    "                                       Body = ','.join([str(val) for val in bow]).encode('utf-8')) # The actual review\n",
    "\n",
    "    # The response is an HTTP response whose body contains the result of our inference\n",
    "    result = response['Body'].read().decode('utf-8')\n",
    "    \n",
    "    # Round the result so that our web app only gets '1' or '0' as a response.\n",
    "    result = round(float(result))\n",
    "\n",
    "    return {\n",
    "        'statusCode' : 200,\n",
    "        'headers' : { 'Content-Type' : 'text/plain', 'Access-Control-Allow-Origin' : '*' },\n",
    "        'body' : str(result)\n",
    "    }\n",
    "```"
   ]
  },
  {
   "cell_type": "markdown",
   "metadata": {},
   "source": [
    "Once you have copy and pasted the code above into the Lambda code editor, replace the `**ENDPOINT NAME HERE**` portion with the name of the endpoint that we deployed earlier. You can determine the name of the endpoint using the code cell below."
   ]
  },
  {
   "cell_type": "code",
   "execution_count": 51,
   "metadata": {},
   "outputs": [
    {
     "data": {
      "text/plain": [
       "'xgboost-2020-07-20-15-53-53-327'"
      ]
     },
     "execution_count": 51,
     "metadata": {},
     "output_type": "execute_result"
    }
   ],
   "source": [
    "xgb_predictor.endpoint"
   ]
  },
  {
   "cell_type": "markdown",
   "metadata": {},
   "source": [
    "In addition, you will need to copy the vocabulary dict to the appropriate place in the code at the beginning of the `lambda_handler` method. The cell below prints out the vocabulary dict in a way that is easy to copy and paste."
   ]
  },
  {
   "cell_type": "code",
   "execution_count": 53,
   "metadata": {},
   "outputs": [
    {
     "name": "stdout",
     "output_type": "stream",
     "text": [
      "{'other': 3135, 'than': 4420, 'some': 4061, 'neat': 2982, 'special': 4097, 'effects': 1431, 'this': 4457, 'movie': 2926, 'has': 2043, 'nothing': 3047, 'to': 4507, 'offer': 3087, 'they': 4442, 'threw': 4470, 'in': 2257, 'gore': 1941, 'and': 226, 'nudity': 3059, 'try': 4600, 'make': 2713, 'it': 2366, 'interesting': 2325, 'but': 636, 'with': 4911, 'no': 3020, 'success': 4265, 'kevin': 2457, 'acting': 99, 'was': 4805, 'pretty': 3384, 'good': 1937, 'he': 2056, 'couldnt': 1008, 'the': 4426, 'movies': 2927, 'lack': 2502, 'of': 3083, 'plot': 3309, 'when': 4862, 'first': 1736, 'came': 656, 'out': 3141, 'months': 2897, 'after': 143, 'tragedy': 4551, 'didnt': 1242, 'want': 4788, 'see': 3855, 'open': 3112, 'old': 3100, 'now': 3054, 'have': 2052, 'seen': 3865, 'thank': 4421, 'god': 1926, 'did': 1241, 'shows': 3960, 'you': 4986, 'all': 187, 'offered': 3088, 'me': 2778, 'can': 665, 'move': 2921, 'on': 3105, 'my': 2951, 'life': 2592, 'following': 1774, 'year': 4978, 'rocky': 3723, 'road': 3709, 'decided': 1149, 'do': 1302, 'just': 2437, 'one': 3107, 'last': 2521, 'super': 4295, 'installment': 2303, 'series': 3890, 'had': 2003, 'been': 438, 'several': 3905, 'times': 4497, 'thanks': 4423, 'not': 3040, 'having': 2054, 'numbers': 3061, 'that': 4424, 'would': 4957, 'as': 311, 'block': 508, 'tv': 4610, 'hour': 2176, 'always': 203, 'hard': 2033, 'core': 995, 'almost': 193, 'if': 2222, 'full': 1846, 'title': 4504, 'street': 4216, 'sort': 4077, 'mr': 2929, 'between': 475, 'too': 4522, 'big': 478, 'small': 4033, 'get': 1899, 'case': 707, 'ratings': 3530, 'over': 3148, 'during': 1387, 'friday': 1834, 'presented': 3376, 'best': 469, 'most': 2909, 'artistic': 308, 'dramas': 1347, 'there': 4438, 'ive': 2372, 'said': 3774, 'please': 3304, 'remember': 3616, 'we': 4823, 'mean': 2779, 'phony': 3256, 'pretentious': 3383, 'politically': 3325, 'correct': 1000, 'at': 331, 'sure': 4308, 'thing': 4450, 'end': 1468, 'line': 2610, 'for': 1784, 'episode': 1507, 'prepared': 3371, 'made': 2697, 'looking': 2648, 'past': 3207, 'seasons': 3844, 'regular': 3592, 'characters': 760, 'production': 3419, 'team': 4378, 'went': 4847, 'gave': 1875, 'us': 4690, 'what': 4858, 'proved': 3446, 'be': 418, 'send': 3875, 'off': 3084, 'our': 3139, 'story': 4207, 'join': 2412, 'find': 1726, 'unit': 4663, 'officer': 3092, 'al': 170, 'pulled': 3462, 'retired': 3664, 'from': 1840, 'job': 2405, 'is': 2360, 'isnt': 2362, 'ready': 3546, 'really': 3556, 'yet': 4984, 'so': 4046, 'instead': 2307, 'chair': 742, 'running': 3756, 'mayor': 2777, 'charm': 767, 'city': 825, 'while': 4868, 'making': 2718, 'stops': 4203, 'former': 1800, 'detective': 1220, 'takes': 4351, 'an': 223, 'bullet': 620, 'alive': 186, 'state': 4160, 'taken': 4350, 'hospital': 2172, 'news': 3005, 'quickly': 3491, 'weve': 4856, 'show': 3953, 'showing': 3958, 'up': 4683, 'their': 4431, 'great': 1964, 'meeting': 2794, 'these': 4441, 'present': 3374, 'pitch': 3279, 'follow': 1772, 'every': 1539, 'lead': 2545, 'possibility': 3349, 'producer': 3415, 'found': 1811, 'way': 4820, 'deal': 1135, 'those': 4460, 'who': 4871, 'died': 1244, 'previously': 3388, 'bringing': 586, 'memory': 2804, 'into': 2332, 'managed': 2723, 'answer': 251, 'long': 2644, 'standing': 4146, 'questions': 3489, 'even': 1533, 'introduced': 2337, 'here': 2086, 'ones': 3108, 'whole': 4873, 'winds': 4895, 'satisfying': 3791, 'original': 3129, 'least': 2554, 'well': 4843, 'leave': 2555, 'everything': 1544, 'little': 2624, 'surely': 4309, 'gets': 1900, 'must': 2950, 'give': 1912, 'or': 3124, 'matter': 2769, 'grade': 1951, 'score': 3822, 'high': 2100, 'typical': 4623, 'saw': 3798, 'theaters': 4428, 'about': 67, 'years': 4979, 'loved': 2670, 'then': 4436, 'recently': 3567, 'come': 886, 'own': 3158, 'vhs': 4725, 'version': 4720, 'children': 792, 'love': 2669, 'asking': 318, 'again': 146, 'watch': 4811, 'enjoyed': 1486, 'watching': 4815, 'though': 4461, 'admit': 122, 'older': 3101, 'know': 2489, 'think': 4452, 'songs': 4072, 'are': 285, 'very': 4723, 'cute': 1090, 'daughter': 1121, 'keeps': 2451, 'singing': 3995, 'them': 4432, 'hope': 2155, 'helps': 2082, 'lot': 2661, 'cash': 709, 'blair': 497, 'witch': 4909, 'film': 1716, 'more': 2904, 'sitcom': 4004, 'length': 2569, 'complexity': 924, 'however': 2183, 'because': 432, 'john': 2409, 'holmes': 2139, 'manages': 2725, 'hilarious': 2106, 'budget': 610, 'afford': 138, 'highlight': 2103, 'arthur': 305, 'sincere': 3991, 'bumbling': 622, 'his': 2118, 'quick': 3490, 'wit': 4908, 'ever': 1538, 'run': 3755, 'across': 96, 'quirky': 3493, 'laugh': 2529, 'two': 4620, 'rising': 3703, 'popularity': 3334, 'godzilla': 1929, 'like': 2599, 'any': 256, 'hit': 2122, 'cinema': 816, 'event': 1535, 'inevitably': 2283, 'going': 1931, 'crowd': 1067, 'trying': 4601, 'dawn': 1127, 'giant': 1905, 'monster': 2892, 'genre': 1888, 'many': 2732, 'few': 1700, 'only': 3110, 'could': 1007, 'fire': 1734, 'fly': 1763, 'by': 642, 'means': 2783, 'jet': 2400, 'unlike': 4670, 'friend': 1835, 'later': 2525, 'fighting': 1709, 'monsters': 2893, 'save': 3794, 'kids': 2467, 'thus': 4486, 'became': 431, 'popular': 3333, 'amongst': 218, 'unfortunately': 4654, 'thats': 4425, 'audience': 352, 'mainstream': 2709, 'will': 4886, 'appeal': 271, 'new': 3003, 'directed': 1259, 'marvelous': 2750, 'revolutionary': 3681, 'including': 2264, 'titled': 4505, 'japan': 2381, 'clearly': 840, 'produced': 3414, 'era': 1513, 'color': 877, 'films': 1721, 'shot': 3949, 'black': 493, 'white': 4870, 'why': 4878, '1950s': 14, 'also': 199, 'attacks': 339, 'attacked': 338, 'dont': 1324, 'much': 2934, 'japanese': 2382, 'am': 204, 'familiar': 1643, 'where': 4864, 'scenes': 3811, 'were': 4848, 'cut': 1089, 'footage': 1782, 'american': 213, 'actors': 104, 'same': 3778, 'happened': 2027, 'whether': 4866, 'adds': 119, 'away': 369, 'cannot': 670, 'say': 3799, 'bore': 540, 'along': 195, 'himself': 2111, 'routine': 3743, 'stock': 4193, 'science': 3816, 'fiction': 1702, 'standards': 4145, 'inane': 2258, 'real': 3547, 'civilization': 827, 'laughable': 2530, 'forth': 1804, 'ending': 1471, 'since': 3990, 'plan': 3287, 'eventually': 1537, 'completely': 922, 'ridiculous': 3693, 'rest': 3657, 'fit': 1740, 'description': 1197, 'although': 201, 'trilogy': 4586, '1990s': 25, 'attractive': 351, 'screen': 3829, 'presence': 3373, 'neither': 2996, 'scary': 3807, 'nor': 3032, 'sympathetic': 4342, 'around': 297, 'each': 1395, 'step': 4175, 'sets': 3899, 'usual': 4699, 'everybody': 1540, 'wants': 4791, 'destroy': 1213, 'except': 1556, 'kid': 2464, 'left': 2561, 'credits': 1050, 'plays': 3301, 'central': 735, 'role': 3726, 'thinks': 4454, 'nice': 3008, 'part': 3193, 'easy': 1410, 'criticism': 1063, 'subject': 4253, 'extra': 1606, 'company': 910, 'particularly': 3195, 'entry': 1504, 'far': 1653, 'experience': 1580, 'goes': 1930, 'either': 1438, 'boring': 543, 'worse': 4951, 'filmed': 1717, 'go': 1924, 'fight': 1707, 'hed': 2072, 'until': 4680, 'time': 4495, 'him': 2110, 'serious': 3891, 'its': 2370, 'usually': 4700, 'recommend': 3571, 'people': 3221, 'stick': 4185, 'pass': 3201, 'opposite': 3123, 'strongly': 4231, 'skip': 4016, 'unless': 4669, 'interested': 2324, 'inventive': 2341, 'exciting': 1563, 'above': 68, 'fun': 1848, 'boredom': 542, 'down': 1335, 'peoples': 3222, 'personal': 3240, 'opinion': 3118, 'day': 1129, 'anyone': 259, 'couple': 1016, 'brain': 562, 'total': 4531, 'rubbish': 3748, 'bad': 382, 'does': 1308, 'deserve': 1199, 'franchise': 1817, 'assume': 328, 'saying': 3800, 'how': 2181, 'friends': 1837, 'somebody': 4062, 'involved': 2346, 'career': 686, 'push': 3477, 'poor': 3328, 'con': 928, 'otherwise': 3137, 'storyline': 4208, 'weak': 4824, 'previous': 3387, 'script': 3834, 'likewise': 2603, 'attempts': 343, 'hide': 2097, 'originality': 3130, 'using': 4698, 'girl': 1909, 'wow': 4962, 'makers': 2715, 'sadly': 3769, 'complete': 921, 'scares': 3806, 'absolutely': 72, 'redeeming': 3577, 'qualities': 3483, 'utter': 4701, 'pair': 3176, 'mark': 2739, 'simply': 3986, 'someone': 4064, 'piece': 3272, 'crap': 1031, 'put': 3480, 'effort': 1432, 'actually': 109, 'shame': 3918, 'howard': 2182, 'campbell': 663, 'jr': 2423, 'played': 3297, 'nick': 3012, 'lives': 2628, 'happily': 2030, 'germany': 1898, 'actress': 105, 'wife': 4884, 'lee': 2559, 'before': 440, 'beginning': 443, 'world': 4946, 'war': 4792, 'ii': 2226, 'agent': 150, 'become': 433, 'spy': 4135, 'holds': 2131, 'lose': 2654, 'finds': 1728, 'death': 1141, 'york': 4985, 'which': 4867, 'further': 1853, 'question': 3487, 'indeed': 2271, 'frustrated': 1842, 'critics': 1064, 'kurt': 2499, 'source': 4086, 'novel': 3052, 'hero': 2088, 'director': 1264, 'gordon': 1940, 'screenwriter': 3833, 'robert': 3713, 'clues': 865, 'knowing': 2490, 'mother': 2911, 'night': 3013, 'fresh': 1833, 'throughout': 4478, 'portrays': 3344, 'intelligent': 2314, 'hes': 2093, 'scared': 3805, 'certain': 737, 'humanity': 2189, 'images': 2235, 'half': 2007, 'portrait': 3339, 'nazi': 2977, 'captures': 678, 'dramatic': 1348, 'side': 3965, 'lonely': 2643, 'apartment': 265, 'calls': 654, 'discovered': 1280, 'group': 1980, 'nazis': 2978, 'humor': 2192, 'purely': 3472, 'author': 359, 'provides': 3450, 'tension': 4404, 'unfolds': 4651, 'moral': 2902, 'spiritual': 4116, 'presents': 3377, 'doesnt': 1309, 'itself': 2371, 'simple': 3983, 'resolution': 3649, 'degree': 1164, 'should': 3951, 'staring': 4152, 'space': 4090, 'suggest': 4280, 'character': 758, 'whose': 4877, 'inner': 2292, 'wind': 4893, 'changes': 751, 'coming': 896, 'back': 378, 'america': 212, 'act': 97, 'point': 3316, 'image': 2233, 'wall': 4781, 'anti': 254, 'perhaps': 3235, 'reaction': 3541, 'sat': 3786, 'through': 4477, 'keep': 2449, 'attention': 345, 'bit': 488, 'awful': 372, 'cgi': 740, 'future': 1856, 'reference': 3582, 'industry': 2280, 'your': 4991, 'use': 4692, 'avoid': 363, 'apparently': 270, 'supposed': 4306, 'graphic': 1958, 'bears': 421, 'resemblance': 3645, 'whatsoever': 4861, 'quite': 3495, 'impressed': 2251, 'thought': 4462, 'casting': 711, 'confusing': 942, 'occasion': 3073, 'surprising': 4315, 'kept': 2456, 'honestly': 2147, 'wish': 4904, 'given': 1913, 'miss': 2866, 'aint': 163, 'middle': 2833, 'eastern': 1408, 'second': 3846, 'religion': 3607, 'closest': 857, 'sports': 4130, 'believe': 454, 'served': 3894, 'free': 1827, 'short': 3946, 'dreadful': 1353, 'used': 4693, 'innocent': 2294, 'whom': 4875, 'murdered': 2940, 'political': 3324, 'points': 3319, 'examples': 1554, 'ken': 2453, 'segment': 3867, 'sad': 3767, 'dude': 1381, 'country': 1014, 'got': 1944, 'victims': 4730, '2001': 31, 'right': 3696, 'whatever': 4859, 'trouble': 4592, 'listening': 2620, 'incoherent': 2265, 'english': 1483, 'accent': 78, 'disturbing': 1300, 'obvious': 3071, 'logic': 2638, 'murders': 2943, 'due': 1382, 'being': 448, 'americans': 214, 'power': 3359, 'responsible': 3656, 'actions': 101, 'decisions': 1152, 'east': 1407, 'guy': 2000, 'vote': 4766, 'majority': 2712, 'issues': 2365, 'behind': 447, 'reason': 3557, 'problems': 3409, 'kind': 2476, 'twin': 4615, 'office': 3091, 'workers': 4943, 'flight': 1757, 'politics': 3326, 'allowed': 190, 'everyone': 1542, 'choose': 799, 'fair': 1630, 'game': 1864, 'extreme': 1609, 'showed': 3956, 'another': 250, 'filmmaker': 1719, 'sometimes': 4067, 'joke': 2414, 'obviously': 3072, 'money': 2888, 'international': 2326, 'community': 908, 'poverty': 3357, 'blah': 496, 'trash': 4565, 'arms': 294, 'man': 2721, 'funniest': 1851, 'handled': 2019, 'enough': 1491, 'carter': 703, 'pre': 3365, 'military': 2844, 'family': 1645, 'patrick': 3213, 'soldier': 4053, 'enemy': 1477, 'town': 4541, 'colour': 880, 'energy': 1478, 'pace': 3161, 'cast': 710, 'still': 4188, 'hold': 2129, 'ground': 1979, 'parents': 3188, 'delightful': 1168, 'play': 3296, 'generally': 1881, 'happy': 2032, 'highly': 2105, 'recommended': 3572, 'bette': 471, 'davis': 1126, 'appalling': 268, 'totally': 4532, 'understand': 4643, 'realise': 3548, 'fine': 1729, 'dick': 1239, 'van': 4713, 'mary': 2751, 'load': 2631, 'london': 2641, 'remarkable': 3613, 'strange': 4211, 'accents': 79, 'exaggerated': 1552, 'styles': 4250, 'human': 2188, 'fascinating': 1658, 'despite': 1211, 'superficial': 4298, 'faults': 1669, 'viewed': 4737, 'perspective': 3245, 'technical': 4381, 'cultural': 1078, 'appreciated': 280, 'directing': 1260, 'camera': 659, 'allowing': 191, 'narrative': 2966, 'develop': 1222, 'rather': 3528, 'solely': 4056, 'via': 4726, 'stilted': 4190, 'dialogue': 1234, 'example': 1553, 'direction': 1261, 'scene': 3809, 'set': 3898, 'victoria': 4732, 'station': 4164, 'beautifully': 429, 'conceived': 929, 'edited': 1420, 'note': 3044, 'shots': 3950, 'mildred': 2841, 'towards': 4540, 'early': 1400, 'days': 1130, 'formulaic': 1803, 'studio': 4240, 'themes': 4434, 'compelling': 916, 'sexual': 3908, 'obsession': 3070, 'passion': 3205, 'self': 3869, 'manipulative': 2727, 'relationships': 3598, 'social': 4049, 'often': 3095, 'difficult': 1249, 'task': 4368, 'portraying': 3343, 'albeit': 173, 'low': 2676, 'key': 2458, 'emotional': 1459, 'uncomfortable': 4637, 'cliché': 844, 'aware': 368, 'both': 547, 'others': 3136, 'feelings': 1686, 'whilst': 4869, 'naive': 2958, 'style': 4249, 'reaches': 3538, 'complex': 923, 'heart': 2064, 'condition': 937, 'nature': 2975, 'occasionally': 3075, 'work': 4940, 'noticed': 3049, 'hollywood': 2137, 'witness': 4914, 'birth': 486, 'her': 2085, 'beauty': 430, 'charisma': 762, 'ms': 2931, 'grab': 1949, 'appearance': 274, 'definitely': 1162, 'memorable': 2802, 'performance': 3228, 'leslie': 2574, 'excellent': 1555, 'sensitive': 3879, 'student': 4238, 'philip': 3252, 'combination': 883, 'oh': 3096, 'help': 2079, 'terrible': 4407, 'female': 1693, 'nurse': 3063, 'named': 2961, 'anna': 245, 'caught': 722, 'wide': 4880, 'chaos': 755, 'flesh': 1753, 'eating': 1413, 'zombies': 4998, 'begin': 442, 'taking': 4352, 'living': 2629, 'she': 3923, 'escapes': 1519, 'streets': 4217, 'police': 3322, 'enjoy': 1484, 'horror': 2168, 'called': 652, 'thrilling': 4474, 'excitement': 1562, 'bunch': 623, 'able': 66, 'mall': 2720, 'heroes': 2089, 'locked': 2637, 'themselves': 4435, 'inside': 2297, 'eaten': 1412, 'outside': 3146, 'better': 472, 'seem': 3861, 'drunk': 1375, 'impression': 2252, 'mentally': 2809, 'spending': 4106, 'efforts': 1433, 'li': 2587, 'action': 100, 'intensity': 2317, 'purposes': 3475, 'result': 3660, 'may': 2775, 'take': 4349, 'guard': 1988, 'disbelief': 1277, 'feel': 1684, 'introduction': 2339, 'look': 2646, 'forward': 1808, 'masterpieces': 2760, 'especially': 1520, 'legend': 2564, 'market': 2740, 'mixture': 2878, 'physical': 3262, 'conflict': 939, 'satisfy': 3790, 'flick': 1754, 'chris': 806, 'took': 4523, 'care': 684, 'jack': 2373, 'type': 4621, 'list': 2617, 'psychological': 3458, 'characterization': 759, 'convincing': 985, 'results': 3662, 'mostly': 2910, 'stephen': 4176, 'playing': 3300, 'against': 147, 'donald': 1321, 'sutherland': 4333, 'empathy': 1462, 'parts': 3199, 'something': 4066, 'account': 89, 'history': 2121, 'supporting': 4304, 'max': 2774, 'von': 4765, 'carried': 698, 'photography': 3260, 'needless': 2989, 'fact': 1621, 'bound': 553, 'produce': 3413, 'frankly': 1823, 'depth': 1190, 'telling': 4396, 'forget': 1793, 'once': 3106, 'hbo': 2055, 'add': 115, 'never': 3001, 'hint': 2112, 'fred': 1825, 'ray': 3533, 'hey': 2095, 'might': 2835, 'boy': 557, 'wrong': 4973, 'worst': 4952, 'humour': 2194, 'non': 3027, 'existent': 1572, 'wouldnt': 4958, 'place': 3282, 'disney': 1289, 'wallace': 4782, 'stone': 4197, 'such': 4268, 'promising': 3433, '80s': 59, 'veteran': 4724, 'child': 789, 'actor': 103, 'unbelievable': 4634, 'havent': 2053, 'sequel': 3885, '1999': 27, 'blew': 505, 'rating': 3529, '10': 0, 'treats': 4575, 'art': 304, 'designed': 1203, 'century': 736, 'construction': 960, 'hardly': 2036, 'moves': 2925, 'apart': 264, 'camp': 662, 'musical': 2947, 'noise': 3024, 'minimum': 2856, 'barely': 399, 'word': 4937, 'spoken': 4126, 'curious': 1083, 'effective': 1429, 'device': 1227, 'forces': 1788, 'focus': 1766, 'visual': 4757, 'alone': 194, 'progresses': 3426, 'ourselves': 3140, 'becoming': 435, 'begins': 444, 'somewhere': 4069, 'began': 441, 'challenging': 744, 'minutes': 2859, 'dragged': 1343, 'mere': 2814, 'battle': 414, 'content': 966, 'doubt': 1332, 'obscure': 3068, 'western': 4853, 'audiences': 353, 'theres': 4440, 'abuse': 74, 'possibly': 3351, 'dead': 1132, 'woman': 4921, 'speak': 4094, 'subjects': 4254, 'men': 2805, 'women': 4923, 'manner': 2729, 'chooses': 800, 'effectively': 1430, 'course': 1019, 'explosion': 1596, 'available': 361, 'seek': 3858, 'reasons': 3560, 'finger': 1731, 'fast': 1661, 'button': 639, 'remote': 3622, 'sense': 3877, 'aspects': 322, 'ironically': 2356, 'happens': 2029, 'viewer': 4738, 'probably': 3407, 'third': 4455, 'genius': 1887, 'im': 2232, 'fake': 1635, 'watched': 4813, 'three': 4469, 'commentary': 899, 'myself': 2953, 'getting': 1901, 'annoyed': 248, 'close': 853, 'ups': 4686, 'blacks': 494, 'anything': 260, 'yes': 4982, 'priest': 3392, 'dies': 1245, 'peace': 3219, 'idiot': 2218, 'werent': 4849, 'peter': 3247, 'explained': 1587, 'book': 535, 'stomach': 4196, 'french': 1830, 'absurd': 73, 'beautiful': 428, 'deadly': 1133, 'dull': 1384, 'cuts': 1091, 'relevant': 3604, 'classic': 835, 'mind': 2849, 'reminds': 3620, 'clothes': 860, 'provoking': 3452, 'feeling': 1685, 'empty': 1465, 'overall': 3150, 'catholic': 720, 'corruption': 1002, 'young': 4989, 'triumph': 4590, 'pride': 3391, '90': 60, 'drag': 1342, 'dreary': 1356, 'window': 4894, 'thoughts': 4464, 'humble': 2191, 'plain': 3286, 'doing': 1312, 'impossible': 2249, 'view': 4736, 'read': 3543, 'text': 4419, 'slow': 4031, 'finished': 1733, 'wanted': 4789, 'chosen': 805, 'collection': 874, 'ways': 4822, 'merits': 2817, 'critical': 1062, 'entire': 1502, 'main': 2707, 'seemed': 3862, 'victim': 4729, 'fighter': 1708, 'truly': 4597, 'seeing': 3857, 'girls': 1911, 'sing': 3992, 'soundtrack': 4085, 'sight': 3969, 'disneys': 1290, 'sister': 4001, 'seems': 3864, 'ride': 3692, 'sisters': 4002, 'fame': 1642, 'displays': 1293, 'talent': 4354, 'finally': 1724, 'learn': 2550, 'late': 2523, 'rescue': 3643, 'train': 4556, 'wreck': 4965, 'prior': 3400, 'earlier': 1399, 'somewhat': 4068, 'disappointing': 1274, 'eyes': 1613, 'exactly': 1551, 'id': 2212, 'different': 1248, 'college': 875, 'bizarre': 492, 'wacky': 4769, 'attempt': 340, 'crime': 1055, 'hate': 2046, 'throws': 4482, 'weird': 4841, 'wonderful': 4928, 'ideas': 2215, 'pull': 3461, 'lab': 2501, 'crazy': 1035, 'scientist': 3818, 'kills': 2474, 'makes': 2716, 'attack': 337, 'mysterious': 2955, 'criminal': 1057, 'breaks': 571, 'common': 906, 'criminals': 1058, 'jail': 2376, 'carry': 700, 'suggests': 4282, 'nearby': 2980, 'monk': 2889, 'dressed': 1358, 'red': 3576, 'breaking': 570, 'affair': 135, 'knows': 2493, 'tongue': 4518, 'cheek': 779, 'sides': 3967, 'problem': 3408, 'things': 4451, 'nicely': 3009, 'atmosphere': 333, 'superb': 4296, 'scheme': 3812, 'display': 1291, 'based': 404, 'edgar': 1417, 'imagination': 2236, 'locations': 2636, 'killers': 2471, 'host': 2173, 'wild': 4885, 'exotic': 1574, 'animals': 240, 'serve': 3893, 'cant': 671, 'expect': 1575, 'conclusion': 936, 'fully': 1847, 'stuff': 4243, 'climax': 849, 'mystery': 2956, 'comes': 891, 'extremely': 1610, 'local': 2634, '1940s': 13, 'longer': 2645, 'exists': 1573, 'exist': 1569, 'row': 3744, 'appeared': 276, 'causing': 726, 'briefly': 580, 'solid': 4057, 'moving': 2928, 'bright': 581, 'valley': 4707, 'army': 295, 'format': 1799, 'imagine': 2238, 'home': 2142, 'recording': 3575, 'shown': 3959, 'recent': 3566, 'buffs': 612, 'area': 286, 'costs': 1004, 'without': 4913, 'value': 4709, 'none': 3028, 'horrible': 2163, 'call': 651, 'ghost': 1902, 'revenge': 3675, 'beyond': 476, 'grave': 1962, 'lame': 2510, 'watchable': 4812, 'ridden': 3691, 'intended': 2315, 'dire': 1257, 'british': 589, '1970s': 17, 'mediocre': 2791, 'star': 4150, 'names': 2963, 'cliff': 847, 'husband': 2204, 'jean': 2389, 'simmons': 3981, 'jenny': 2393, 'artist': 307, 'simon': 3982, 'ward': 4793, 'ron': 3734, 'moody': 2899, 'ill': 2228, 'doctor': 1304, 'michael': 2829, 'business': 633, 'partner': 3198, 'judy': 2426, 'david': 1124, 'reading': 3544, 'surprisingly': 4316, 'warner': 4799, 'sorry': 4076, 'ought': 3138, 'culture': 1079, 'rich': 3685, 'vague': 4705, 'cinematic': 818, 'movement': 2923, '20th': 38, 'france': 1816, 'tradition': 4549, 'clever': 841, 'philosophy': 3254, 'minute': 2858, 'hand': 2015, 'start': 4156, 'theme': 4433, 'lets': 2580, 'park': 3190, 'round': 3742, 'heads': 2059, 'la': 2500, 'security': 3854, 'aside': 315, 'school': 3813, 'bet': 470, 'neck': 2985, 'sentence': 3881, 'review': 3676, 'anyway': 261, 'literature': 2623, 'books': 536, 'maybe': 2776, 'guide': 1993, 'lyrics': 2692, 'doors': 1329, 'boat': 523, 'ironic': 2355, 'finest': 1730, 'meaningful': 2781, 'writers': 4969, 'lived': 2626, 'youre': 4992, 'nowhere': 3056, 'near': 2979, 'aids': 161, 'person': 3238, 'likes': 2602, 'masters': 2761, 'andy': 230, 'sake': 3775, 'contain': 962, 'nude': 3058, 'countryside': 1015, 'need': 2987, 'explanation': 1590, 'appear': 273, 'live': 2625, 'anywhere': 263, 'comment': 898, 'spoilers': 4124, 'yourself': 4993, 'proper': 3436, 'expected': 1577, 'failed': 1626, 'falls': 1640, 'teens': 4392, 'appreciate': 279, 'lines': 2612, 'meet': 2793, 'expectations': 1576, 'front': 1841, 'guess': 1989, 'worth': 4953, 'enormous': 1490, 'financial': 1725, 'nation': 2969, 'chose': 804, 'technically': 4382, 'ambitious': 211, 'date': 1118, 'risk': 3704, 'montage': 2894, 'form': 1798, 'known': 2492, 'keaton': 2448, 'ages': 152, 'parody': 3192, 'feature': 1678, 'acted': 98, 'episodes': 1508, 'separate': 3883, 'shorts': 3948, 'chaplin': 756, 'already': 197, 'succeeded': 4263, 'comedies': 889, 'done': 1322, 'appears': 278, 'wrestling': 4966, 'ancient': 225, 'references': 3583, 'turns': 4609, 'match': 2762, 'comical': 894, 'distance': 1294, 'furthermore': 1854, 'tribute': 4581, 'editing': 1421, 'structure': 4233, 'nonetheless': 3029, 'stories': 4205, 'arent': 288, 'told': 4513, 'post': 3352, 'leaves': 2556, 'blade': 495, 'destiny': 1212, 'der': 1191, 'mild': 2839, 'jumping': 2431, 'comedy': 890, 'unintentionally': 4659, 'failing': 1627, 'jump': 2429, 'buildings': 616, 'modern': 2882, 'convinced': 984, 'wasnt': 4807, 'baseball': 403, 'gag': 1861, 'dangerous': 1110, 'hello': 2078, 'jay': 2386, 'adaptation': 113, 'broadway': 592, 'thriller': 4472, 'wait': 4770, 'stage': 4139, 'putting': 3482, 'silver': 3977, 'producers': 3416, 'lengthy': 2570, 'opening': 3114, 'closing': 859, 'intimate': 2331, 'music': 2946, 'box': 555, 'theater': 4427, 'nearly': 2981, 'five': 1743, 'final': 1722, 'theatre': 4429, 'famous': 1647, 'cube': 1076, 'icon': 2211, 'dvd': 1391, 'release': 3602, 'location': 2635, 'finding': 1727, 'spooky': 4128, 'house': 2178, 'room': 3735, 'opened': 3113, 'innovative': 2295, 'sidney': 3968, 'lumet': 2688, 'material': 2766, 'onto': 3111, 'center': 732, 'major': 2711, 'slightly': 4029, 'player': 3298, 'finale': 1723, 'figure': 1711, 'desperate': 1208, 'theyre': 4445, 'buried': 624, 'snow': 4045, 'constantly': 958, 'background': 380, 'light': 2595, 'stays': 4169, 'constant': 957, 'stupid': 4247, 'survive': 4321, 'tries': 4585, 'create': 1036, 'helping': 2081, 'fix': 1744, 'negative': 2991, 'fox': 1814, 'wonderfully': 4929, 'lily': 2605, 'comfortable': 892, 'spoil': 4121, 'important': 2247, 'comments': 901, 'confused': 941, 'says': 3801, 'spoiler': 4123, 'son': 4070, 'shes': 3930, 'merely': 2815, 'painting': 3175, 'sit': 4003, 'idea': 2213, 'george': 1893, 'hoped': 2156, 'sell': 3871, 'norman': 3035, 'picture': 3269, 'combined': 885, 'number': 3060, 'silly': 3976, 'involving': 2349, 'comic': 893, 'mention': 2810, 'cameo': 657, 'sam': 3777, 'clark': 832, 'tale': 4353, 'married': 2744, 'pearl': 3220, 'learning': 2552, 'secretly': 3851, 'gay': 1876, 'homosexual': 2145, 'jokes': 2415, 'dignity': 1252, 'sheer': 3925, 'confusion': 943, 'performers': 3232, 'huge': 2185, 'fan': 1648, 'cusack': 1088, 'jackson': 2375, 'tony': 4521, 'less': 2575, 'fond': 1776, 'king': 2479, 'possible': 3350, 'walked': 4776, 'eager': 1396, 'disappointed': 1273, 'fault': 1668, 'roles': 3727, 'premise': 3370, 'puts': 3481, 'scenario': 3808, 'mess': 2818, 'moments': 2887, 'painful': 3171, 'unfortunate': 4653, 'continuity': 972, 'father': 1666, 'connection': 946, 'displayed': 1292, 'described': 1195, 'argument': 291, 'agree': 155, 'gives': 1914, 'chance': 747, 'jumps': 2432, 'surrounded': 4318, 'age': 148, 'summer': 4291, 'jason': 2383, 'lake': 2509, 'experiences': 1582, 'creepy': 1052, 'kings': 2481, 'name': 2960, 'attached': 336, 'mentioned': 2811, 'evil': 1548, 'moment': 2886, 'cable': 644, 'minded': 2850, 'paying': 3217, 'paid': 3169, 'pig': 3274, 'sick': 3963, 'dark': 1115, 'devils': 1229, 'experiment': 1583, 'filming': 1718, 'methods': 2825, 'torture': 4529, 'violence': 4747, 'values': 4710, 'remotely': 3623, 'disgusting': 1286, 'certainly': 738, 'entertainment': 1500, 'taste': 4369, 'whenever': 4863, 'kicked': 2461, 'beaten': 424, 'raw': 3532, 'meat': 2787, 'hanging': 2023, 'woods': 4935, 'sounds': 4084, 'viewing': 4740, 'poetry': 3314, 'works': 4945, '1930s': 11, 'under': 4639, 'paris': 3189, 'silent': 3975, 'fantastic': 1651, 'masterpiece': 2759, 'cinematography': 820, 'writing': 4971, 'perfectly': 3226, 'expert': 1585, 'subtle': 4260, 'appearances': 275, 'lights': 2597, 'horses': 2171, 'thankfully': 4422, 'odd': 3080, 'reminiscent': 3621, 'russian': 3762, 'flaw': 1749, 'desperately': 1209, 'belongs': 460, 'guilty': 1995, 'pleasure': 3306, 'mst3k': 2932, 'regret': 3591, 'wasting': 4810, 'hours': 2177, 'precious': 3366, 'tell': 4395, 'asked': 317, 'knew': 2486, 'careers': 687, 'walking': 4779, 'tall': 4362, 'buck': 605, 'prisoners': 3403, 'wooden': 4934, 'horse': 2170, 'suspenseful': 4331, 'poorly': 3329, 'events': 1536, 'thrill': 4471, 'tells': 4397, 'edge': 1418, 'latter': 2528, 'cat': 713, 'mouse': 2919, 'chase': 769, 'talk': 4358, 'wasted': 4809, 'potential': 3355, 'brilliant': 583, 'steven': 4182, 'spielberg': 4110, 'directs': 1267, 'exception': 1557, 'glad': 1916, 'nine': 3017, 'million': 2847, 'dollars': 1315, 'animation': 242, 'clear': 839, 'unusual': 4681, 'animated': 241, 'professor': 3422, 'drama': 1346, '1960s': 15, 'perfect': 3224, 'category': 718, 'deep': 1154, 'funny': 1852, 'laughing': 2533, 'hearted': 2065, 'forced': 1787, 'together': 4511, 'situation': 4008, 'face': 1616, 'fell': 1690, 'reveal': 3670, 'marriage': 2743, 'felix': 1689, 'oscar': 3133, 'walter': 4784, 'matthau': 2771, 'versus': 4722, 'divorce': 1301, 'francis': 1818, 'suicide': 4283, 'buddies': 608, 'hang': 2022, 'member': 2800, 'club': 863, 'whats': 4860, 'happening': 2028, 'inept': 2281, 'figures': 1713, 'let': 2579, 'wear': 4830, 'lucky': 2683, 'whos': 4876, 'serving': 3897, 'cheese': 780, 'pieces': 3273, 'throwing': 4480, 'bag': 384, 'table': 4346, 'enjoys': 1489, 'altogether': 202, 'joy': 2422, 'ex': 1549, 'spend': 4105, 'evening': 1534, 'cutting': 1092, 'stand': 4143, 'endearing': 1469, 'health': 2060, 'public': 3460, 'places': 3284, 'ultimately': 4628, 'overly': 3155, 'convince': 983, 'wedding': 4836, 'ring': 3698, 'friendship': 1838, 'becomes': 434, 'relationship': 3597, 'occurs': 3078, 'comedic': 888, 'tragic': 4552, 'written': 4972, 'missed': 2867, 'performances': 3229, 'else': 1448, 'caliber': 649, 'lacking': 2504, 'today': 4508, 'sweet': 4336, 'guys': 2001, 'ya': 4976, 'burn': 625, 'ice': 2210, 'ok': 3098, 'melting': 2799, 'mad': 2696, 'suddenly': 4273, 'order': 3126, 'eat': 1411, 'starts': 4159, 'next': 3007, 'fall': 1637, 'asleep': 320, 'cool': 989, 'gross': 1978, 'makeup': 2717, 'driven': 1365, 'fashion': 1659, 'killer': 2470, 'shark': 3921, 'sudden': 4272, 'sea': 3838, 'lover': 2672, 'hell': 2077, 'cop': 991, 'fx': 1858, 'blockbuster': 509, 'upon': 4684, 'don': 1320, 'stop': 4201, 'struck': 4232, 'television': 4394, 'ad': 110, 'expression': 1602, 'scream': 3826, 'saving': 3797, 'include': 2261, 'skill': 4013, 'wood': 4933, 'released': 3603, '1996': 26, 'rushed': 3760, 'leads': 2548, 'tie': 4488, 'hype': 2207, 'surrounding': 4319, 'weeks': 4839, 'alright': 198, 'ben': 463, 'stiller': 4189, 'website': 4834, 'larger': 2519, 'gotten': 1947, 'giving': 1915, 'persons': 3244, 'useless': 4695, 'meant': 2784, 'philosophical': 3253, 'hollow': 2135, 'copy': 994, 'matrix': 2767, 'plenty': 3307, 'clichés': 846, 'lone': 2642, 'wolf': 4920, 'disturbed': 1299, 'sleeping': 4025, 'gun': 1996, 'worker': 4942, 'shy': 3962, 'robot': 3717, 'terribly': 4408, 'advertising': 132, 'etc': 1527, 'stinks': 4192, 'tend': 4400, 'spot': 4131, '30': 42, 'spare': 4093, 'program': 3424, 'consider': 949, 'air': 164, 'similarities': 3979, 'adequate': 120, 'incredible': 2269, 'likable': 2598, 'roy': 3745, 'liked': 2600, 'lots': 2662, 'mission': 2870, 'hill': 2108, 'appreciation': 281, 'deserved': 1200, 'murder': 2939, 'sex': 3907, 'uk': 4626, 'tiresome': 4502, 'society': 4050, 'single': 3996, 'surprised': 4313, 'crude': 1069, 'drawn': 1351, 'south': 4087, 'nightmare': 3014, 'class': 833, 'families': 1644, 'hideous': 2098, 'teeth': 4393, 'large': 2517, 'mouth': 2920, 'hole': 2132, 'horrendous': 2162, 'creatures': 1046, 'terror': 4412, 'equally': 1510, 'lynch': 2691, 'ie': 2221, 'general': 1880, 'loud': 2664, 'bits': 490, 'opposed': 3122, 'facial': 1619, 'expressions': 1603, 'straight': 4210, 'wave': 4818, 'ultra': 4629, 'adding': 117, 'elements': 1443, 'vicious': 4728, 'cartoon': 704, 'blend': 504, 'fans': 1650, 'indian': 2274, 'directors': 1266, 'tough': 4537, '11': 2, 'defend': 1158, 'village': 4743, 'idiots': 2220, 'foreign': 1790, 'return': 3665, 'drinking': 1362, 'endless': 1473, 'alas': 172, 'tight': 4492, 'walk': 4775, 'split': 4120, 'fights': 1710, 'bollywood': 530, 'leading': 2547, 'handsome': 2021, 'connect': 944, 'head': 2057, 'words': 4938, 'considered': 951, 'violent': 4748, 'male': 2719, 'convey': 982, 'anger': 235, 'loyal': 2679, 'laughter': 2535, 'satire': 3788, 'thrown': 4481, 'meanwhile': 2785, 'authentic': 358, 'rural': 3758, 'india': 2273, 'essential': 1522, 'depicted': 1183, 'storytelling': 4209, 'song': 4071, 'dances': 1106, 'wont': 4932, 'true': 4596, 'faster': 1662, 'guessed': 1990, 'twins': 4616, 'switch': 4339, 'predictable': 3367, 're': 3535, 'runs': 3757, 'parent': 3187, 'trap': 4563, 'entertaining': 1499, 'respect': 3652, 'alex': 179, 'cox': 1026, 'punk': 3468, 'feet': 1688, 'westerns': 4854, 'capable': 672, 'sid': 3964, 'nancy': 2964, 'walker': 4778, 'arguably': 289, 'hat': 2045, 'approach': 282, 'oddly': 3081, 'voice': 4761, 'leaving': 2557, 'blood': 512, 'walls': 4783, 'messages': 2820, 'according': 88, 'christopher': 811, 'shallow': 3917, 'changing': 752, 'religious': 3608, 'map': 2733, 'looks': 2649, 'flash': 1745, 'sitting': 4007, 'speaking': 4095, 'creativity': 1042, 'interest': 2323, 'scope': 3821, 'lost': 2660, 'followed': 1773, 'among': 217, 'delight': 1167, 'beat': 423, 'seat': 3845, 'goofy': 1939, 'dialog': 1232, 'contains': 964, 'intention': 2319, 'engaged': 1480, 'mildly': 2840, 'building': 615, 'amusing': 221, 'started': 4157, 'spectacular': 4101, 'section': 3853, 'twist': 4617, 'minds': 2852, 'touches': 4535, 'conventional': 979, 'cross': 1066, 'dressing': 1359, 'heights': 2073, 'sharp': 3922, 'statement': 4162, 'bring': 585, 'touch': 4533, 'foot': 1781, 'pain': 3170, 'ultimate': 4627, 'disappointment': 1275, 'trip': 4588, 'stylish': 4251, 'terms': 4406, 'tied': 4489, 'tedious': 4387, 'engage': 1479, 'youd': 4987, 'impressive': 2253, 'spanish': 4092, 'judge': 2424, 'melodramatic': 2798, 'rat': 3525, 'pack': 3165, 'frank': 1821, 'sinatra': 3989, 'band': 391, 'reviewer': 3677, 'dog': 1310, 'symbolism': 4341, 'realism': 3549, 'pity': 3281, 'weakest': 4825, 'strong': 4229, 'slick': 4026, 'jeff': 2390, 'variety': 4714, 'stay': 4166, 'gabriel': 1859, 'richard': 3686, 'ball': 388, 'settings': 3901, 'motion': 2913, 'steps': 4177, 'alice': 182, 'ask': 316, 'monkey': 2890, 'prize': 3405, 'winning': 4898, 'falling': 1639, 'extraordinary': 1607, 'magnificent': 2705, 'particular': 3194, 'pick': 3265, 'mainly': 2708, 'excuse': 1564, 'award': 366, 'portrayal': 3341, 'lincoln': 2608, 'henry': 2084, 'fonda': 1777, 'wise': 4903, 'smart': 4035, 'ass': 323, 'law': 2538, 'court': 1020, 'cousin': 1021, 'ford': 1789, 'talks': 4361, 'seriously': 3892, 'dreams': 1355, 'vivid': 4760, 'historically': 2120, 'accurate': 90, 'shake': 3914, 'board': 522, 'brian': 576, 'sophisticated': 4075, 'writer': 4968, 'field': 1704, 'research': 3644, 'serial': 3889, 'girlfriend': 1910, 'carrie': 697, 'michelle': 2830, 'tour': 4538, 'share': 3920, 'travel': 4567, 'brad': 560, 'pitt': 3280, 'lewis': 2586, 'behave': 445, 'california': 650, 'warm': 4794, 'cold': 872, 'explains': 1589, 'continues': 971, 'buy': 640, 'trees': 4577, 'speed': 4103, 'limits': 2607, 'hear': 2061, 'rent': 3626, 'mental': 2808, 'four': 1812, 'west': 4852, 'enter': 1494, 'desert': 1198, 'landscape': 2513, 'everyones': 1543, 'uneven': 4649, 'flat': 1748, 'overacting': 3149, 'choice': 797, 'heavy': 2070, 'duty': 1390, 'southern': 4088, 'stunning': 4244, 'toward': 4539, 'twilight': 4614, 'zone': 4999, 'nuclear': 3057, 'test': 4416, 'site': 4005, 'unnecessary': 4672, 'concept': 930, 'scenery': 3810, 'normally': 3034, 'indie': 2276, 'realistic': 3550, 'setting': 3900, 'needed': 2988, 'development': 1225, 'dimensional': 1253, 'bill': 481, 'aka': 168, 'stopped': 4202, 'delivery': 1173, 'personality': 3242, 'supposedly': 4307, '70s': 56, 'feels': 1687, 'understandable': 4644, 'lighting': 2596, 'awkward': 374, 'provide': 3448, 'gritty': 1977, 'jazz': 2387, 'largely': 2518, 'lit': 2621, 'thinking': 4453, 'race': 3499, 'identity': 2217, 'strangely': 4212, 'project': 3427, 'eerie': 1427, 'documentary': 1307, 'rare': 3523, 'sequels': 3886, 'planet': 3289, 'bleak': 503, 'closely': 855, 'consequences': 947, 'global': 1920, 'warming': 4795, 'simplistic': 3985, 'issue': 2364, 'easily': 1406, 'remains': 3611, 'scientists': 3819, 'remake': 3612, 'truth': 4599, 'worlds': 4947, 'proves': 3447, '2007': 37, 'cities': 823, 'treasure': 4571, 'earth': 1403, 'kim': 2475, 'prefer': 3368, 'coherent': 871, 'emotions': 1461, 'prostitute': 3440, 'despair': 1207, 'failure': 1629, 'immediately': 2242, 'surviving': 4323, 'vulnerable': 4768, 'method': 2824, 'keeping': 2450, 'body': 527, 'soul': 4079, 'advantage': 129, 'passionate': 3206, 'attitude': 346, 'imdb': 2240, 'slowly': 4032, 'youve': 4995, 'constructed': 959, 'seeks': 3860, 'gold': 1932, 'de': 1131, 'position': 3345, 'needs': 2990, 'basically': 407, 'lady': 2507, 'greed': 1968, 'grown': 1984, 'knock': 2488, 'sticks': 4186, 'afraid': 140, 'unintentional': 4658, 'therefore': 4439, 'visit': 4755, 'jerry': 2396, 'seven': 3903, 'waste': 4808, 'daily': 1097, 'youll': 4988, 'husbands': 2205, 'molly': 2884, 'trailer': 4554, 'mom': 2885, 'earl': 1398, 'trashy': 4566, 'performing': 3233, 'virtually': 4751, 'contact': 961, 'staff': 4138, 'morning': 2906, 'bar': 396, 'sent': 3880, 'fathers': 1667, 'academy': 77, 'tone': 4517, 'describe': 1194, 'brilliantly': 584, 'teen': 4388, 'lust': 2689, 'folks': 1771, 'magazine': 2701, 'serves': 3895, 'formula': 1802, '14': 6, 'greatest': 1966, 'enthusiasm': 1501, 'advance': 127, 'screening': 3830, 'tales': 4357, 'epic': 1506, 'turned': 4606, 'soap': 4047, 'opera': 3116, 'faithful': 1634, 'service': 3896, 'battles': 415, 'powers': 3361, 'lovers': 2673, 'poem': 3312, 'turn': 4605, 'beach': 419, 'warrior': 4802, 'decent': 1147, 'stole': 4194, 'sean': 3840, 'pathetic': 3210, 'compare': 911, 'ladies': 2506, 'pay': 3216, 'gonna': 1936, 'die': 1243, 'secrets': 3852, 'literally': 2622, 'week': 4837, 'calm': 655, 'jungle': 2434, 'island': 2361, 'deaths': 1142, 'forgot': 1796, 'bed': 436, 'semi': 3874, 'amanda': 205, 'somehow': 4063, 'romance': 3732, 'dated': 1119, 'overrated': 3156, 'unique': 4662, 'truck': 4595, 'driver': 1366, 'strip': 4228, 'compared': 912, 'blues': 519, 'viewers': 4739, 'corner': 996, 'idiotic': 2219, 'difference': 1246, 'dream': 1354, 'sequence': 3887, 'tired': 4501, 'prisoner': 3402, 'models': 2881, 'plastic': 3294, 'faces': 1618, 'flynn': 1765, 'faced': 1617, 'madonna': 2699, 'understood': 4647, 'spell': 4104, 'lacks': 2505, 'bland': 500, 'polished': 3323, 'force': 1786, 'reputation': 3640, 'elephant': 1444, 'sub': 4252, 'par': 3184, 'relatively': 3600, 'base': 402, 'eye': 1611, 'badly': 383, 'water': 4816, 'closer': 856, 'intellectual': 2312, 'laura': 2536, 'killed': 2469, 'dad': 1095, 'obsessed': 3069, 'devil': 1228, 'nonsense': 3030, 'working': 4944, 'terrific': 4409, 'check': 777, 'cases': 708, 'deliver': 1169, 'listed': 2618, 'chick': 786, 'lifetime': 2594, 'network': 3000, 'halfway': 2008, 'sally': 3776, 'looked': 2647, '15': 7, 'stars': 4155, 'filmmakers': 1720, 'considering': 952, 'tiny': 4500, 'reality': 3551, 'sends': 3876, 'danger': 1109, 'kill': 2468, 'survivor': 4324, 'wins': 4899, 'fortune': 1806, 'cheesy': 781, 'top': 4525, 'types': 4622, 'actual': 108, 'follows': 1775, 'starting': 4158, 'soon': 4074, 'grinch': 1975, 'jim': 2402, 'carrey': 696, '13': 4, 'props': 3439, 'amazing': 209, 'brought': 600, 'childhood': 790, 'christmas': 810, 'change': 749, 'lou': 2663, 'adorable': 124, 'taylor': 4372, 'meets': 2795, 'break': 569, 'laughs': 2534, 'season': 3843, 'players': 3299, 'specifically': 4100, 'ends': 1474, 'dirty': 1268, 'amount': 219, 'tears': 4380, 'suffering': 4277, 'heavily': 2069, 'reduced': 3579, 'cares': 690, 'wonder': 4926, 'win': 4892, 'maintain': 2710, 'fellow': 1691, 'beings': 449, 'broken': 594, 'rules': 3754, 'flawless': 1751, 'realizing': 3555, 'tricks': 4583, 'deeper': 1155, 'mafia': 2700, 'generations': 1884, 'happen': 2026, 'mob': 2879, 'mix': 2876, 'ingredients': 2289, 'atlantis': 332, 'empire': 1464, 'wore': 4939, 'liking': 2604, 'believes': 456, 'grandfather': 1954, 'adventure': 130, 'trust': 4598, 'rate': 3526, 'sound': 4081, 'drives': 1367, 'garbage': 1870, 'sadness': 3770, 'holding': 2130, 'waiting': 4772, 'mixed': 2877, 'visually': 4758, 'remaining': 3610, 'six': 4010, 'painted': 3174, 'striking': 4226, 'projects': 3428, 'warned': 4798, 'normal': 3033, 'blame': 499, 'multi': 2935, 'price': 3389, 'rental': 3627, 'magical': 2704, 'car': 680, 'touching': 4536, 'shine': 3931, 'associated': 327, 'samurai': 3779, 'intriguing': 2335, 'master': 2757, 'higher': 2101, 'lion': 2614, 'theatrical': 4430, 'highest': 2102, 'quality': 3484, 'direct': 1258, 'video': 4733, 'tracks': 4545, 'frequent': 1831, 'tense': 4403, 'commercial': 902, 'pops': 3332, 'realizes': 3554, 'greatly': 1967, 'bothered': 549, 'deliberately': 1166, 'remind': 3618, 'cup': 1080, 'tea': 4373, 'theyve': 4446, 'independent': 2272, 'uses': 4697, 'talents': 4356, 'performed': 3230, 'simpson': 3987, 'heard': 2062, 'julie': 2428, 'recognized': 3570, 'repetitive': 3633, 'realize': 3552, 'dig': 1250, 'choreographed': 801, 'tune': 4602, 'chased': 770, 'stretched': 4222, 'credibility': 1047, 'handle': 2018, 'emotionally': 1460, 'bonus': 534, 'features': 1680, 'disc': 1278, 'willing': 4889, 'drops': 1372, 'credit': 1049, 'nicholas': 3010, 'cage': 645, 'fairly': 1631, 'range': 3516, 'detail': 1217, 'allow': 189, 'sold': 4052, 'aspect': 321, 'medium': 2792, 'requires': 3642, 'multiple': 2936, 'charming': 768, 'maggie': 2702, 'smith': 4038, 'appearing': 277, '1968': 16, 'gem': 1877, '25': 40, 'ago': 154, '16': 8, 'utterly': 4702, 'card': 681, 'frame': 1815, 'concerned': 932, 'loving': 2675, 'asks': 319, 'honest': 2146, 'witty': 4917, 'villain': 4744, 'answers': 252, 'secretary': 3850, 'seeking': 3859, 'claimed': 829, 'deals': 1137, 'practically': 3362, 'manhattan': 2726, 'lemmon': 2567, 'bother': 548, 'magic': 2703, 'mexico': 2827, 'aunt': 355, 'witches': 4910, 'besides': 468, 'stewart': 4184, 'romantic': 3733, 'endings': 1472, 'rose': 3739, 'charlie': 765, 'african': 142, 'queen': 3485, 'adults': 126, 'ten': 4399, 'holy': 2140, 'reasonable': 3558, 'basic': 406, 'level': 2584, 'resources': 3651, 'execution': 1566, 'halloween': 2010, 'haunted': 2050, 'boys': 559, 'devoted': 1231, 'outrageous': 3145, 'lesbian': 2573, 'subplot': 4255, 'essentially': 1523, 'track': 4544, 'atrocious': 335, 'lazy': 2543, 'amateur': 206, 'channel': 753, 'productions': 3420, 'felt': 1692, 'realized': 3553, 'producing': 3417, 'throw': 4479, 'sequences': 3888, 'crying': 1074, 'write': 4967, 'disaster': 1276, 'kinds': 2478, 'kenneth': 2455, 'mel': 2796, 'hands': 2020, 'dubbed': 1379, 'german': 1896, 'william': 4887, 'staged': 4140, 'mike': 2838, 'robots': 3718, 'shakespeare': 3915, 'wisdom': 4902, 'germans': 1897, 'bergman': 466, 'favorite': 1671, 'party': 3200, 'department': 1182, 'store': 4204, 'paul': 3214, 'gotta': 1946, 'double': 1331, 'instance': 2304, 'hamlet': 2013, 'naturally': 2974, 'prince': 3396, 'heaven': 2068, 'rock': 3720, 'situations': 4009, '3000': 43, 'moronic': 2907, 'expecting': 1578, 'talented': 4355, 'rented': 3628, 'admire': 121, 'gary': 1873, 'kick': 2460, 'centered': 733, 'moved': 2922, 'fabulous': 1615, 'favorites': 1672, 'losing': 2658, 'starring': 4154, 'awesome': 371, 'directorial': 1265, 'debut': 1143, 'aliens': 184, 'believable': 453, 'gang': 1867, 'teachers': 4376, 'roll': 3728, 'ramones': 3512, 'record': 3573, 'changed': 750, 'pie': 3271, 'replaced': 3634, 'nobody': 3022, 'hurt': 2202, 'promises': 3432, 'fits': 1741, 'creates': 1038, 'kelly': 2452, 'greek': 1970, 'stanley': 4148, 'outstanding': 3147, 'dutch': 1389, 'contrast': 975, 'drug': 1373, 'string': 4227, 'albert': 174, 'charles': 764, 'troubles': 4594, 'hot': 2174, 'okay': 3099, 'manager': 2724, 'discover': 1279, 'stealing': 4171, 'attempting': 342, 'solve': 4060, 'brother': 598, 'loser': 2655, 'steal': 4170, 'thousand': 4465, 'theyll': 4444, 'desperation': 1210, 'brothers': 599, 'individual': 2277, 'motivations': 2915, 'doubts': 1333, 'selfish': 3870, 'influence': 2286, 'turning': 4608, 'hank': 2024, 'resist': 3648, 'wishes': 4906, 'hundreds': 2196, 'support': 4303, 'confidence': 938, 'haunting': 2051, 'climactic': 848, 'details': 1219, 'impact': 2244, 'emotion': 1458, 'brutal': 603, 'teenage': 4389, 'titanic': 4503, 'conspiracy': 956, 'ship': 3934, 'naked': 2959, 'corny': 997, 'junk': 2436, 'cry': 1073, 'pool': 3327, 'ocean': 3079, 'streep': 4215, 'media': 2789, 'treated': 4573, 'lifestyle': 2593, 'suspect': 4327, 'dogs': 1311, 'beliefs': 452, 'treat': 4572, 'baby': 376, 'humorous': 2193, 'web': 4833, 'clothing': 861, 'within': 4912, 'killing': 2472, 'womans': 4922, 'affect': 136, 'assumed': 329, 'executive': 1567, 'decision': 1151, 'term': 4405, 'insult': 2309, 'attend': 344, 'classes': 834, 'build': 614, 'hasnt': 2044, 'eg': 1434, 'gas': 1874, 'dropped': 1370, 'bottom': 551, 'fill': 1714, 'mothers': 2912, 'wound': 4960, 'period': 3236, 'grew': 1972, 'remembered': 3617, 'opens': 3115, 'loves': 2674, 'vs': 4767, 'sees': 3866, 'personally': 3243, 'speech': 4102, 'em': 1452, 'yeah': 4977, 'ruins': 3752, 'effect': 1428, 'explaining': 1588, 'versions': 4721, 'alternate': 200, 'link': 2613, 'regarding': 3589, 'mentioning': 2812, 'european': 1530, 'creative': 1041, 'enjoyment': 1488, 'perform': 3227, 'nevertheless': 3002, 'ed': 1415, 'sullivan': 4288, 'arrival': 299, 'door': 1328, 'reviews': 3679, 'remarkably': 3614, 'annoying': 249, 'obnoxious': 3067, 'riveting': 3708, 'misses': 2868, 'fails': 1628, 'draw': 1349, 'involve': 2345, 'generation': 1883, 'bored': 541, 'entirely': 1503, 'erotic': 1515, 'hopes': 2159, 'discovery': 1282, 'fear': 1676, 'secret': 3849, 'unexpected': 4650, 'downright': 1337, 'deserves': 1201, 'received': 3564, 'intense': 2316, 'mid': 2832, 'teenagers': 4391, '60s': 54, 'explore': 1594, 'adult': 125, 'sexuality': 3909, 'ahead': 159, 'poetic': 3313, 'identify': 2216, 'branagh': 564, 'brave': 567, 'spain': 4091, 'blowing': 515, 'boyfriend': 558, 'singer': 3993, 'demons': 1178, 'returns': 3668, 'finish': 1732, 'album': 175, 'souls': 4080, 'members': 2801, 'returning': 3667, 'lousy': 2667, 'cheap': 774, 'plans': 3292, 'headed': 2058, 'cary': 706, 'grant': 1956, 'evident': 1547, 'damn': 1100, 'met': 2822, 'handed': 2016, 'melodrama': 2797, 'relative': 3599, 'parker': 3191, 'frequently': 1832, 'wholly': 4874, 'pointless': 3318, 'drags': 1345, 'breath': 573, 'proceedings': 3410, 'levels': 2585, 'excited': 1561, 'remain': 3609, 'favourite': 1673, 'rolled': 3729, 'wondering': 4930, 'sings': 3997, 'everywhere': 1545, 'quote': 3496, 'craig': 1030, 'cure': 1081, 'mood': 2898, 'amazingly': 210, 'worked': 4941, 'suspense': 4330, 'lovely': 2671, 'reflect': 3584, '35': 45, 'imaginative': 2237, 'flying': 1764, 'picked': 3266, 'angela': 232, 'suited': 4286, 'shines': 3932, 'forgotten': 1797, 'nowadays': 3055, 'slapstick': 4019, 'deceased': 1146, 'shoes': 3941, 'justice': 2438, 'dancing': 1107, 'capture': 676, 'reminded': 3619, 'heat': 2067, 'exact': 1550, 'behavior': 446, 'glenn': 1918, 'chases': 771, 'bloody': 513, 'lately': 2524, 'circumstances': 822, 'safe': 3771, 'escape': 1517, 'gone': 1935, 'introduces': 2338, 'fantasy': 1652, 'inspired': 2301, 'pages': 3168, 'surreal': 4317, 'developed': 1223, 'surprise': 4312, 'quest': 3486, 'actresses': 106, 'costumes': 1006, 'castle': 712, 'imitation': 2241, 'explicit': 1591, 'soft': 4051, 'absolute': 71, 'classics': 837, 'slight': 4027, 'minor': 2857, 'shortly': 3947, 'stands': 4147, 'profound': 3423, 'meaning': 2780, 'message': 2819, 'knowledge': 2491, 'providing': 3451, 'thoroughly': 4459, 'commented': 900, 'achieve': 92, 'hits': 2125, 'target': 4366, 'pro': 3406, 'featuring': 1681, 'hunters': 2200, 'government': 1948, 'punishment': 3467, 'dozen': 1338, 'arnold': 296, 'richards': 3687, 'liners': 2611, 'hyde': 2206, 'brown': 601, 'laid': 2508, 'boss': 546, 'cops': 993, 'jackie': 2374, 'eric': 1514, 'donna': 1323, 'ah': 158, 'basement': 405, 'tons': 4520, 'struggles': 4235, 'angry': 238, 'demented': 1176, 'harris': 2038, 'whale': 4857, 'charlotte': 766, 'listen': 2619, 'mirror': 2861, 'bo': 521, 'derek': 1192, 'crew': 1053, 'unpleasant': 4674, 'fare': 1655, 'achievement': 94, 'balance': 387, 'spent': 4108, 'buff': 611, 'object': 3066, 'breasts': 572, 'pursuit': 3476, 'brings': 587, 'suspects': 4328, 'offended': 3085, 'gorgeous': 1942, 'wannabe': 4787, 'successful': 4266, 'land': 2511, 'ted': 4386, 'surprises': 4314, 'spirits': 4115, 'grace': 1950, 'inevitable': 2282, 'omen': 3104, 'standard': 4144, 'eyed': 1612, 'susan': 4326, 'piano': 3264, 'decide': 1148, 'smile': 4036, 'tree': 4576, 'mechanical': 2788, 'stolen': 4195, 'legendary': 2565, 'daughters': 1122, 'daddy': 1096, 'laurel': 2537, 'hardy': 2037, 'captain': 674, 'wwii': 4975, 'current': 1084, 'alan': 171, 'co': 867, 'ann': 244, 'ian': 2209, 'handful': 2017, 'pacing': 3163, 'shelf': 3926, 'praise': 3364, 'louis': 2665, 'passing': 3204, 'worry': 4950, 'concerning': 933, 'miracle': 2860, 'faith': 1633, 'friendly': 1836, 'notion': 3050, 'raised': 3508, 'respected': 3653, 'overlooked': 3154, 'jonathan': 2417, 'james': 2378, 'baker': 385, 'jeffrey': 2391, 'tom': 4514, 'portrayed': 3342, 'won': 4925, 'accident': 84, 'measure': 2786, 'pot': 3354, 'vehicle': 4718, 'caine': 647, 'rex': 3683, 'atmospheric': 334, 'imagined': 2239, 'africa': 141, 'backdrop': 379, 'raise': 3507, 'lawrence': 2539, 'alfred': 181, 'hitchcock': 2123, 'equal': 1509, 'loss': 2659, 'compelled': 915, 'environment': 1505, 'dumb': 1385, 'blow': 514, 'created': 1037, 'contrived': 976, 'contained': 963, 'metal': 2823, 'month': 2896, 'rocks': 3722, 'rush': 3759, 'combat': 882, 'accept': 80, 'physically': 3263, 'feed': 1683, 'san': 3780, 'strength': 4219, 'wrote': 4974, 'upset': 4687, 'twists': 4619, 'clue': 864, 'random': 3514, 'shock': 3938, '20': 29, 'concert': 935, 'traveling': 4568, 'hates': 2048, 'slasher': 4020, 'conversation': 980, 'importance': 2246, 'matters': 2770, 'conversations': 981, 'holes': 2133, 'miles': 2843, 'household': 2179, 'driving': 1368, 'rarely': 3524, 'checking': 778, 'undoubtedly': 4648, 'adapted': 114, 'brooks': 596, 'focused': 1767, 'favor': 1670, 'blunt': 520, 'scott': 3824, 'wilson': 4891, 'blake': 498, 'reporter': 3636, 'hall': 2009, 'bruce': 602, 'laughed': 2532, 'gags': 1862, 'stuck': 4237, 'challenge': 743, 'gods': 1928, 'jennifer': 2392, 'bigger': 479, 'computer': 927, 'limited': 2606, 'intent': 2318, 'likely': 2601, 'thoughtful': 4463, 'golden': 1934, 'accomplished': 87, 'moon': 2900, 'kudos': 2497, 'lord': 2652, 'presentation': 3375, 'language': 2516, 'rated': 3527, 'virus': 4752, 'code': 869, 'screens': 3832, 'enters': 1496, 'access': 83, 'system': 4345, 'seconds': 3848, 'patient': 3211, 'develops': 1226, 'vision': 4754, 'skin': 4015, 'crack': 1027, 'blind': 506, 'causes': 725, 'severe': 3906, 'burning': 627, 'fortunately': 1805, 'dear': 1140, 'noir': 3023, 'exceptionally': 1559, 'andrews': 229, 'brains': 563, 'protect': 3443, 'excessive': 1560, 'cover': 1022, 'gene': 1879, 'cars': 702, 'drink': 1361, 'covered': 1023, 'vaguely': 4706, 'tried': 4584, 'documentaries': 1306, 'latest': 2526, 'underrated': 4642, 'passed': 3202, 'journey': 2421, 'whereas': 4865, 'rap': 3520, 'hip': 2114, 'hop': 2154, 'guns': 1998, '90s': 61, 'suffered': 4276, 'similar': 3978, 'fate': 1665, 'transition': 4561, '2002': 32, 'necessarily': 2983, 'ignorant': 2223, 'stereotypes': 4179, 'illness': 2230, 'psycho': 3457, 'fetched': 1698, 'jon': 2416, 'overlook': 3153, 'suspend': 4329, 'rachel': 3500, 'lucy': 2684, 'kiss': 2483, 'kate': 2446, 'victor': 4731, 'response': 3654, 'clown': 862, 'pleased': 3305, 'portray': 3340, 'candy': 668, 'factory': 1623, 'reviewers': 3678, 'natural': 2973, 'stereotypical': 4180, 'prove': 3445, 'captured': 677, 'fashioned': 1660, 'morality': 2903, 'receives': 3565, 'existence': 1571, 'cruise': 1071, 'miserable': 2863, 'rough': 3741, 'amateurish': 207, 'hunt': 2198, 'cameron': 661, 'sheriff': 3929, 'nasty': 2968, 'stretch': 4221, 'smooth': 4041, 'martin': 2748, 'specific': 4099, 'joe': 2407, 'brief': 579, 'drive': 1363, 'welcome': 4842, 'gripping': 1976, '50s': 52, 'plus': 3311, 'waitress': 4773, 'morgan': 2905, 'younger': 4990, 'johnny': 2410, 'terry': 4415, 'fatal': 1664, 'incident': 2260, 'jesus': 2399, 'superior': 4300, 'winner': 4897, '1990': 24, 'weapon': 4828, 'process': 3412, 'born': 544, 'burns': 628, 'shoot': 3942, 'promise': 3430, '100': 1, 'shocked': 3939, 'shocking': 3940, 'groups': 1981, 'hated': 2047, 'worthless': 4954, 'context': 968, 'worthwhile': 4955, 'addition': 118, 'enjoyable': 1485, 'andrew': 228, 'ships': 3935, 'competent': 917, 'notch': 3043, 'potentially': 3356, 'dealing': 1136, 'francisco': 1819, 'namely': 2962, 'united': 4664, 'nations': 2971, 'countries': 1013, 'feminist': 1695, 'rival': 3706, 'powell': 3358, 'asian': 314, 'slave': 4022, 'sleazy': 4023, 'midnight': 2834, 'bridge': 578, 'element': 1442, 'strangers': 4214, 'interview': 2329, 'christ': 807, 'strike': 4224, '3d': 46, 'hunting': 2201, 'sucked': 4270, 'whoever': 4872, 'ear': 1397, 'amazed': 208, 'historical': 2119, 'facts': 1624, 'hills': 2109, 'fail': 1625, 'grows': 1985, 'trade': 4547, 'bodies': 526, 'berlin': 467, 'bang': 393, 'usa': 4691, 'states': 4163, 'deeply': 1156, 'speaks': 4096, 'evidence': 1546, 'agrees': 157, 'broadcast': 591, 'propaganda': 3435, 'crucial': 1068, 'rise': 3702, 'wonders': 4931, 'troops': 4591, 'neighbors': 2994, 'survivors': 4325, 'treatment': 4574, 'cell': 730, 'writes': 4970, 'guilt': 1994, 'status': 4165, 'courage': 1018, 'argue': 290, 'logical': 2639, 'primarily': 3393, 'hidden': 2096, 'concern': 931, 'radio': 3504, 'toys': 4543, 'mine': 2853, 'pile': 3275, 'shooting': 3943, 'wrapped': 4964, 'explain': 1586, 'billy': 482, 'zombie': 4997, 'kinda': 2477, 'airplane': 166, 'shirt': 3937, 'dry': 1377, 'page': 3167, 'avoided': 364, 'ended': 1470, 'thief': 4448, 'clean': 838, 'education': 1424, 'plague': 3285, 'professional': 3421, 'photographer': 3259, 'pictures': 3270, 'coffee': 870, 'luck': 2681, 'trek': 4578, 'ensues': 1493, 'genuinely': 1892, 'inspiring': 2302, 'control': 977, 'plight': 3308, 'sinister': 3998, 'recognition': 3568, 'arm': 292, 'mistaken': 2872, 'garbo': 1871, 'ordinary': 3128, 'sits': 4006, 'unreal': 4676, 'emphasis': 1463, 'lessons': 2578, 'national': 2970, 'jeremy': 2394, 'appealing': 272, 'fictional': 1703, 'dean': 1139, 'lloyd': 2630, 'exceptional': 1558, 'catch': 714, 'hopefully': 2157, 'grow': 1982, 'bbc': 417, 'eve': 1532, 'britain': 588, 'print': 3399, 'rights': 3697, 'bucks': 606, 'canada': 666, 'ha': 2002, 'legal': 2563, 'chilling': 794, 'currently': 1085, 'ho': 2127, 'edward': 1426, 'bond': 532, 'roger': 3724, 'moore': 2901, 'bacall': 377, 'los': 2653, 'angeles': 233, 'swedish': 4335, 'mexican': 2826, 'saved': 3795, 'aged': 149, 'torn': 4528, 'england': 1482, 'mail': 2706, 'tunes': 4603, 'catchy': 717, 'library': 2589, '12': 3, 'monkeys': 2891, 'sci': 3815, 'fi': 1701, 'stranger': 4213, 'pulling': 3463, 'guessing': 1991, 'gothic': 1945, 'willis': 4890, 'twelve': 4611, 'pulls': 3464, 'screenplay': 3831, 'captivating': 675, 'madness': 2698, 'futuristic': 1857, 'psychotic': 3459, 'stereotype': 4178, 'information': 2288, 'drop': 1369, 'brazil': 568, 'mans': 2730, 'paint': 3173, 'terrifying': 4410, 'dolls': 1316, 'musicals': 2948, 'entertain': 1497, 'chicago': 785, 'brando': 566, 'carl': 692, 'navy': 2976, 'inspiration': 2300, 'learned': 2551, 'cuba': 1075, 'niro': 3019, 'food': 1778, 'accused': 91, 'decides': 1150, 'jealous': 2388, '3rd': 47, 'un': 4630, 'sarah': 3785, 'retarded': 3663, 'horrific': 2166, 'cost': 1003, 'flawed': 1750, 'honor': 2150, 'lips': 2615, 'liberal': 2588, 'understanding': 4645, 'learns': 2553, 'restored': 3659, 'dust': 1388, 'dislike': 1288, 'ruined': 3751, 'clichéd': 845, 'suffers': 4278, 'intelligence': 2313, 'focusing': 1769, 'basis': 408, 'couldve': 1009, 'stood': 4199, 'ruin': 3750, 'nightmares': 3015, 'mini': 2854, 'recall': 3562, 'average': 362, 'defense': 1159, 'purpose': 3474, 'editor': 1423, 'committed': 905, 'boxing': 556, 'irish': 2353, 'bank': 394, 'unpredictable': 4675, 'pushing': 3479, 'mundane': 2938, 'builds': 617, 'persona': 3239, 'honesty': 2148, 'redemption': 3578, 'arrive': 300, 'chinese': 796, 'various': 4715, 'hardcore': 2034, 'thin': 4449, 'acts': 107, 'private': 3404, 'involves': 2348, 'upper': 4685, 'cannibal': 669, 'lay': 2542, 'childish': 791, 'birds': 485, 'kingdom': 2480, 'guest': 1992, 'flicks': 1755, 'brosnan': 597, 'suits': 4287, 'pays': 3218, 'buddy': 609, 'strictly': 4223, 'chemistry': 782, 'ethan': 1528, 'jumped': 2430, 'ranks': 3519, 'invisible': 2344, 'karloff': 2445, 'lugosi': 2686, 'equipment': 1511, 'dr': 1340, 'bela': 450, 'sir': 4000, 'stevens': 4183, 'powerful': 3360, 'millions': 2848, 'discovers': 1281, 'diana': 1237, 'attracted': 349, 'instantly': 2306, 'murderer': 2941, 'cooper': 990, 'patients': 3212, 'hearing': 2063, 'apparent': 269, 'marry': 2745, 'wondered': 4927, 'receive': 3563, 'crash': 1033, 'manage': 2722, 'mansion': 2731, 'composed': 926, 'lisa': 2616, 'cards': 683, 'technique': 4383, 'cameras': 660, 'anybody': 257, 'dentist': 1180, 'widow': 4883, 'notorious': 3051, 'missing': 2869, 'operation': 3117, 'uncle': 4636, 'reed': 3580, 'ego': 1435, 'blonde': 511, '75': 57, 'suitable': 4285, 'yesterday': 4983, 'typically': 4624, 'areas': 287, 'ability': 65, 'rip': 3700, 'desire': 1205, 'highlights': 2104, 'kay': 2447, 'spirited': 4114, 'comics': 895, 'centers': 734, 'ruthless': 3764, 'timing': 4498, 'ellen': 1446, 'starred': 4153, 'jerk': 2395, 'bell': 458, 'murderous': 2942, 'larry': 2520, 'gentle': 1890, 'green': 1971, 'wicked': 4879, 'september': 3884, 'relate': 3593, 'everyday': 1541, 'defeat': 1157, 'menace': 2806, 'supernatural': 4302, 'hiding': 2099, 'trapped': 4564, 'heroic': 2090, 'hunter': 2199, 'anymore': 258, 'creature': 1045, 'cared': 685, 'suit': 4284, 'lasted': 2522, 'continue': 969, 'determined': 1221, 'lovable': 2668, 'root': 3737, 'landing': 2512, 'creep': 1051, 'adams': 112, 'suggested': 4281, 'dress': 1357, 'talking': 4360, 'dialogs': 1233, 'rats': 3531, 'trailers': 4555, 'loose': 2650, 'prime': 3395, 'flaws': 1752, 'gerard': 1895, 'butler': 637, 'dracula': 1341, 'christian': 808, 'figured': 1712, 'hair': 2005, 'cheating': 776, 'stinker': 4191, 'quotes': 3497, 'territory': 4411, 'press': 3379, 'catherine': 719, 'jones': 2418, 'comparison': 914, 'julia': 2427, 'roberts': 3714, 'sign': 3970, 'doomed': 1327, 'executed': 1565, 'border': 539, 'soldiers': 4054, 'curse': 1086, 'anyways': 262, 'ghosts': 1903, 'fears': 1677, 'dare': 1113, 'pet': 3246, 'bear': 420, 'disagree': 1269, 'resulting': 3661, 'commit': 904, 'crimes': 1056, 'warning': 4800, 'horrifying': 2167, 'barbara': 397, 'giallo': 1904, 'spoiled': 4122, 'react': 3540, 'exploitation': 1592, 'thru': 4483, 'tortured': 4530, 'cult': 1077, 'fat': 1663, 'houses': 2180, 'flashbacks': 1747, 'river': 3707, 'wet': 4855, 'darkness': 1117, 'marks': 2742, 'factor': 1622, 'seagal': 3839, 'pilot': 3276, 'promised': 3431, 'attempted': 341, 'escaped': 1518, 'successfully': 4267, 'terrorist': 4413, 'sunday': 4293, 'freedom': 1828, 'kidnapped': 2466, 'command': 897, 'trained': 4557, 'bomb': 531, 'hoping': 2160, 'machine': 2693, 'dropping': 1371, 'understated': 4646, 'chief': 788, 'villains': 4745, 'visible': 4753, 'fest': 1696, 'stellar': 4174, 'count': 1010, 'ticket': 4487, 'complaint': 920, 'grand': 1953, 'mgm': 2828, 'paper': 3183, 'virginia': 4750, 'grey': 1973, 'hints': 2113, 'stress': 4220, 'motivation': 2914, 'wanting': 4790, 'unlikely': 4671, 'roman': 3731, 'nervous': 2999, 'mitchell': 2875, 'quit': 3494, 'notes': 3046, 'sum': 4289, 'studios': 4241, 'orson': 3132, 'overwhelming': 3157, 'welles': 4844, 'encounter': 1466, 'doll': 1313, 'offers': 3090, 'sun': 4292, 'delivers': 1172, 'photographed': 3258, 'trademark': 4548, 'harry': 2039, 'marketing': 2741, 'useful': 4694, 'curiosity': 1082, 'complicated': 925, 'filled': 1715, 'babe': 375, 'charismatic': 763, 'threat': 4467, 'interpretation': 2328, 'theory': 4437, 'convoluted': 987, 'imagery': 2234, 'delivered': 1170, 'superbly': 4297, 'dancer': 1104, 'forgettable': 1794, '40s': 49, 'adventures': 131, 'cause': 723, 'native': 2972, 'rick': 3689, 'et': 1526, 'earned': 1401, 'worried': 4949, 'hong': 2149, 'kong': 2494, 'kung': 2498, 'fu': 1844, 'texas': 4418, 'search': 3841, 'sky': 4017, 'dennis': 1179, 'hopper': 2161, 'recorded': 3574, 'neo': 2998, 'strikes': 4225, 'regard': 3588, 'necessary': 2984, 'searching': 3842, 'decades': 1145, 'attitudes': 347, 'traditional': 4550, 'nicholson': 3011, 'paced': 3162, 'bud': 607, 'plots': 3310, 'stronger': 4230, 'per': 3223, 'contemporary': 965, 'raising': 3509, 'kitchen': 2485, 'struggling': 4236, 'jewish': 2401, 'italian': 2367, 'bush': 632, 'brooklyn': 595, 'lower': 2677, 'isolated': 2363, 'interaction': 2322, 'orange': 3125, 'rooms': 3736, '50': 51, 'featured': 1679, 'pleasant': 3302, 'forms': 1801, 'demon': 1177, 'warriors': 4803, 'accidentally': 85, 'till': 4493, 'enemies': 1476, 'genres': 1889, 'popcorn': 3331, 'cg': 739, 'visuals': 4759, 'martial': 2747, 'arts': 310, 'spoke': 4125, 'hart': 2041, '2nd': 41, 'remarks': 3615, 'pushed': 3478, 'steve': 4181, 'blue': 518, 'photos': 3261, 'stated': 4161, 'fallen': 1638, 'plane': 3288, 'angle': 236, 'tonight': 4519, 'foul': 1810, 'closed': 854, 'blows': 517, 'juvenile': 2441, 'sucks': 4271, 'significant': 3972, 'clip': 851, 'thirty': 4456, 'teach': 4374, 'lesson': 2577, 'cheated': 775, 'australian': 357, 'differences': 1247, 'legs': 2566, 'purchased': 3470, 'mill': 2845, 'suppose': 4305, 'sappy': 3784, 'lie': 2590, 'aimed': 162, 'childrens': 793, 'backgrounds': 381, 'teenager': 4390, 'minimal': 2855, 'scare': 3803, 'prevent': 3385, 'sleep': 4024, 'pure': 3471, 'hilariously': 2107, 'festival': 1697, 'anne': 246, 'tim': 4494, 'nelson': 2997, 'spirit': 4113, 'russell': 3761, 'tracy': 4546, 'twenty': 4612, 'peters': 3248, 'claims': 830, 'students': 4239, 'discuss': 1283, 'teacher': 4375, 'mrs': 2930, 'hired': 2117, 'adam': 111, 'shower': 3957, 'mile': 2842, 'phone': 3255, '1984': 23, 'incredibly': 2270, 'blown': 516, 'afterwards': 145, 'boom': 537, 'robin': 3715, 'williams': 4888, 'positive': 3346, 'ugly': 4625, 'medical': 2790, 'sons': 4073, 'mummy': 2937, 'fifteen': 1706, 'wed': 4835, 'led': 2558, 'charge': 761, 'bay': 416, 'universal': 4665, 'darker': 1116, 'shadows': 3913, 'june': 2433, '1980': 20, 'survived': 4322, 'rape': 3521, 'illogical': 2231, 'destroyed': 1214, 'forest': 1791, 'extent': 1605, 'demand': 1174, 'lies': 2591, 'subtlety': 4261, 'simplicity': 3984, 'alien': 183, 'gangster': 1868, 'choreography': 802, 'timeless': 4496, 'caused': 724, 'storm': 4206, 'jaw': 2384, 'floor': 1759, 'seventies': 3904, 'tag': 4348, 'sword': 4340, 'theyd': 4443, 'oscars': 3134, 'credible': 1048, 'warn': 4797, '60': 53, '40': 48, 'mario': 2738, 'absence': 70, 'horrors': 2169, 'mysteries': 2954, 'clumsy': 866, 'knife': 2487, 'hitting': 2126, 'paranoia': 3186, 'trio': 4587, 'unknown': 4668, 'damage': 1099, 'existed': 1570, 'freak': 1824, 'psychiatrist': 3455, 'segments': 3868, 'portion': 3338, 'garden': 1872, 'universe': 4666, 'embarrassment': 1455, 'toilet': 4512, 'smaller': 4034, 'awe': 370, 'domestic': 1318, 'fourth': 1813, 'bugs': 613, 'trite': 4589, 'catching': 716, 'cartoons': 705, 'antics': 255, 'scripts': 3836, 'unfunny': 4655, 'boot': 538, 'todays': 4509, 'improved': 2255, 'initial': 2290, 'delivering': 1171, 'proof': 3434, 'suck': 4269, 'north': 3036, 'hotel': 2175, 'stayed': 4167, 'design': 1202, 'helped': 2080, 'overcome': 3151, 'daniel': 1111, 'hoffman': 2128, 'awards': 367, 'frankenstein': 1822, 'lawyer': 2541, 'offering': 3089, 'artists': 309, 'digital': 1251, 'designs': 1204, 'loads': 2633, 'vast': 4716, 'landscapes': 2514, 'brilliance': 582, 'insulting': 2310, 'fairy': 1632, 'huh': 2187, 'stupidity': 4248, 'godfather': 1927, 'thomas': 4458, 'cowboy': 1025, 'repeatedly': 3632, 'prison': 3401, 'europe': 1529, 'raped': 3522, 'mentions': 2813, 'president': 3378, 'phantom': 3251, 'implausible': 2245, 'comedian': 887, 'showcase': 3954, 'brand': 565, 'entertained': 1498, 'streisand': 4218, 'unbelievably': 4635, 'jane': 2380, 'herself': 2092, 'cliche': 843, 'rule': 3753, 'tape': 4365, 'dolph': 1317, 'alcoholic': 177, 'investigation': 2343, 'eva': 1531, 'hitler': 2124, 'sexy': 3911, 'sorts': 4078, 'considerable': 950, 'lying': 2690, 'purple': 3473, 'barry': 401, 'colors': 879, 'joan': 2404, 'toy': 4542, 'describes': 1196, 'nonsensical': 3031, 'irrelevant': 2358, 'crush': 1072, 'definite': 1161, 'polanski': 3321, 'embarrassing': 1454, 'oliver': 3102, 'destroying': 1215, 'irritating': 2359, 'smoking': 4040, 'flop': 1760, 'butt': 638, 'funnier': 1850, 'ps': 3453, 'cave': 727, 'bat': 410, 'study': 4242, 'shouldnt': 3952, 'saturday': 3792, 'steals': 4172, 'occurred': 3077, 'user': 4696, 'shadow': 3912, 'fool': 1779, 'dubbing': 1380, 'unconvincing': 4638, 'inducing': 2279, 'hood': 2151, 'contract': 973, 'fury': 1855, 'revolves': 3682, 'mistakes': 2873, 'exposed': 1598, 'connected': 945, 'nuts': 3064, 'dollar': 1314, 'yelling': 4980, 'reached': 3537, 'engaging': 1481, 'greater': 1965, 'required': 3641, 'reaching': 3539, 'pop': 3330, 'enjoying': 1487, 'freeman': 1829, 'spends': 4107, 'complain': 919, 'beer': 439, 'pleasantly': 3303, 'lees': 2560, 'mountain': 2917, 'twice': 4613, 'worthy': 4956, 'belief': 451, 'killings': 2473, 'shoots': 3944, 'includes': 2263, 'cinematographer': 819, 'vincent': 4746, 'turner': 4607, 'greedy': 1969, '30s': 44, 'judging': 2425, 'sacrifice': 3766, 'hadnt': 2004, 'letting': 2583, 'hurts': 2203, 'angel': 231, 'hook': 2152, 'novels': 3053, 'protagonist': 3441, 'justify': 2439, 'vengeance': 4719, 'merit': 2816, 'exercise': 1568, 'carefully': 689, 'extras': 1608, 'product': 3418, '17': 9, 'drew': 1360, 'rings': 3699, 'itll': 2369, 'cameos': 658, 'goldberg': 1933, 'hammer': 2014, 'jimmy': 2403, 'cook': 988, 'emma': 1457, 'consistent': 953, 'importantly': 2248, 'technology': 4385, 'amounts': 220, 'unsettling': 4679, 'quiet': 3492, 'maker': 2714, 'claim': 828, 'represents': 3639, 'below': 462, 'expressed': 1601, 'jaws': 2385, 'soviet': 4089, 'initially': 2291, 'artificial': 306, 'kane': 2442, 'australia': 356, 'weekend': 4838, 'floating': 1758, 'catches': 715, 'report': 3635, 'claire': 831, 'emily': 1456, 'subsequent': 4257, 'beneath': 464, 'underlying': 4641, 'surface': 4310, 'waters': 4817, 'swimming': 4338, 'anthony': 253, 'macy': 2695, 'ensemble': 1492, 'opportunity': 3121, 'succeed': 4262, 'funeral': 1849, 'chain': 741, 'flow': 1762, 'notice': 3048, 'experiments': 1584, 'graphics': 1959, 'techniques': 4384, 'explored': 1595, 'allen': 188, 'robinson': 3716, 'expensive': 1579, 'helen': 2075, 'granted': 1957, 'eccentric': 1414, 'activities': 102, 'animal': 239, 'controversial': 978, 'drugs': 1374, 'influenced': 2287, 'biggest': 480, 'daring': 1114, 'luckily': 2682, 'gain': 1863, 'intentions': 2321, 'hopeless': 2158, 'elaborate': 1439, 'mickey': 2831, 'walken': 4777, 'sounded': 4082, 'virgin': 4749, 'wounded': 4961, 'racism': 3502, 'channels': 754, 'pg': 3250, 'decade': 1144, 'taxi': 4371, 'dealt': 1138, 'shut': 3961, 'beast': 422, 'couples': 1017, 'explosions': 1597, 'occur': 3076, 'april': 284, 'numerous': 3062, 'talked': 4359, 'nostalgic': 3039, 'pat': 3208, 'refreshing': 3586, 'bought': 552, '18': 10, '2006': 36, 'colonel': 876, 'alike': 185, 'opportunities': 3120, 'analysis': 224, 'bottle': 550, 'raymond': 3534, 'perry': 3237, 'flashback': 1746, 'crafted': 1029, 'hugh': 2186, 'intrigued': 2334, 'synopsis': 4344, 'purchase': 3469, 'blatant': 502, 'videos': 4734, 'authority': 360, 'titles': 4506, 'unseen': 4678, 'church': 813, 'acceptable': 81, 'wing': 4896, 'buying': 641, 'forever': 1792, 'ashamed': 312, 'robbery': 3711, 'drivel': 1364, 'zero': 4996, 'disjointed': 1287, 'depressing': 1188, 'rolling': 3730, 'china': 795, 'performer': 3231, 'growing': 1983, 'selling': 3873, 'gender': 1878, 'solution': 4059, 'heres': 2087, 'creators': 1044, 'beats': 426, 'disappoint': 1272, 'carrying': 701, 'reach': 3536, 'beating': 425, '24': 39, 'instant': 2305, 'critic': 1061, 'believing': 457, 'progress': 3425, 'ludicrous': 2685, 'horribly': 2164, 'offensive': 3086, 'spike': 4111, 'memories': 2803, 'repeated': 3631, 'pseudo': 3454, 'pink': 3277, 'topic': 4526, 'massive': 2756, 'thick': 4447, 'newspaper': 3006, 'justin': 2440, 'corrupt': 1001, 'impress': 2250, 'noble': 3021, 'investigate': 2342, 'threatening': 4468, 'assault': 324, 'spoof': 4127, 'admittedly': 123, 'easier': 1405, 'loses': 2657, 'witnesses': 4916, 'increasingly': 2268, 'parallel': 3185, 'relation': 3595, 'consistently': 954, 'wrap': 4963, 'pokemon': 3320, 'signed': 3971, 'ears': 1402, 'crocodile': 1065, 'elegant': 1441, 'tap': 4364, 'iii': 2227, 'unwatchable': 4682, 'distribution': 1298, 'ripped': 3701, 'careful': 688, 'revealing': 3672, 'oil': 3097, 'draws': 1352, 'crappy': 1032, 'forbidden': 1785, 'mate': 2765, 'douglas': 1334, 'masterful': 2758, 'contrary': 974, 'provided': 3449, 'notably': 3042, 'rebel': 3561, 'grasp': 1960, 'happiness': 2031, 'glass': 1917, 'false': 1641, 'affected': 137, 'trick': 4582, 'dorothy': 1330, 'angles': 237, 'resembles': 3646, 'craft': 1028, 'assigned': 325, 'machines': 2694, 'sport': 4129, 'todd': 4510, 'homage': 2141, 'aforementioned': 139, 'hudson': 2184, 'flies': 1756, 'fascinated': 1657, 'painfully': 3172, 'pointed': 3317, 'saga': 3773, 'property': 3438, 'citizen': 824, 'familys': 1646, 'wayne': 4821, 'foster': 1809, 'allows': 192, 'tiger': 4491, 'uninteresting': 4660, 'removed': 3624, 'dave': 1123, 'vietnam': 4735, 'returned': 3666, 'planning': 3291, 'proceeds': 3411, 'planned': 3290, 'alcohol': 176, 'belong': 459, 'subplots': 4256, 'dating': 1120, 'mistake': 2871, 'rid': 3690, 'florida': 1761, 'miller': 2846, 'improve': 2254, 'embarrassed': 1453, 'sixties': 4011, 'cardboard': 682, 'fitting': 1742, 'guarantee': 1987, 'skills': 4014, 'schools': 3814, 'burton': 630, 'harsh': 2040, 'kubrick': 2496, 'meaningless': 2782, 'outer': 3143, 'notable': 3041, 'shop': 3945, 'owner': 3159, 'views': 4742, 'covers': 1024, 'pretending': 3382, 'bargain': 400, 'bin': 483, 'jake': 2377, 'doctors': 1305, 'dying': 1393, 'disease': 1285, 'jobs': 2406, 'revelation': 3674, 'struggle': 4234, 'companion': 909, 'trial': 4580, 'suffer': 4275, 'eddie': 1416, 'caring': 691, 'porn': 3336, 'ruth': 3763, 'humans': 2190, 'kennedy': 2454, 'aired': 165, 'anderson': 227, 'heck': 2071, 'league': 2549, 'square': 4136, 'heston': 2094, 'letter': 2581, '13th': 5, '1983': 22, 'rotten': 3740, 'rob': 3710, 'nominated': 3025, 'countless': 1012, 'irony': 2357, 'slightest': 4028, 'tomatoes': 4515, 'spin': 4112, 'accompanied': 86, 'reasonably': 3559, 'wouldve': 4959, 'screams': 3828, 'forgive': 1795, 'agreed': 156, 'hanks': 2025, 'maria': 2736, 'summary': 4290, 'combine': 884, 'travesty': 4570, 'miscast': 2862, 'farce': 1654, 'developing': 1224, 'university': 4667, 'burned': 626, 'touched': 4534, 'clint': 850, 'eastwood': 1409, 'fired': 1735, 'laughably': 2531, 'arrives': 302, 'pregnant': 3369, 'unable': 4631, 'helicopter': 2076, '45': 50, 'sink': 3999, 'randomly': 3515, 'picking': 3267, 'rochester': 3719, 'eyre': 1614, 'timothy': 4499, 'dalton': 1098, 'folk': 1770, 'vacation': 4704, 'carpenter': 694, 'gratuitous': 1961, 'spider': 4109, 'chess': 783, 'properly': 3437, 'wishing': 4907, 'hamilton': 2012, 'proud': 3444, 'continued': 970, 'winters': 4901, 'hire': 2116, 'chan': 746, 'rain': 3506, 'bus': 631, 'pretend': 3381, '80': 58, 'bible': 477, 'bold': 528, 'revealed': 3671, 'consists': 955, 'sloppy': 4030, 'concerns': 934, 'forty': 1807, 'included': 2262, 'mistress': 2874, 'conflicts': 940, 'capturing': 679, 'wes': 4851, 'craven': 1034, 'corpse': 999, 'racial': 3501, 'practice': 3363, 'paltrow': 3178, 'creating': 1039, 'carol': 693, 'losers': 2656, 'roots': 3738, 'worn': 4948, 'opinions': 3119, 'christians': 809, 'steel': 4173, 'balls': 390, 'jessica': 2398, 'nose': 3037, 'advice': 133, 'celluloid': 731, 'hal': 2006, 'represented': 3638, 'encounters': 1467, 'fooled': 1780, 'secondly': 3847, 'shape': 3919, 'nostalgia': 3038, 'educational': 1425, 'grim': 1974, 'training': 4558, 'danes': 1108, 'dance': 1103, 'chasing': 772, 'firstly': 1737, '2005': 35, 'cringe': 1059, 'benefit': 465, 'gifted': 1907, 'gift': 1906, 'depressed': 1187, 'marie': 2737, 'abilities': 64, 'extended': 1604, 'denzel': 1181, 'washington': 4806, 'luke': 2687, 'nights': 3016, 'capital': 673, 'glory': 1922, 'inspector': 2299, 'thugs': 4484, 'cinderella': 815, 'royal': 3746, 'harvey': 2042, 'wars': 4804, 'danny': 1112, 'glover': 1923, 'leg': 2562, 'cried': 1054, 'homeless': 2143, 'rendition': 3625, 'khan': 2459, 'ran': 3513, 'reactions': 3542, 'accepted': 82, 'masses': 2755, 'creation': 1040, 'underground': 4640, 'celebrity': 729, 'ease': 1404, 'established': 1524, 'elderly': 1440, 'kicking': 2462, 'protagonists': 3442, 'appropriate': 283, 'santa': 3783, 'vampires': 4712, 'circle': 821, 'busy': 635, 'eight': 1436, 'freddy': 1826, 'elvira': 1450, 'distant': 1295, 'relatives': 3601, 'estate': 1525, 'campy': 664, 'heroine': 2091, 'vegas': 4717, 'unoriginal': 4673, 'riding': 3695, 'abysmal': 76, 'added': 116, 'hooked': 2153, 'scientific': 3817, 'sidekick': 3966, 'miserably': 2864, 'generated': 1882, 'substance': 4258, 'held': 2074, 'downhill': 1336, 'crisis': 1060, 'orders': 3127, 'korean': 2495, 'agents': 151, 'italy': 2368, 'represent': 3637, 'demands': 1175, 'screaming': 3827, 'carries': 699, 'aid': 160, 'rubber': 3747, 'awfully': 373, 'swear': 4334, 'awake': 365, 'relief': 3605, 'errors': 1516, 'scale': 3802, 'enterprise': 1495, 'dvds': 1392, 'transfer': 4559, 'involvement': 2347, 'inferior': 2285, 'stunt': 4245, 'discussion': 1284, 'elsewhere': 1449, 'gadget': 1860, 'matthew': 2772, 'overdone': 3152, 'model': 2880, 'carradine': 695, 'neighbor': 2992, 'birthday': 487, 'stanwyck': 4149, 'tremendous': 4579, 'sin': 3988, 'ignored': 2225, 'sue': 4274, 'sounding': 4083, 'nail': 2957, 'someones': 4065, 'express': 1600, 'dragon': 1344, 'originally': 3131, 'perfection': 3225, 'ballet': 389, 'reynolds': 3684, 'shirley': 3936, 'temple': 4398, 'depression': 1189, 'achieved': 93, 'poster': 3353, 'unhappy': 4656, 'cynical': 1093, 'pamela': 3179, '1980s': 21, 'mindless': 2851, 'primary': 3394, 'mountains': 2918, 'march': 2734, 'hearts': 2066, 'satan': 3787, 'dynamic': 1394, 'sympathy': 4343, 'warmth': 4796, 'stooges': 4200, 'recognize': 3569, 'goal': 1925, 'relations': 3596, 'princess': 3397, 'built': 618, 'racist': 3503, 'mass': 2753, 'dickens': 1240, 'dozens': 1339, 'scrooge': 3837, 'frustration': 1843, 'tends': 4402, 'convincingly': 986, 'rage': 3505, 'wealth': 4826, 'menacing': 2807, 'bob': 524, 'picks': 3268, 'karen': 2444, 'werewolf': 4850, 'annie': 247, 'lowest': 2678, 'mtv': 2933, 'wears': 4832, 'gory': 1943, 'loosely': 2651, 'pacino': 3164, 'rocket': 3721, 'punch': 3466, 'competition': 918, 'incompetent': 2266, 'st': 4137, 'sexually': 3910, 'ham': 2011, 'ridiculously': 3694, 'myers': 2952, 'infamous': 2284, 'fish': 1738, 'lesser': 2576, 'aging': 153, 'costume': 1005, 'online': 3109, 'vampire': 4711, 'seemingly': 3863, 'outfit': 3144, 'renting': 3629, 'internet': 2327, 'witnessed': 4915, 'snl': 4044, 'females': 1694, 'bite': 489, 'arrested': 298, 'voices': 4763, 'priceless': 3390, 'distinct': 1296, 'wandering': 4785, 'taught': 4370, '1973': 19, 'disappear': 1270, 'guts': 1999, 'personalities': 3241, 'diamond': 1236, 'gradually': 1952, 'sole': 4055, 'descent': 1193, 'reveals': 3673, 'scripted': 3835, 'solo': 4058, 'lacked': 2503, 'fed': 1682, 'cagney': 646, 'conservative': 948, 'counter': 1011, 'ruby': 3749, 'cake': 648, 'distracting': 1297, 'bobby': 525, 'introduce': 2336, 'disappeared': 1271, 'games': 1865, 'saves': 3796, 'poignant': 3315, 'wearing': 4831, 'possessed': 3347, 'insane': 2296, 'tarzan': 4367, 'porno': 3337, 'photo': 3257, 'clips': 852, 'hence': 2083, 'mask': 2752, 'batman': 413, 'pan': 3180, 'scottish': 3825, 'ireland': 2352, 'official': 3094, 'packed': 3166, 'glorious': 1921, 'wells': 4845, 'fay': 1674, 'yellow': 4981, 'drunken': 1376, 'senseless': 3878, 'championship': 745, 'signs': 3973, 'sandler': 3781, 'path': 3209, 'chances': 748, 'linda': 2609, 'ryan': 3765, 'choices': 798, 'lively': 2627, 'bare': 398, 'abraham': 69, '2003': 33, 'iraq': 2351, 'ned': 2986, 'cabin': 643, 'dedicated': 1153, 'matt': 2768, 'gundam': 1997, 'individuals': 2278, 'population': 3335, 'focuses': 1768, 'armed': 293, 'anime': 243, 'innocence': 2293, 'abusive': 75, 'homer': 2144, 'edition': 1422, 'superman': 4301, 'kirk': 2482, 'lane': 2515, 'improvement': 2256, 'bullets': 621, 'thrillers': 4473, 'afternoon': 144, 'insight': 2298, 'believed': 455, 'fancy': 1649, 'hollywoods': 2138, 'twisted': 4618, 'genuine': 1891, 'colorful': 878, 'thumbs': 4485, 'joseph': 2419, 'psychic': 3456, 'narration': 2965, '2004': 34, 'lucas': 2680, 'sentimental': 3882, 'duo': 1386, 'burt': 629, 'letters': 2582, 'equivalent': 1512, 'voiced': 4762, 'subtitles': 4259, 'trail': 4553, 'dub': 1378, 'translation': 4562, 'safety': 3772, 'generic': 1885, 'kicks': 2463, 'sneak': 4043, 'preview': 3386, 'spring': 4134, 'chuck': 812, 'weapons': 4829, 'pants': 3182, 'brady': 561, 'prequel': 3372, 'advanced': 128, 'singers': 3994, 'ties': 4490, 'doc': 1303, 'noted': 3045, 'testament': 4417, 'dancers': 1105, 'dinosaurs': 1256, 'dinosaur': 1255, 'smiling': 4037, 'similarly': 3980, 'spite': 4117, 'bone': 533, 'exploration': 1593, 'fever': 1699, 'basketball': 409, 'tear': 4379, 'unforgettable': 4652, 'pit': 3278, 'nyc': 3065, 'joined': 2413, 'shell': 3927, 'detailed': 1218, '2000': 30, 'dan': 1102, 'performs': 3234, 'elm': 1447, 'indians': 2275, 'deaf': 1134, 'widmark': 4882, 'ritter': 3705, '70': 55, 'lena': 2568, 'lol': 2640, 'akshay': 169, 'questionable': 3488, 'destruction': 1216, 'classical': 836, 'teaching': 4377, 'holly': 2136, 'stiff': 4187, 'related': 3594, 'reunion': 3669, 'arrived': 301, 'superhero': 4299, 'staying': 4168, 'stan': 4142, 'creator': 1043, 'tad': 4347, 'occasional': 3074, 'glimpse': 1919, 'urge': 4689, 'cruel': 1070, 'marty': 2749, 'abandoned': 62, 'gruesome': 1986, 'acid': 95, 'bath': 411, 'scores': 3823, 'calling': 653, 'borrowed': 545, 'weight': 4840, 'eighties': 1437, 'fields': 1705, 'drawing': 1350, 'comparing': 913, 'falk': 1636, 'parties': 3196, 'silence': 3974, 'youth': 4994, 'fulci': 1845, 'waited': 4771, 'interviews': 2330, 'canadian': 667, 'shall': 3916, 'topless': 4527, 'officers': 3093, 'tooth': 4524, 'neighborhood': 2993, 'watches': 4814, 'bedroom': 437, 'throat': 4476, 'viewings': 4741, 'fbi': 1675, 'paulie': 3215, 'closet': 858, 'experienced': 1581, 'pulp': 3465, 'wealthy': 4827, 'broad': 590, 'sandra': 3782, 'nomination': 3026, 'visits': 4756, 'richardson': 3688, 'plausible': 3295, 'che': 773, 'alongside': 196, 'cia': 814, 'union': 4661, 'transformation': 4560, 'turkey': 4604, 'chest': 784, 'alert': 178, 'wendy': 4846, 'brenda': 575, 'unrealistic': 4677, 'ignore': 2224, 'misery': 2865, 'restaurant': 3658, 'splatter': 4118, 'exposure': 1599, 'swim': 4337, 'davies': 1125, 'placed': 3283, 'passes': 3203, 'devoid': 1230, 'amitabh': 216, 'messed': 2821, 'stones': 4198, 'intrigue': 2333, 'hatred': 2049, 'species': 4098, 'winter': 4900, 'rabbit': 3498, 'wanna': 4786, 'angels': 234, 'mighty': 2836, 'rangers': 3517, 'hundred': 2195, 'mann': 2728, 'shelley': 3928, 'curtis': 1087, 'cleverly': 842, 'prom': 3429, 'petty': 3249, 'wished': 4905, 'resident': 3647, 'advise': 134, 'walks': 4780, 'directly': 1263, 'chorus': 803, 'bathroom': 412, 'mature': 2773, 'holiday': 2134, 'iron': 2354, 'fisher': 1739, 'duke': 1383, 'businessman': 634, 'amy': 222, 'abc': 63, 'del': 1165, 'regardless': 3590, 'desired': 1206, 'leonard': 2572, 'astaire': 330, 'ginger': 1908, 'rogers': 3725, 'endure': 1475, 'splendid': 4119, 'tommy': 4516, 'blank': 501, 'neil': 2995, 'alexander': 180, 'cats': 721, 'bourne': 554, 'damon': 1101, 'laws': 2540, 'warren': 4801, 'beatty': 427, 'bands': 392, 'bird': 484, 'refuses': 3587, 'ape': 266, 'rank': 3518, 'widely': 4881, 'generous': 1886, 'uninspired': 4657, 'satisfied': 3789, 'outcome': 3142, 'surfing': 4311, 'movements': 2924, 'bakshi': 386, 'football': 1783, 'ralph': 3510, 'grandmother': 1955, 'copies': 992, 'illegal': 2229, 'vice': 4727, 'ideal': 2214, 'urban': 4688, 'coach': 868, 'stunts': 4246, 'plant': 3293, 'thousands': 4466, '1st': 28, 'murphy': 2944, 'size': 4012, 'repeat': 3630, 'frightening': 1839, 'integrity': 2311, 'unbearable': 4633, 'directions': 1262, 'arrogant': 303, 'contest': 967, 'brutally': 604, 'intentionally': 2320, 'motives': 2916, 'kissing': 2484, 'depiction': 1185, 'attraction': 350, 'dinner': 1254, 'corporate': 998, 'snake': 4042, 'stargate': 4151, 'breathtaking': 574, 'jesse': 2397, 'spread': 4133, 'bride': 577, 'suspicious': 4332, 'immensely': 2243, 'thrills': 4475, 'wives': 4918, 'leo': 2571, 'essence': 1521, 'elizabeth': 1445, 'sadistic': 3768, 'possibilities': 3348, 'narrator': 2967, 'valuable': 4708, 'tender': 4401, 'newly': 3004, 'jamie': 2379, 'broke': 593, 'relies': 3606, 'le': 2544, 'odds': 3082, 'chicks': 787, 'definition': 1163, 'pal': 3177, 'succeeds': 4264, 'kidding': 2465, 'da': 1094, 'iran': 2350, 'scooby': 3820, 'doo': 1325, 'responsibility': 3655, 'bull': 619, 'montana': 2895, 'sunshine': 4294, 'civil': 826, 'gangsters': 1869, 'rambo': 3511, 'americas': 215, 'leader': 2546, 'assistant': 326, 'airport': 167, 'harder': 2035, '1933': 12, 'slap': 4018, 'travels': 4569, 'georges': 1894, 'survival': 4320, 'troubled': 4593, 'presumably': 3380, 'principal': 3398, 'matches': 2764, 'ashley': 313, 'voight': 4764, 'communist': 907, 'commercials': 903, 'dawson': 1128, 'woody': 4936, 'scarecrow': 3804, '1972': 18, 'tame': 4363, 'goodness': 1938, 'blond': 510, 'hippie': 2115, 'hysterical': 2208, 'betty': 474, 'suffice': 4279, 'beloved': 461, 'spots': 4132, 'matched': 2763, 'inappropriate': 2259, 'johnson': 2411, 'resort': 3650, 'revolution': 3680, 'latin': 2527, 'seed': 3856, 'panic': 3181, 'wake': 4774, 'dialogues': 1235, 'gandhi': 1866, 'audio': 354, 'shed': 3924, 'terrorists': 4414, 'oz': 3160, 'doom': 1326, 'massacre': 2754, 'smoke': 4039, 'horrid': 2165, 'defined': 1160, 'wizard': 4919, 'attorney': 348, 'showdown': 3955, 'junior': 2435, 'morris': 2908, 'cd': 728, 'uwe': 4703, 'soccer': 4048, 'museum': 2945, 'partly': 3197, 'reads': 3545, 'robbins': 3712, 'ninja': 3018, 'bitter': 491, 'miike': 2837, 'louise': 2666, 'invasion': 2340, 'cinemas': 817, 'reel': 3581, 'incomprehensible': 2267, 'hung': 2197, 'shining': 3933, 'banned': 395, 'depicts': 1186, 'waves': 4819, 'loaded': 2632, 'boll': 529, 'margaret': 2735, 'chapter': 757, 'gray': 1963, 'facing': 1620, 'cole': 873, 'olivier': 3103, 'depicting': 1184, 'muslim': 2949, 'settle': 3902, 'farm': 1656, 'mars': 2746, 'modesty': 2883, 'kapoor': 2443, 'diane': 1238, 'apes': 267, 'reflection': 3585, 'instinct': 2308, 'slaughter': 4021, 'edie': 1419, 'franco': 1820, 'joey': 2408, 'journalist': 2420, 'domino': 1319, 'columbo': 881, 'blob': 507, 'stale': 4141, 'elvis': 1451, 'sellers': 3872, 'womens': 4924, 'savage': 3793, 'unaware': 4632, 'bettie': 473}\n"
     ]
    }
   ],
   "source": [
    "print(str(vocabulary))"
   ]
  },
  {
   "cell_type": "markdown",
   "metadata": {},
   "source": [
    "Once you have added the endpoint name to the Lambda function, click on **Save**. Your Lambda function is now up and running. Next we need to create a way for our web app to execute the Lambda function."
   ]
  },
  {
   "cell_type": "markdown",
   "metadata": {},
   "source": [
    "### Setting up API Gateway\n",
    "\n",
    "Now that our Lambda function is set up, it is time to create a new API using API Gateway that will trigger the Lambda function we have just created.\n",
    "\n",
    "Using AWS Console, navigate to **Amazon API Gateway** and then click on **Get started**.\n",
    "\n",
    "On the next page, make sure that **New API** is selected and give the new api a name, for example, `sentiment_analysis_web_app`. Then, click on **Create API**.\n",
    "\n",
    "Now we have created an API, however it doesn't currently do anything. What we want it to do is to trigger the Lambda function that we created earlier.\n",
    "\n",
    "Select the **Actions** dropdown menu and click **Create Method**. A new blank method will be created, select its dropdown menu and select **POST**, then click on the check mark beside it.\n",
    "\n",
    "For the integration point, make sure that **Lambda Function** is selected and click on the **Use Lambda Proxy integration**. This option makes sure that the data that is sent to the API is then sent directly to the Lambda function with no processing. It also means that the return value must be a proper response object as it will also not be processed by API Gateway.\n",
    "\n",
    "Type the name of the Lambda function you created earlier into the **Lambda Function** text entry box and then click on **Save**. Click on **OK** in the pop-up box that then appears, giving permission to API Gateway to invoke the Lambda function you created.\n",
    "\n",
    "The last step in creating the API Gateway is to select the **Actions** dropdown and click on **Deploy API**. You will need to create a new Deployment stage and name it anything you like, for example `prod`.\n",
    "\n",
    "You have now successfully set up a public API to access your SageMaker model. Make sure to copy or write down the URL provided to invoke your newly created public API as this will be needed in the next step. This URL can be found at the top of the page, highlighted in blue next to the text **Invoke URL**."
   ]
  },
  {
   "cell_type": "markdown",
   "metadata": {},
   "source": [
    "## Step 7: Deploying our web app\n",
    "\n",
    "Now that we have a publicly available API, we can start using it in a web app. For our purposes, we have provided a simple static html file which can make use of the public api you created earlier.\n",
    "\n",
    "In the `website` folder there should be a file called `index.html`. Download the file to your computer and open that file up in a text editor of your choice. There should be a line which contains **\\*\\*REPLACE WITH PUBLIC API URL\\*\\***. Replace this string with the url that you wrote down in the last step and then save the file.\n",
    "\n",
    "Now, if you open `index.html` on your local computer, your browser will behave as a local web server and you can use the provided site to interact with your SageMaker model.\n",
    "\n",
    "If you'd like to go further, you can host this html file anywhere you'd like, for example using github or hosting a static site on Amazon's S3. Once you have done this you can share the link with anyone you'd like and have them play with it too!\n",
    "\n",
    "> **Important Note** In order for the web app to communicate with the SageMaker endpoint, the endpoint has to actually be deployed and running. This means that you are paying for it. Make sure that the endpoint is running when you want to use the web app but that you shut it down when you don't need it, otherwise you will end up with a surprisingly large AWS bill."
   ]
  },
  {
   "cell_type": "markdown",
   "metadata": {},
   "source": [
    "### Delete the endpoint\n",
    "\n",
    "Remember to always shut down your endpoint if you are no longer using it. You are charged for the length of time that the endpoint is running so if you forget and leave it on you could end up with an unexpectedly large bill."
   ]
  },
  {
   "cell_type": "code",
   "execution_count": 3,
   "metadata": {},
   "outputs": [
    {
     "ename": "NameError",
     "evalue": "name 'xgb_predictor' is not defined",
     "output_type": "error",
     "traceback": [
      "\u001b[0;31m---------------------------------------------------------------------------\u001b[0m",
      "\u001b[0;31mNameError\u001b[0m                                 Traceback (most recent call last)",
      "\u001b[0;32m<ipython-input-3-16a6b43a8b29>\u001b[0m in \u001b[0;36m<module>\u001b[0;34m\u001b[0m\n\u001b[0;32m----> 1\u001b[0;31m \u001b[0mxgb_predictor\u001b[0m\u001b[0;34m.\u001b[0m\u001b[0mdelete_endpoint\u001b[0m\u001b[0;34m(\u001b[0m\u001b[0;34m)\u001b[0m\u001b[0;34m\u001b[0m\u001b[0;34m\u001b[0m\u001b[0m\n\u001b[0m",
      "\u001b[0;31mNameError\u001b[0m: name 'xgb_predictor' is not defined"
     ]
    }
   ],
   "source": [
    "xgb_predictor.delete_endpoint()"
   ]
  },
  {
   "cell_type": "markdown",
   "metadata": {},
   "source": [
    "## Optional: Clean up\n",
    "\n",
    "The default notebook instance on SageMaker doesn't have a lot of excess disk space available. As you continue to complete and execute notebooks you will eventually fill up this disk space, leading to errors which can be difficult to diagnose. Once you are completely finished using a notebook it is a good idea to remove the files that you created along the way. Of course, you can do this from the terminal or from the notebook hub if you would like. The cell below contains some commands to clean up the created files from within the notebook."
   ]
  },
  {
   "cell_type": "code",
   "execution_count": null,
   "metadata": {},
   "outputs": [],
   "source": [
    "# First we will remove all of the files contained in the data_dir directory\n",
    "!rm $data_dir/*\n",
    "\n",
    "# And then we delete the directory itself\n",
    "!rmdir $data_dir\n",
    "\n",
    "# Similarly we remove the files in the cache_dir directory and the directory itself\n",
    "!rm $cache_dir/*\n",
    "!rmdir $cache_dir"
   ]
  },
  {
   "cell_type": "code",
   "execution_count": null,
   "metadata": {},
   "outputs": [],
   "source": []
  }
 ],
 "metadata": {
  "kernelspec": {
   "display_name": "conda_python3",
   "language": "python",
   "name": "conda_python3"
  },
  "language_info": {
   "codemirror_mode": {
    "name": "ipython",
    "version": 3
   },
   "file_extension": ".py",
   "mimetype": "text/x-python",
   "name": "python",
   "nbconvert_exporter": "python",
   "pygments_lexer": "ipython3",
   "version": "3.6.10"
  }
 },
 "nbformat": 4,
 "nbformat_minor": 2
}
